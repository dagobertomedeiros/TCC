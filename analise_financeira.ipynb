{
 "cells": [
  {
   "cell_type": "code",
   "execution_count": 50,
   "id": "07283c94",
   "metadata": {},
   "outputs": [],
   "source": [
    "import pandas as pd\n",
    "import numpy as np\n",
    "from pandas_datareader import data as wb\n",
    "import matplotlib.pyplot as plt\n",
    "from sklearn.preprocessing import MinMaxScaler\n",
    "from statsmodels.tsa.seasonal import seasonal_decompose\n",
    "from statsmodels.tsa.seasonal import STL\n",
    "from statsmodels.tsa.stattools import adfuller\n",
    "from matplotlib.pylab import rcParams\n",
    "import time\n",
    "rcParams['figure.figsize'] = 15, 6"
   ]
  },
  {
   "cell_type": "code",
   "execution_count": 5,
   "id": "229bb144",
   "metadata": {},
   "outputs": [],
   "source": [
    "#data = wb.DataReader('PETR4.SA', data_source='yahoo', start='2000-1-1')"
   ]
  },
  {
   "cell_type": "code",
   "execution_count": 2,
   "id": "77ae061e",
   "metadata": {},
   "outputs": [],
   "source": [
    "sheet = pd.read_excel('EMPRESAS_B3_09-07-21.xlsx', sheet_name='Página1')"
   ]
  },
  {
   "cell_type": "code",
   "execution_count": 136,
   "id": "d53cf0d6",
   "metadata": {},
   "outputs": [],
   "source": [
    "list_df = []\n",
    "list_error = []"
   ]
  },
  {
   "cell_type": "code",
   "execution_count": 139,
   "id": "1e9a4903",
   "metadata": {},
   "outputs": [
    {
     "data": {
      "text/plain": [
       "538"
      ]
     },
     "execution_count": 139,
     "metadata": {},
     "output_type": "execute_result"
    }
   ],
   "source": [
    "tikers = sheet['TICK_API']\n",
    "len(tikers)"
   ]
  },
  {
   "cell_type": "markdown",
   "id": "a0b5a5f1",
   "metadata": {},
   "source": [
    "#### Coletando os dados na api"
   ]
  },
  {
   "cell_type": "code",
   "execution_count": 140,
   "id": "7c69e7b9",
   "metadata": {},
   "outputs": [],
   "source": [
    "for i in range(0, 40): #len(sheet)):\n",
    "    try:\n",
    "        list_df.append(wb.get_data_yahoo(str(tikers[i]), start='2000-1-1', interval=\"m\"))\n",
    "        list_df[len(list_df)-1]['Ticker'] = tikers[i]\n",
    "    except:\n",
    "        list_error.append(tikers[i])\n",
    "        pass"
   ]
  },
  {
   "cell_type": "code",
   "execution_count": 141,
   "id": "3a4a1f40",
   "metadata": {},
   "outputs": [],
   "source": [
    "#removendo valores zerados e ausentes\n",
    "for i in range(0, len(list_df)):\n",
    "    try:\n",
    "        list_df[i].replace(0, np.nan, inplace=True)\n",
    "        list_df[i] = list_df[i].dropna()\n",
    "    except:\n",
    "        pass"
   ]
  },
  {
   "cell_type": "code",
   "execution_count": 142,
   "id": "0b3bfaae",
   "metadata": {},
   "outputs": [],
   "source": [
    "#adicionando coluna de media\n",
    "for i in range(0, len(list_df)):\n",
    "    list_df[i]['Avg'] = ((list_df[i].loc[:, 'High']+list_df[i].loc[:, 'Low']) / 2.0)"
   ]
  },
  {
   "cell_type": "code",
   "execution_count": 143,
   "id": "287d8a4f",
   "metadata": {},
   "outputs": [],
   "source": [
    "#ordenando indices\n",
    "for i in range(0, len(list_df)):\n",
    "    list_df[i].sort_index()"
   ]
  },
  {
   "cell_type": "code",
   "execution_count": 144,
   "id": "b846b787",
   "metadata": {},
   "outputs": [],
   "source": [
    "df_concat = pd.DataFrame()\n",
    "df_concat = list_df[0]"
   ]
  },
  {
   "cell_type": "code",
   "execution_count": 160,
   "id": "e75219e2",
   "metadata": {},
   "outputs": [],
   "source": [
    "#exportando excel\n",
    "for i in range(1, len(list_df)):\n",
    "    df_concat = pd.concat([df_concat, list_df[i]])\n",
    "df_concat.to_excel('dados_b3.xlsx')"
   ]
  },
  {
   "cell_type": "code",
   "execution_count": 163,
   "id": "705b62c6",
   "metadata": {},
   "outputs": [],
   "source": [
    "def adf_test(y):\n",
    "  print('Resultado do teste de Dick-Fuller:')\n",
    "  dftest = adfuller(y, autolag='AIC')\n",
    "  dfoutput = pd.Series(dftest[0:4], index=['Teste', 'Valor P', '# de lags', '# de observações'])\n",
    "  for key, value in dftest[4].items():\n",
    "    dfoutput['Valor crítico({})'.format(key)] = value\n",
    "  print(dfoutput)"
   ]
  },
  {
   "cell_type": "code",
   "execution_count": 183,
   "id": "1961cc59",
   "metadata": {},
   "outputs": [
    {
     "data": {
      "text/html": [
       "<div>\n",
       "<style scoped>\n",
       "    .dataframe tbody tr th:only-of-type {\n",
       "        vertical-align: middle;\n",
       "    }\n",
       "\n",
       "    .dataframe tbody tr th {\n",
       "        vertical-align: top;\n",
       "    }\n",
       "\n",
       "    .dataframe thead th {\n",
       "        text-align: right;\n",
       "    }\n",
       "</style>\n",
       "<table border=\"1\" class=\"dataframe\">\n",
       "  <thead>\n",
       "    <tr style=\"text-align: right;\">\n",
       "      <th></th>\n",
       "      <th>High</th>\n",
       "      <th>Low</th>\n",
       "      <th>Open</th>\n",
       "      <th>Close</th>\n",
       "      <th>Volume</th>\n",
       "      <th>Adj Close</th>\n",
       "      <th>Ticker</th>\n",
       "      <th>Avg</th>\n",
       "    </tr>\n",
       "    <tr>\n",
       "      <th>Date</th>\n",
       "      <th></th>\n",
       "      <th></th>\n",
       "      <th></th>\n",
       "      <th></th>\n",
       "      <th></th>\n",
       "      <th></th>\n",
       "      <th></th>\n",
       "      <th></th>\n",
       "    </tr>\n",
       "  </thead>\n",
       "  <tbody>\n",
       "    <tr>\n",
       "      <th>2000-02-01</th>\n",
       "      <td>0.520882</td>\n",
       "      <td>0.468107</td>\n",
       "      <td>0.501104</td>\n",
       "      <td>0.468107</td>\n",
       "      <td>45723.0</td>\n",
       "      <td>0.300319</td>\n",
       "      <td>ABEV3.SA</td>\n",
       "      <td>0.494495</td>\n",
       "    </tr>\n",
       "    <tr>\n",
       "      <th>2000-03-01</th>\n",
       "      <td>0.606585</td>\n",
       "      <td>0.468107</td>\n",
       "      <td>0.468107</td>\n",
       "      <td>0.606585</td>\n",
       "      <td>235537.0</td>\n",
       "      <td>0.389161</td>\n",
       "      <td>ABEV3.SA</td>\n",
       "      <td>0.537346</td>\n",
       "    </tr>\n",
       "  </tbody>\n",
       "</table>\n",
       "</div>"
      ],
      "text/plain": [
       "                High       Low      Open     Close    Volume  Adj Close  \\\n",
       "Date                                                                      \n",
       "2000-02-01  0.520882  0.468107  0.501104  0.468107   45723.0   0.300319   \n",
       "2000-03-01  0.606585  0.468107  0.468107  0.606585  235537.0   0.389161   \n",
       "\n",
       "              Ticker       Avg  \n",
       "Date                            \n",
       "2000-02-01  ABEV3.SA  0.494495  \n",
       "2000-03-01  ABEV3.SA  0.537346  "
      ]
     },
     "execution_count": 183,
     "metadata": {},
     "output_type": "execute_result"
    }
   ],
   "source": [
    "list_df[2].head(2)"
   ]
  },
  {
   "cell_type": "code",
   "execution_count": 184,
   "id": "8df33ff3",
   "metadata": {},
   "outputs": [],
   "source": [
    "y = list_df[2]['Avg']"
   ]
  },
  {
   "cell_type": "code",
   "execution_count": 185,
   "id": "517fccbe",
   "metadata": {},
   "outputs": [
    {
     "name": "stdout",
     "output_type": "stream",
     "text": [
      "Resultado do teste de Dick-Fuller:\n",
      "Teste                  -0.997162\n",
      "Valor P                 0.754298\n",
      "# de lags              13.000000\n",
      "# de observações      247.000000\n",
      "Valor crítico(1%)      -3.457105\n",
      "Valor crítico(5%)      -2.873314\n",
      "Valor crítico(10%)     -2.573044\n",
      "dtype: float64\n"
     ]
    }
   ],
   "source": [
    "adf_test(y)"
   ]
  },
  {
   "cell_type": "code",
   "execution_count": 186,
   "id": "54bb2a01",
   "metadata": {},
   "outputs": [],
   "source": [
    "rolmean = y.rolling(window=12).mean()\n",
    "rolstd = y.rolling(window=12).std()"
   ]
  },
  {
   "cell_type": "code",
   "execution_count": 187,
   "id": "7bd294dc",
   "metadata": {},
   "outputs": [
    {
     "data": {
      "text/plain": [
       "[<matplotlib.lines.Line2D at 0x18652505a30>]"
      ]
     },
     "execution_count": 187,
     "metadata": {},
     "output_type": "execute_result"
    },
    {
     "data": {
      "image/png": "[encoded data removed]",
      "text/plain": [
       "<Figure size 1080x432 with 1 Axes>"
      ]
     },
     "metadata": {
      "needs_background": "light"
     },
     "output_type": "display_data"
    }
   ],
   "source": [
    "indexedDataSet_logScale = np.log(y)\n",
    "plt.plot(indexedDataSet_logScale)"
   ]
  },
  {
   "cell_type": "code",
   "execution_count": 188,
   "id": "15468d15",
   "metadata": {},
   "outputs": [
    {
     "data": {
      "text/plain": [
       "[<matplotlib.lines.Line2D at 0x18652505a90>]"
      ]
     },
     "execution_count": 188,
     "metadata": {},
     "output_type": "execute_result"
    },
    {
     "data": {
      "image/png": "[encoded data removed]",
      "text/plain": [
       "<Figure size 1080x432 with 1 Axes>"
      ]
     },
     "metadata": {
      "needs_background": "light"
     },
     "output_type": "display_data"
    }
   ],
   "source": [
    "movingAverage = indexedDataSet_logScale.rolling(window=12).mean()\n",
    "movingStd = indexedDataSet_logScale.rolling(window=12).std()\n",
    "plt.plot(indexedDataSet_logScale)\n",
    "plt.plot(movingAverage, color='red')"
   ]
  },
  {
   "cell_type": "code",
   "execution_count": 189,
   "id": "e3681c3c",
   "metadata": {},
   "outputs": [
    {
     "data": {
      "text/plain": [
       "Date\n",
       "2000-02-01   NaN\n",
       "2000-03-01   NaN\n",
       "2000-04-01   NaN\n",
       "2000-05-01   NaN\n",
       "2000-06-01   NaN\n",
       "Name: Avg, dtype: float64"
      ]
     },
     "execution_count": 189,
     "metadata": {},
     "output_type": "execute_result"
    }
   ],
   "source": [
    "datasetLogScaleMinusMovingAverage = indexedDataSet_logScale - movingAverage\n",
    "datasetLogScaleMinusMovingAverage.head()"
   ]
  },
  {
   "cell_type": "code",
   "execution_count": 192,
   "id": "1a1c548d",
   "metadata": {},
   "outputs": [
    {
     "data": {
      "text/plain": [
       "Date\n",
       "2001-01-01    0.613028\n",
       "2001-02-01    0.552896\n",
       "2001-03-01    0.458162\n",
       "2001-04-01    0.364237\n",
       "2001-05-01    0.314078\n",
       "Name: Avg, dtype: float64"
      ]
     },
     "execution_count": 192,
     "metadata": {},
     "output_type": "execute_result"
    }
   ],
   "source": [
    "datasetLogScaleMinusMovingAverage.dropna(inplace=True) #remover os valores ausentes\n",
    "datasetLogScaleMinusMovingAverage.head()"
   ]
  },
  {
   "cell_type": "code",
   "execution_count": 193,
   "id": "a43e2902",
   "metadata": {},
   "outputs": [
    {
     "name": "stdout",
     "output_type": "stream",
     "text": [
      "Resultado do teste de Dick-Fuller:\n",
      "Teste                -5.723917e+00\n",
      "Valor P               6.840625e-07\n",
      "# de lags             5.000000e+00\n",
      "# de observações      2.440000e+02\n",
      "Valor crítico(1%)    -3.457438e+00\n",
      "Valor crítico(5%)    -2.873459e+00\n",
      "Valor crítico(10%)   -2.573122e+00\n",
      "dtype: float64\n"
     ]
    }
   ],
   "source": [
    "adf_test(datasetLogScaleMinusMovingAverage)"
   ]
  },
  {
   "cell_type": "code",
   "execution_count": 194,
   "id": "a2996eaf",
   "metadata": {
    "scrolled": true
   },
   "outputs": [],
   "source": [
    "#list_df[0].head(2).round(2).sort_values(ascending=True, by='High' )"
   ]
  },
  {
   "cell_type": "code",
   "execution_count": null,
   "id": "cbdb4e95",
   "metadata": {},
   "outputs": [
    {
     "name": "stderr",
     "output_type": "stream",
     "text": [
      "C:\\Users\\DAGOBE~1\\AppData\\Local\\Temp/ipykernel_5776/157007606.py:1: FutureWarning: the 'freq'' keyword is deprecated, use 'period' instead\n",
      "  result = seasonal_decompose(datasetLogScaleMinusMovingAverage, freq=12, model='aditive')\n"
     ]
    }
   ],
   "source": [
    "result = seasonal_decompose(datasetLogScaleMinusMovingAverage, freq=12, model='aditive')\n",
    "result.plot()\n",
    "plt.show()"
   ]
  },
  {
   "cell_type": "code",
   "execution_count": 178,
   "id": "54a938d9",
   "metadata": {},
   "outputs": [],
   "source": [
    "dfSTL = datasetLogScaleMinusMovingAverage"
   ]
  },
  {
   "cell_type": "code",
   "execution_count": 179,
   "id": "6400170e",
   "metadata": {},
   "outputs": [
    {
     "data": {
      "text/html": [
       "<div>\n",
       "<style scoped>\n",
       "    .dataframe tbody tr th:only-of-type {\n",
       "        vertical-align: middle;\n",
       "    }\n",
       "\n",
       "    .dataframe tbody tr th {\n",
       "        vertical-align: top;\n",
       "    }\n",
       "\n",
       "    .dataframe thead th {\n",
       "        text-align: right;\n",
       "    }\n",
       "</style>\n",
       "<table border=\"1\" class=\"dataframe\">\n",
       "  <thead>\n",
       "    <tr style=\"text-align: right;\">\n",
       "      <th></th>\n",
       "      <th>Avg</th>\n",
       "    </tr>\n",
       "    <tr>\n",
       "      <th>Date</th>\n",
       "      <th></th>\n",
       "    </tr>\n",
       "  </thead>\n",
       "  <tbody>\n",
       "    <tr>\n",
       "      <th>2017-10-01</th>\n",
       "      <td>0.048179</td>\n",
       "    </tr>\n",
       "    <tr>\n",
       "      <th>2017-11-01</th>\n",
       "      <td>-0.011714</td>\n",
       "    </tr>\n",
       "    <tr>\n",
       "      <th>2017-12-01</th>\n",
       "      <td>-0.083451</td>\n",
       "    </tr>\n",
       "    <tr>\n",
       "      <th>2018-01-01</th>\n",
       "      <td>-0.072873</td>\n",
       "    </tr>\n",
       "    <tr>\n",
       "      <th>2018-02-01</th>\n",
       "      <td>-0.048531</td>\n",
       "    </tr>\n",
       "  </tbody>\n",
       "</table>\n",
       "</div>"
      ],
      "text/plain": [
       "                 Avg\n",
       "Date                \n",
       "2017-10-01  0.048179\n",
       "2017-11-01 -0.011714\n",
       "2017-12-01 -0.083451\n",
       "2018-01-01 -0.072873\n",
       "2018-02-01 -0.048531"
      ]
     },
     "execution_count": 179,
     "metadata": {},
     "output_type": "execute_result"
    }
   ],
   "source": [
    "dfSTL = pd.DataFrame(dfSTL)\n",
    "dfSTL.head()"
   ]
  },
  {
   "cell_type": "code",
   "execution_count": 180,
   "id": "1c476301",
   "metadata": {},
   "outputs": [
    {
     "data": {
      "text/html": [
       "<div>\n",
       "<style scoped>\n",
       "    .dataframe tbody tr th:only-of-type {\n",
       "        vertical-align: middle;\n",
       "    }\n",
       "\n",
       "    .dataframe tbody tr th {\n",
       "        vertical-align: top;\n",
       "    }\n",
       "\n",
       "    .dataframe thead th {\n",
       "        text-align: right;\n",
       "    }\n",
       "</style>\n",
       "<table border=\"1\" class=\"dataframe\">\n",
       "  <thead>\n",
       "    <tr style=\"text-align: right;\">\n",
       "      <th></th>\n",
       "      <th>Avg</th>\n",
       "    </tr>\n",
       "    <tr>\n",
       "      <th>Date</th>\n",
       "      <th></th>\n",
       "    </tr>\n",
       "  </thead>\n",
       "  <tbody>\n",
       "    <tr>\n",
       "      <th>2017-10-01</th>\n",
       "      <td>0.048179</td>\n",
       "    </tr>\n",
       "    <tr>\n",
       "      <th>2017-11-01</th>\n",
       "      <td>-0.011714</td>\n",
       "    </tr>\n",
       "    <tr>\n",
       "      <th>2017-12-01</th>\n",
       "      <td>-0.083451</td>\n",
       "    </tr>\n",
       "    <tr>\n",
       "      <th>2018-01-01</th>\n",
       "      <td>-0.072873</td>\n",
       "    </tr>\n",
       "    <tr>\n",
       "      <th>2018-02-01</th>\n",
       "      <td>-0.048531</td>\n",
       "    </tr>\n",
       "    <tr>\n",
       "      <th>2018-03-01</th>\n",
       "      <td>-0.001278</td>\n",
       "    </tr>\n",
       "    <tr>\n",
       "      <th>2018-04-01</th>\n",
       "      <td>-0.061455</td>\n",
       "    </tr>\n",
       "    <tr>\n",
       "      <th>2018-05-01</th>\n",
       "      <td>-0.121528</td>\n",
       "    </tr>\n",
       "    <tr>\n",
       "      <th>2018-06-01</th>\n",
       "      <td>-0.185702</td>\n",
       "    </tr>\n",
       "    <tr>\n",
       "      <th>2018-07-01</th>\n",
       "      <td>-0.138332</td>\n",
       "    </tr>\n",
       "    <tr>\n",
       "      <th>2018-08-01</th>\n",
       "      <td>-0.150203</td>\n",
       "    </tr>\n",
       "    <tr>\n",
       "      <th>2018-09-01</th>\n",
       "      <td>-0.177715</td>\n",
       "    </tr>\n",
       "    <tr>\n",
       "      <th>2018-10-01</th>\n",
       "      <td>-0.144070</td>\n",
       "    </tr>\n",
       "    <tr>\n",
       "      <th>2018-11-01</th>\n",
       "      <td>-0.119743</td>\n",
       "    </tr>\n",
       "    <tr>\n",
       "      <th>2018-12-01</th>\n",
       "      <td>-0.022660</td>\n",
       "    </tr>\n",
       "    <tr>\n",
       "      <th>2019-01-01</th>\n",
       "      <td>0.061850</td>\n",
       "    </tr>\n",
       "    <tr>\n",
       "      <th>2019-02-01</th>\n",
       "      <td>0.137863</td>\n",
       "    </tr>\n",
       "    <tr>\n",
       "      <th>2019-03-01</th>\n",
       "      <td>0.122094</td>\n",
       "    </tr>\n",
       "    <tr>\n",
       "      <th>2019-04-01</th>\n",
       "      <td>0.091100</td>\n",
       "    </tr>\n",
       "    <tr>\n",
       "      <th>2019-05-01</th>\n",
       "      <td>0.073558</td>\n",
       "    </tr>\n",
       "    <tr>\n",
       "      <th>2019-06-01</th>\n",
       "      <td>0.014460</td>\n",
       "    </tr>\n",
       "    <tr>\n",
       "      <th>2019-07-01</th>\n",
       "      <td>0.091289</td>\n",
       "    </tr>\n",
       "    <tr>\n",
       "      <th>2019-08-01</th>\n",
       "      <td>0.181832</td>\n",
       "    </tr>\n",
       "    <tr>\n",
       "      <th>2019-09-01</th>\n",
       "      <td>0.264625</td>\n",
       "    </tr>\n",
       "    <tr>\n",
       "      <th>2019-10-01</th>\n",
       "      <td>0.172478</td>\n",
       "    </tr>\n",
       "    <tr>\n",
       "      <th>2019-11-01</th>\n",
       "      <td>0.156086</td>\n",
       "    </tr>\n",
       "    <tr>\n",
       "      <th>2019-12-01</th>\n",
       "      <td>0.127165</td>\n",
       "    </tr>\n",
       "    <tr>\n",
       "      <th>2020-01-01</th>\n",
       "      <td>0.229113</td>\n",
       "    </tr>\n",
       "    <tr>\n",
       "      <th>2020-02-01</th>\n",
       "      <td>0.182174</td>\n",
       "    </tr>\n",
       "    <tr>\n",
       "      <th>2020-03-01</th>\n",
       "      <td>-0.136820</td>\n",
       "    </tr>\n",
       "    <tr>\n",
       "      <th>2020-04-01</th>\n",
       "      <td>-0.502080</td>\n",
       "    </tr>\n",
       "    <tr>\n",
       "      <th>2020-05-01</th>\n",
       "      <td>-0.527434</td>\n",
       "    </tr>\n",
       "    <tr>\n",
       "      <th>2020-06-01</th>\n",
       "      <td>-0.272621</td>\n",
       "    </tr>\n",
       "    <tr>\n",
       "      <th>2020-07-01</th>\n",
       "      <td>-0.319728</td>\n",
       "    </tr>\n",
       "    <tr>\n",
       "      <th>2020-08-01</th>\n",
       "      <td>-0.242594</td>\n",
       "    </tr>\n",
       "    <tr>\n",
       "      <th>2020-09-01</th>\n",
       "      <td>-0.201211</td>\n",
       "    </tr>\n",
       "    <tr>\n",
       "      <th>2020-10-01</th>\n",
       "      <td>-0.251145</td>\n",
       "    </tr>\n",
       "    <tr>\n",
       "      <th>2020-11-01</th>\n",
       "      <td>-0.187853</td>\n",
       "    </tr>\n",
       "    <tr>\n",
       "      <th>2020-12-01</th>\n",
       "      <td>-0.057089</td>\n",
       "    </tr>\n",
       "    <tr>\n",
       "      <th>2021-01-01</th>\n",
       "      <td>-0.062314</td>\n",
       "    </tr>\n",
       "    <tr>\n",
       "      <th>2021-02-01</th>\n",
       "      <td>-0.071174</td>\n",
       "    </tr>\n",
       "    <tr>\n",
       "      <th>2021-03-01</th>\n",
       "      <td>-0.147640</td>\n",
       "    </tr>\n",
       "    <tr>\n",
       "      <th>2021-04-01</th>\n",
       "      <td>-0.141049</td>\n",
       "    </tr>\n",
       "    <tr>\n",
       "      <th>2021-05-01</th>\n",
       "      <td>-0.010427</td>\n",
       "    </tr>\n",
       "    <tr>\n",
       "      <th>2021-06-01</th>\n",
       "      <td>0.108211</td>\n",
       "    </tr>\n",
       "    <tr>\n",
       "      <th>2021-07-01</th>\n",
       "      <td>0.063594</td>\n",
       "    </tr>\n",
       "    <tr>\n",
       "      <th>2021-08-01</th>\n",
       "      <td>0.144849</td>\n",
       "    </tr>\n",
       "    <tr>\n",
       "      <th>2021-09-01</th>\n",
       "      <td>0.108225</td>\n",
       "    </tr>\n",
       "    <tr>\n",
       "      <th>2021-10-01</th>\n",
       "      <td>0.093553</td>\n",
       "    </tr>\n",
       "  </tbody>\n",
       "</table>\n",
       "</div>"
      ],
      "text/plain": [
       "                 Avg\n",
       "Date                \n",
       "2017-10-01  0.048179\n",
       "2017-11-01 -0.011714\n",
       "2017-12-01 -0.083451\n",
       "2018-01-01 -0.072873\n",
       "2018-02-01 -0.048531\n",
       "2018-03-01 -0.001278\n",
       "2018-04-01 -0.061455\n",
       "2018-05-01 -0.121528\n",
       "2018-06-01 -0.185702\n",
       "2018-07-01 -0.138332\n",
       "2018-08-01 -0.150203\n",
       "2018-09-01 -0.177715\n",
       "2018-10-01 -0.144070\n",
       "2018-11-01 -0.119743\n",
       "2018-12-01 -0.022660\n",
       "2019-01-01  0.061850\n",
       "2019-02-01  0.137863\n",
       "2019-03-01  0.122094\n",
       "2019-04-01  0.091100\n",
       "2019-05-01  0.073558\n",
       "2019-06-01  0.014460\n",
       "2019-07-01  0.091289\n",
       "2019-08-01  0.181832\n",
       "2019-09-01  0.264625\n",
       "2019-10-01  0.172478\n",
       "2019-11-01  0.156086\n",
       "2019-12-01  0.127165\n",
       "2020-01-01  0.229113\n",
       "2020-02-01  0.182174\n",
       "2020-03-01 -0.136820\n",
       "2020-04-01 -0.502080\n",
       "2020-05-01 -0.527434\n",
       "2020-06-01 -0.272621\n",
       "2020-07-01 -0.319728\n",
       "2020-08-01 -0.242594\n",
       "2020-09-01 -0.201211\n",
       "2020-10-01 -0.251145\n",
       "2020-11-01 -0.187853\n",
       "2020-12-01 -0.057089\n",
       "2021-01-01 -0.062314\n",
       "2021-02-01 -0.071174\n",
       "2021-03-01 -0.147640\n",
       "2021-04-01 -0.141049\n",
       "2021-05-01 -0.010427\n",
       "2021-06-01  0.108211\n",
       "2021-07-01  0.063594\n",
       "2021-08-01  0.144849\n",
       "2021-09-01  0.108225\n",
       "2021-10-01  0.093553"
      ]
     },
     "execution_count": 180,
     "metadata": {},
     "output_type": "execute_result"
    }
   ],
   "source": [
    "dfSTL.asfreq('MS')"
   ]
  },
  {
   "cell_type": "code",
   "execution_count": 181,
   "id": "0b0bb3a1",
   "metadata": {},
   "outputs": [
    {
     "data": {
      "image/png": "[encoded data removed]",
      "text/plain": [
       "<Figure size 1080x432 with 4 Axes>"
      ]
     },
     "metadata": {
      "needs_background": "light"
     },
     "output_type": "display_data"
    }
   ],
   "source": [
    "resultSTL = STL(dfSTL, robust=True, period=12).fit()\n",
    "resultSTL.plot()\n",
    "plt.show()"
   ]
  },
  {
   "cell_type": "code",
   "execution_count": 44,
   "id": "b6614cd2",
   "metadata": {},
   "outputs": [],
   "source": [
    "resultSTL.seasonal.to_excel('resultSTL.xlsx')"
   ]
  },
  {
   "cell_type": "code",
   "execution_count": 45,
   "id": "03cdee29",
   "metadata": {},
   "outputs": [],
   "source": [
    "result.seasonal.to_excel('resultClassic.xlsx')"
   ]
  },
  {
   "cell_type": "code",
   "execution_count": null,
   "id": "2645b93c",
   "metadata": {},
   "outputs": [],
   "source": []
  }
 ],
 "metadata": {
  "kernelspec": {
   "display_name": "Python 3 (ipykernel)",
   "language": "python",
   "name": "python3"
  },
  "language_info": {
   "codemirror_mode": {
    "name": "ipython",
    "version": 3
   },
   "file_extension": ".py",
   "mimetype": "text/x-python",
   "name": "python",
   "nbconvert_exporter": "python",
   "pygments_lexer": "ipython3",
   "version": "3.8.11"
  }
 },
 "nbformat": 4,
 "nbformat_minor": 5
}

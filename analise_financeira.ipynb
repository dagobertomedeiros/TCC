{
 "cells": [
  {
   "cell_type": "code",
   "execution_count": 3,
   "id": "07283c94",
   "metadata": {},
   "outputs": [],
   "source": [
    "import pandas as pd\n",
    "import numpy as np\n",
    "from pandas_datareader import data as wb\n",
    "import matplotlib.pyplot as plt\n",
    "from keras.models import Sequential\n",
    "from keras.layers import Dense, Dropout\n",
    "from sklearn.preprocessing import MinMaxScaler\n",
    "from statsmodels.tsa.seasonal import seasonal_decompose"
   ]
  },
  {
   "cell_type": "code",
   "execution_count": 19,
   "id": "229bb144",
   "metadata": {},
   "outputs": [],
   "source": [
    "data = wb.DataReader('PETR4.SA', data_source='yahoo', start='2000-1-1')"
   ]
  },
  {
   "cell_type": "code",
   "execution_count": 20,
   "id": "f06148ad",
   "metadata": {},
   "outputs": [
    {
     "data": {
      "text/html": [
       "<div>\n",
       "<style scoped>\n",
       "    .dataframe tbody tr th:only-of-type {\n",
       "        vertical-align: middle;\n",
       "    }\n",
       "\n",
       "    .dataframe tbody tr th {\n",
       "        vertical-align: top;\n",
       "    }\n",
       "\n",
       "    .dataframe thead th {\n",
       "        text-align: right;\n",
       "    }\n",
       "</style>\n",
       "<table border=\"1\" class=\"dataframe\">\n",
       "  <thead>\n",
       "    <tr style=\"text-align: right;\">\n",
       "      <th></th>\n",
       "      <th>High</th>\n",
       "      <th>Low</th>\n",
       "      <th>Open</th>\n",
       "      <th>Close</th>\n",
       "      <th>Volume</th>\n",
       "      <th>Adj Close</th>\n",
       "    </tr>\n",
       "    <tr>\n",
       "      <th>Date</th>\n",
       "      <th></th>\n",
       "      <th></th>\n",
       "      <th></th>\n",
       "      <th></th>\n",
       "      <th></th>\n",
       "      <th></th>\n",
       "    </tr>\n",
       "  </thead>\n",
       "  <tbody>\n",
       "    <tr>\n",
       "      <th>2021-09-13</th>\n",
       "      <td>26.389999</td>\n",
       "      <td>25.639999</td>\n",
       "      <td>25.799999</td>\n",
       "      <td>26.230000</td>\n",
       "      <td>63317900.0</td>\n",
       "      <td>26.230000</td>\n",
       "    </tr>\n",
       "    <tr>\n",
       "      <th>2021-09-14</th>\n",
       "      <td>26.250000</td>\n",
       "      <td>25.719999</td>\n",
       "      <td>25.950001</td>\n",
       "      <td>25.879999</td>\n",
       "      <td>65497300.0</td>\n",
       "      <td>25.879999</td>\n",
       "    </tr>\n",
       "    <tr>\n",
       "      <th>2021-09-15</th>\n",
       "      <td>26.459999</td>\n",
       "      <td>25.870001</td>\n",
       "      <td>26.000000</td>\n",
       "      <td>26.330000</td>\n",
       "      <td>67274100.0</td>\n",
       "      <td>26.330000</td>\n",
       "    </tr>\n",
       "    <tr>\n",
       "      <th>2021-09-16</th>\n",
       "      <td>26.240000</td>\n",
       "      <td>25.510000</td>\n",
       "      <td>26.080000</td>\n",
       "      <td>26.100000</td>\n",
       "      <td>65567700.0</td>\n",
       "      <td>26.100000</td>\n",
       "    </tr>\n",
       "    <tr>\n",
       "      <th>2021-09-17</th>\n",
       "      <td>26.020000</td>\n",
       "      <td>24.770000</td>\n",
       "      <td>25.969999</td>\n",
       "      <td>24.930000</td>\n",
       "      <td>131694100.0</td>\n",
       "      <td>24.930000</td>\n",
       "    </tr>\n",
       "  </tbody>\n",
       "</table>\n",
       "</div>"
      ],
      "text/plain": [
       "                 High        Low       Open      Close       Volume  Adj Close\n",
       "Date                                                                          \n",
       "2021-09-13  26.389999  25.639999  25.799999  26.230000   63317900.0  26.230000\n",
       "2021-09-14  26.250000  25.719999  25.950001  25.879999   65497300.0  25.879999\n",
       "2021-09-15  26.459999  25.870001  26.000000  26.330000   67274100.0  26.330000\n",
       "2021-09-16  26.240000  25.510000  26.080000  26.100000   65567700.0  26.100000\n",
       "2021-09-17  26.020000  24.770000  25.969999  24.930000  131694100.0  24.930000"
      ]
     },
     "execution_count": 20,
     "metadata": {},
     "output_type": "execute_result"
    }
   ],
   "source": [
    "data.tail()"
   ]
  },
  {
   "cell_type": "code",
   "execution_count": 4,
   "id": "2582d4e6",
   "metadata": {},
   "outputs": [],
   "source": [
    "db = wb.get_data_yahoo('VALE3.SA', start='2000-1-1', interval=\"m\")"
   ]
  },
  {
   "cell_type": "code",
   "execution_count": 5,
   "id": "5128d114",
   "metadata": {},
   "outputs": [],
   "source": [
    "db['avg'] = (db.Open + db.Close) / 2"
   ]
  },
  {
   "cell_type": "code",
   "execution_count": 6,
   "id": "616cac68",
   "metadata": {},
   "outputs": [
    {
     "data": {
      "text/html": [
       "<div>\n",
       "<style scoped>\n",
       "    .dataframe tbody tr th:only-of-type {\n",
       "        vertical-align: middle;\n",
       "    }\n",
       "\n",
       "    .dataframe tbody tr th {\n",
       "        vertical-align: top;\n",
       "    }\n",
       "\n",
       "    .dataframe thead th {\n",
       "        text-align: right;\n",
       "    }\n",
       "</style>\n",
       "<table border=\"1\" class=\"dataframe\">\n",
       "  <thead>\n",
       "    <tr style=\"text-align: right;\">\n",
       "      <th></th>\n",
       "      <th>High</th>\n",
       "      <th>Low</th>\n",
       "      <th>Open</th>\n",
       "      <th>Close</th>\n",
       "      <th>Volume</th>\n",
       "      <th>Adj Close</th>\n",
       "      <th>avg</th>\n",
       "    </tr>\n",
       "    <tr>\n",
       "      <th>Date</th>\n",
       "      <th></th>\n",
       "      <th></th>\n",
       "      <th></th>\n",
       "      <th></th>\n",
       "      <th></th>\n",
       "      <th></th>\n",
       "      <th></th>\n",
       "    </tr>\n",
       "  </thead>\n",
       "  <tbody>\n",
       "    <tr>\n",
       "      <th>2000-02-01</th>\n",
       "      <td>4.37</td>\n",
       "      <td>3.40</td>\n",
       "      <td>3.92</td>\n",
       "      <td>3.40</td>\n",
       "      <td>19968000.0</td>\n",
       "      <td>2.00</td>\n",
       "      <td>3.66</td>\n",
       "    </tr>\n",
       "    <tr>\n",
       "      <th>2000-03-01</th>\n",
       "      <td>3.42</td>\n",
       "      <td>2.75</td>\n",
       "      <td>3.40</td>\n",
       "      <td>3.33</td>\n",
       "      <td>32337600.0</td>\n",
       "      <td>1.96</td>\n",
       "      <td>3.37</td>\n",
       "    </tr>\n",
       "    <tr>\n",
       "      <th>2000-04-01</th>\n",
       "      <td>3.42</td>\n",
       "      <td>2.92</td>\n",
       "      <td>3.32</td>\n",
       "      <td>3.33</td>\n",
       "      <td>34152000.0</td>\n",
       "      <td>1.96</td>\n",
       "      <td>3.32</td>\n",
       "    </tr>\n",
       "    <tr>\n",
       "      <th>2000-05-01</th>\n",
       "      <td>3.54</td>\n",
       "      <td>3.17</td>\n",
       "      <td>3.33</td>\n",
       "      <td>3.48</td>\n",
       "      <td>37286400.0</td>\n",
       "      <td>2.05</td>\n",
       "      <td>3.41</td>\n",
       "    </tr>\n",
       "    <tr>\n",
       "      <th>2000-06-01</th>\n",
       "      <td>3.83</td>\n",
       "      <td>3.33</td>\n",
       "      <td>3.42</td>\n",
       "      <td>3.75</td>\n",
       "      <td>32232000.0</td>\n",
       "      <td>2.21</td>\n",
       "      <td>3.58</td>\n",
       "    </tr>\n",
       "  </tbody>\n",
       "</table>\n",
       "</div>"
      ],
      "text/plain": [
       "            High   Low  Open  Close      Volume  Adj Close   avg\n",
       "Date                                                            \n",
       "2000-02-01  4.37  3.40  3.92   3.40  19968000.0       2.00  3.66\n",
       "2000-03-01  3.42  2.75  3.40   3.33  32337600.0       1.96  3.37\n",
       "2000-04-01  3.42  2.92  3.32   3.33  34152000.0       1.96  3.32\n",
       "2000-05-01  3.54  3.17  3.33   3.48  37286400.0       2.05  3.41\n",
       "2000-06-01  3.83  3.33  3.42   3.75  32232000.0       2.21  3.58"
      ]
     },
     "execution_count": 6,
     "metadata": {},
     "output_type": "execute_result"
    }
   ],
   "source": [
    "db.head().round(2)"
   ]
  },
  {
   "cell_type": "code",
   "execution_count": 7,
   "id": "64368e3d",
   "metadata": {},
   "outputs": [
    {
     "data": {
      "image/png": "[encoded data removed]",
      "text/plain": [
       "<Figure size 576x360 with 1 Axes>"
      ]
     },
     "metadata": {
      "needs_background": "light"
     },
     "output_type": "display_data"
    }
   ],
   "source": [
    "db['avg'].plot(figsize=(8,5))\n",
    "plt.show()"
   ]
  },
  {
   "cell_type": "code",
   "execution_count": 13,
   "id": "9560c721",
   "metadata": {},
   "outputs": [],
   "source": [
    "df = pd.DataFrame(db)"
   ]
  },
  {
   "cell_type": "code",
   "execution_count": 15,
   "id": "65d4357a",
   "metadata": {},
   "outputs": [
    {
     "data": {
      "text/plain": [
       "pandas.core.indexes.datetimes.DatetimeIndex"
      ]
     },
     "execution_count": 15,
     "metadata": {},
     "output_type": "execute_result"
    }
   ],
   "source": [
    "type(df.index)"
   ]
  },
  {
   "cell_type": "code",
   "execution_count": null,
   "id": "816e9cab",
   "metadata": {},
   "outputs": [],
   "source": []
  },
  {
   "cell_type": "code",
   "execution_count": null,
   "id": "f44191a9",
   "metadata": {},
   "outputs": [],
   "source": []
  },
  {
   "cell_type": "code",
   "execution_count": 8,
   "id": "619e9fb1",
   "metadata": {},
   "outputs": [],
   "source": [
    "data = pd.DataFrame(data)"
   ]
  },
  {
   "cell_type": "code",
   "execution_count": 9,
   "id": "ca029d7d",
   "metadata": {},
   "outputs": [
    {
     "data": {
      "text/html": [
       "<div>\n",
       "<style scoped>\n",
       "    .dataframe tbody tr th:only-of-type {\n",
       "        vertical-align: middle;\n",
       "    }\n",
       "\n",
       "    .dataframe tbody tr th {\n",
       "        vertical-align: top;\n",
       "    }\n",
       "\n",
       "    .dataframe thead th {\n",
       "        text-align: right;\n",
       "    }\n",
       "</style>\n",
       "<table border=\"1\" class=\"dataframe\">\n",
       "  <thead>\n",
       "    <tr style=\"text-align: right;\">\n",
       "      <th></th>\n",
       "      <th>High</th>\n",
       "      <th>Low</th>\n",
       "      <th>Open</th>\n",
       "      <th>Close</th>\n",
       "      <th>Volume</th>\n",
       "      <th>Adj Close</th>\n",
       "    </tr>\n",
       "  </thead>\n",
       "  <tbody>\n",
       "    <tr>\n",
       "      <th>count</th>\n",
       "      <td>5454.000000</td>\n",
       "      <td>5454.000000</td>\n",
       "      <td>5454.000000</td>\n",
       "      <td>5454.000000</td>\n",
       "      <td>5.454000e+03</td>\n",
       "      <td>5454.000000</td>\n",
       "    </tr>\n",
       "    <tr>\n",
       "      <th>mean</th>\n",
       "      <td>18.633372</td>\n",
       "      <td>18.071045</td>\n",
       "      <td>18.364639</td>\n",
       "      <td>18.334043</td>\n",
       "      <td>5.878255e+08</td>\n",
       "      <td>13.878502</td>\n",
       "    </tr>\n",
       "    <tr>\n",
       "      <th>std</th>\n",
       "      <td>9.597592</td>\n",
       "      <td>9.282821</td>\n",
       "      <td>9.451689</td>\n",
       "      <td>9.415568</td>\n",
       "      <td>4.046711e+09</td>\n",
       "      <td>7.449995</td>\n",
       "    </tr>\n",
       "    <tr>\n",
       "      <th>min</th>\n",
       "      <td>4.270000</td>\n",
       "      <td>4.120000</td>\n",
       "      <td>4.200000</td>\n",
       "      <td>4.200000</td>\n",
       "      <td>0.000000e+00</td>\n",
       "      <td>2.679714</td>\n",
       "    </tr>\n",
       "    <tr>\n",
       "      <th>25%</th>\n",
       "      <td>9.900000</td>\n",
       "      <td>9.530000</td>\n",
       "      <td>9.701563</td>\n",
       "      <td>9.690000</td>\n",
       "      <td>2.060175e+07</td>\n",
       "      <td>6.880135</td>\n",
       "    </tr>\n",
       "    <tr>\n",
       "      <th>50%</th>\n",
       "      <td>18.775001</td>\n",
       "      <td>18.160000</td>\n",
       "      <td>18.450001</td>\n",
       "      <td>18.415000</td>\n",
       "      <td>3.227350e+07</td>\n",
       "      <td>14.106649</td>\n",
       "    </tr>\n",
       "    <tr>\n",
       "      <th>75%</th>\n",
       "      <td>25.190001</td>\n",
       "      <td>24.400000</td>\n",
       "      <td>24.750000</td>\n",
       "      <td>24.767500</td>\n",
       "      <td>5.167690e+07</td>\n",
       "      <td>19.269731</td>\n",
       "    </tr>\n",
       "    <tr>\n",
       "      <th>max</th>\n",
       "      <td>67.500000</td>\n",
       "      <td>51.950001</td>\n",
       "      <td>67.500000</td>\n",
       "      <td>52.509998</td>\n",
       "      <td>7.356416e+10</td>\n",
       "      <td>36.098499</td>\n",
       "    </tr>\n",
       "  </tbody>\n",
       "</table>\n",
       "</div>"
      ],
      "text/plain": [
       "              High          Low         Open        Close        Volume  \\\n",
       "count  5454.000000  5454.000000  5454.000000  5454.000000  5.454000e+03   \n",
       "mean     18.633372    18.071045    18.364639    18.334043  5.878255e+08   \n",
       "std       9.597592     9.282821     9.451689     9.415568  4.046711e+09   \n",
       "min       4.270000     4.120000     4.200000     4.200000  0.000000e+00   \n",
       "25%       9.900000     9.530000     9.701563     9.690000  2.060175e+07   \n",
       "50%      18.775001    18.160000    18.450001    18.415000  3.227350e+07   \n",
       "75%      25.190001    24.400000    24.750000    24.767500  5.167690e+07   \n",
       "max      67.500000    51.950001    67.500000    52.509998  7.356416e+10   \n",
       "\n",
       "         Adj Close  \n",
       "count  5454.000000  \n",
       "mean     13.878502  \n",
       "std       7.449995  \n",
       "min       2.679714  \n",
       "25%       6.880135  \n",
       "50%      14.106649  \n",
       "75%      19.269731  \n",
       "max      36.098499  "
      ]
     },
     "execution_count": 9,
     "metadata": {},
     "output_type": "execute_result"
    }
   ],
   "source": [
    "data.describe()"
   ]
  },
  {
   "cell_type": "code",
   "execution_count": 6,
   "id": "b7508cc0",
   "metadata": {},
   "outputs": [],
   "source": [
    "data = data.dropna()"
   ]
  },
  {
   "cell_type": "code",
   "execution_count": 7,
   "id": "77fee835",
   "metadata": {},
   "outputs": [],
   "source": [
    "data['Resultado'] = (data['Adj Close'] / data['Adj Close'].shift(1))-1 #diferença entre o fechamento do dia e o dia anterior"
   ]
  },
  {
   "cell_type": "code",
   "execution_count": 13,
   "id": "6009063b",
   "metadata": {},
   "outputs": [
    {
     "data": {
      "text/html": [
       "<div>\n",
       "<style scoped>\n",
       "    .dataframe tbody tr th:only-of-type {\n",
       "        vertical-align: middle;\n",
       "    }\n",
       "\n",
       "    .dataframe tbody tr th {\n",
       "        vertical-align: top;\n",
       "    }\n",
       "\n",
       "    .dataframe thead th {\n",
       "        text-align: right;\n",
       "    }\n",
       "</style>\n",
       "<table border=\"1\" class=\"dataframe\">\n",
       "  <thead>\n",
       "    <tr style=\"text-align: right;\">\n",
       "      <th></th>\n",
       "      <th>High</th>\n",
       "      <th>Low</th>\n",
       "      <th>Open</th>\n",
       "      <th>Close</th>\n",
       "      <th>Volume</th>\n",
       "      <th>Adj Close</th>\n",
       "      <th>Resultado</th>\n",
       "    </tr>\n",
       "    <tr>\n",
       "      <th>Date</th>\n",
       "      <th></th>\n",
       "      <th></th>\n",
       "      <th></th>\n",
       "      <th></th>\n",
       "      <th></th>\n",
       "      <th></th>\n",
       "      <th></th>\n",
       "    </tr>\n",
       "  </thead>\n",
       "  <tbody>\n",
       "    <tr>\n",
       "      <th>2021-08-31</th>\n",
       "      <td>28.230000</td>\n",
       "      <td>26.990000</td>\n",
       "      <td>28.200001</td>\n",
       "      <td>27.190001</td>\n",
       "      <td>110574300.0</td>\n",
       "      <td>27.190001</td>\n",
       "      <td>-0.039223</td>\n",
       "    </tr>\n",
       "    <tr>\n",
       "      <th>2021-09-01</th>\n",
       "      <td>27.340000</td>\n",
       "      <td>26.330000</td>\n",
       "      <td>27.320000</td>\n",
       "      <td>27.040001</td>\n",
       "      <td>69430400.0</td>\n",
       "      <td>27.040001</td>\n",
       "      <td>-0.005517</td>\n",
       "    </tr>\n",
       "    <tr>\n",
       "      <th>2021-09-02</th>\n",
       "      <td>27.350000</td>\n",
       "      <td>26.459999</td>\n",
       "      <td>27.000000</td>\n",
       "      <td>26.600000</td>\n",
       "      <td>56052000.0</td>\n",
       "      <td>26.600000</td>\n",
       "      <td>-0.016272</td>\n",
       "    </tr>\n",
       "    <tr>\n",
       "      <th>2021-09-03</th>\n",
       "      <td>26.780001</td>\n",
       "      <td>26.100000</td>\n",
       "      <td>26.650000</td>\n",
       "      <td>26.330000</td>\n",
       "      <td>58182700.0</td>\n",
       "      <td>26.330000</td>\n",
       "      <td>-0.010150</td>\n",
       "    </tr>\n",
       "    <tr>\n",
       "      <th>2021-09-06</th>\n",
       "      <td>26.709999</td>\n",
       "      <td>26.150000</td>\n",
       "      <td>26.209999</td>\n",
       "      <td>26.459999</td>\n",
       "      <td>26770700.0</td>\n",
       "      <td>26.459999</td>\n",
       "      <td>0.004937</td>\n",
       "    </tr>\n",
       "  </tbody>\n",
       "</table>\n",
       "</div>"
      ],
      "text/plain": [
       "                 High        Low       Open      Close       Volume  \\\n",
       "Date                                                                  \n",
       "2021-08-31  28.230000  26.990000  28.200001  27.190001  110574300.0   \n",
       "2021-09-01  27.340000  26.330000  27.320000  27.040001   69430400.0   \n",
       "2021-09-02  27.350000  26.459999  27.000000  26.600000   56052000.0   \n",
       "2021-09-03  26.780001  26.100000  26.650000  26.330000   58182700.0   \n",
       "2021-09-06  26.709999  26.150000  26.209999  26.459999   26770700.0   \n",
       "\n",
       "            Adj Close  Resultado  \n",
       "Date                              \n",
       "2021-08-31  27.190001  -0.039223  \n",
       "2021-09-01  27.040001  -0.005517  \n",
       "2021-09-02  26.600000  -0.016272  \n",
       "2021-09-03  26.330000  -0.010150  \n",
       "2021-09-06  26.459999   0.004937  "
      ]
     },
     "execution_count": 13,
     "metadata": {},
     "output_type": "execute_result"
    }
   ],
   "source": [
    "data.tail()"
   ]
  },
  {
   "cell_type": "code",
   "execution_count": 9,
   "id": "fd989094",
   "metadata": {},
   "outputs": [
    {
     "data": {
      "image/png": "[encoded data removed]",
      "text/plain": [
       "<Figure size 576x360 with 1 Axes>"
      ]
     },
     "metadata": {
      "needs_background": "light"
     },
     "output_type": "display_data"
    }
   ],
   "source": [
    "data['Resultado'].plot(figsize=(8,5))\n",
    "plt.show()"
   ]
  },
  {
   "cell_type": "code",
   "execution_count": 10,
   "id": "aa3b74b0",
   "metadata": {},
   "outputs": [
    {
     "name": "stdout",
     "output_type": "stream",
     "text": [
      "0.18329690209208716\n"
     ]
    }
   ],
   "source": [
    "media_simples = data['Resultado'].mean() * 250\n",
    "print(media_simples)"
   ]
  },
  {
   "cell_type": "code",
   "execution_count": 14,
   "id": "f0b84127",
   "metadata": {},
   "outputs": [],
   "source": [
    "base_treino = data.iloc[:, 1:2].values"
   ]
  },
  {
   "cell_type": "code",
   "execution_count": 15,
   "id": "1774c0eb",
   "metadata": {},
   "outputs": [
    {
     "data": {
      "text/plain": [
       "5446"
      ]
     },
     "execution_count": 15,
     "metadata": {},
     "output_type": "execute_result"
    }
   ],
   "source": [
    "len(base_treino)"
   ]
  },
  {
   "cell_type": "code",
   "execution_count": 17,
   "id": "a33c8ee9",
   "metadata": {},
   "outputs": [
    {
     "data": {
      "text/plain": [
       "array([[ 5.875     ],\n",
       "       [ 5.55000019],\n",
       "       [ 5.49399996],\n",
       "       ...,\n",
       "       [26.45999908],\n",
       "       [26.10000038],\n",
       "       [26.14999962]])"
      ]
     },
     "execution_count": 17,
     "metadata": {},
     "output_type": "execute_result"
    }
   ],
   "source": [
    "base_treino"
   ]
  },
  {
   "cell_type": "code",
   "execution_count": null,
   "id": "b2a35654",
   "metadata": {},
   "outputs": [],
   "source": []
  },
  {
   "cell_type": "markdown",
   "id": "44fa90a0",
   "metadata": {},
   "source": []
  }
 ],
 "metadata": {
  "kernelspec": {
   "display_name": "Python 3 (ipykernel)",
   "language": "python",
   "name": "python3"
  },
  "language_info": {
   "codemirror_mode": {
    "name": "ipython",
    "version": 3
   },
   "file_extension": ".py",
   "mimetype": "text/x-python",
   "name": "python",
   "nbconvert_exporter": "python",
   "pygments_lexer": "ipython3",
   "version": "3.8.11"
  }
 },
 "nbformat": 4,
 "nbformat_minor": 5
}

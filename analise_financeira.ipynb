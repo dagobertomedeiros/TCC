{
 "cells": [
  {
   "cell_type": "code",
   "execution_count": 1,
   "id": "07283c94",
   "metadata": {},
   "outputs": [],
   "source": [
    "import pandas as pd\n",
    "import numpy as np\n",
    "from pandas_datareader import data as wb\n",
    "import matplotlib.pyplot as plt\n",
    "from sklearn.preprocessing import MinMaxScaler\n",
    "from statsmodels.tsa.seasonal import seasonal_decompose\n",
    "from statsmodels.tsa.seasonal import STL\n",
    "from statsmodels.tsa.stattools import adfuller\n",
    "from matplotlib.pylab import rcParams\n",
    "import time\n",
    "rcParams['figure.figsize'] = 15, 6"
   ]
  },
  {
   "cell_type": "code",
   "execution_count": 2,
   "id": "229bb144",
   "metadata": {},
   "outputs": [],
   "source": [
    "#data = wb.DataReader('PETR4.SA', data_source='yahoo', start='2000-1-1')"
   ]
  },
  {
   "cell_type": "code",
   "execution_count": 3,
   "id": "77ae061e",
   "metadata": {},
   "outputs": [],
   "source": [
    "#sheet = pd.read_excel('EMPRESAS_B3_09-07-21.xlsx', sheet_name='Página1')"
   ]
  },
  {
   "cell_type": "code",
   "execution_count": 2,
   "id": "dc5a1e95",
   "metadata": {},
   "outputs": [],
   "source": [
    "sheet = pd.read_excel('LISTA_EMPRESAS_SELECIONADAS.xlsx', sheet_name='Planilha1')"
   ]
  },
  {
   "cell_type": "code",
   "execution_count": 3,
   "id": "d53cf0d6",
   "metadata": {},
   "outputs": [],
   "source": [
    "list_df = []\n",
    "list_error = []"
   ]
  },
  {
   "cell_type": "code",
   "execution_count": 4,
   "id": "2b2827f0",
   "metadata": {},
   "outputs": [
    {
     "data": {
      "text/plain": [
       "133"
      ]
     },
     "execution_count": 4,
     "metadata": {},
     "output_type": "execute_result"
    }
   ],
   "source": [
    "tikers = sheet['Ticker']\n",
    "len(tikers)"
   ]
  },
  {
   "cell_type": "markdown",
   "id": "a0b5a5f1",
   "metadata": {},
   "source": [
    "#### Coletando os dados na api"
   ]
  },
  {
   "cell_type": "code",
   "execution_count": 5,
   "id": "7c69e7b9",
   "metadata": {},
   "outputs": [],
   "source": [
    "for tik in tikers:\n",
    "    try:\n",
    "        list_df.append(wb.get_data_yahoo(str(tik), start='2000-1-1', end='2021-10-31' , interval=\"m\"))\n",
    "        list_df[len(list_df)-1]['Ticker'] = tik\n",
    "        if len(list_df[-1]) < 36:\n",
    "            list_df.pop(-1)\n",
    "        elif list_df[-1]['Volume'][-36:len(list_df[-1])-1].mean() < 20_000_000.00:\n",
    "            list_df.pop(-1)\n",
    "    except:\n",
    "        list_error.append(tik)\n",
    "        pass"
   ]
  },
  {
   "cell_type": "code",
   "execution_count": 6,
   "id": "3a4a1f40",
   "metadata": {},
   "outputs": [],
   "source": [
    "#removendo valores zerados e ausentes\n",
    "for i in range(0, len(list_df)):\n",
    "    try:\n",
    "        list_df[i].replace(0, np.nan, inplace=True)\n",
    "        list_df[i] = list_df[i].dropna()\n",
    "        list_df[i] = list_df[i].fillna(method='ffill')\n",
    "    except:\n",
    "        pass"
   ]
  },
  {
   "cell_type": "code",
   "execution_count": 7,
   "id": "ca179d9a",
   "metadata": {},
   "outputs": [],
   "source": [
    "#adicionando coluna de Var percentual\n",
    "for i in range(0, len(list_df)):\n",
    "    list_df[i]['Var'] = ((list_df[i].loc[:, 'Close']/list_df[i].loc[:, 'Open']) - 1.0) * 100.0"
   ]
  },
  {
   "cell_type": "code",
   "execution_count": 10,
   "id": "0b3bfaae",
   "metadata": {},
   "outputs": [],
   "source": [
    "#adicionando coluna de media\n",
    "#for i in range(0, len(list_df)):\n",
    "#    list_df[i]['Avg'] = ((list_df[i].loc[:, 'High']+list_df[i].loc[:, 'Low']) / 2.0)"
   ]
  },
  {
   "cell_type": "code",
   "execution_count": 8,
   "id": "c7b795be",
   "metadata": {},
   "outputs": [],
   "source": [
    "def define_category(num_perc: list):\n",
    "    \"\"\"\n",
    "    Função que cria categorias de variação percentual, indo de valores negativos a positivos, passando por zero,\n",
    "    que seria o estado onde não houve alterações no preço da ação no período analisado.\n",
    "    \"\"\"\n",
    "    array = []\n",
    "    for i in num_perc:\n",
    "        if i == 0:\n",
    "            array.append(0)\n",
    "        elif i > 0 and i <= 2:\n",
    "            array.append(2)\n",
    "        elif i > 2 and i <= 4:\n",
    "            array.append(4)\n",
    "        elif i > 4 and i <= 6:\n",
    "            array.append(6)\n",
    "        elif i > 6 and i <= 8:\n",
    "            array.append(8)\n",
    "        elif i > 8:\n",
    "            array.append(10)\n",
    "        elif i < 0 and i >= -2:\n",
    "            array.append(-2)\n",
    "        elif i < -2 and i >= -4:\n",
    "            array.append(-4)\n",
    "        elif i < -4 and i >= -6:\n",
    "            array.append(-6)\n",
    "        elif i < 6 and i >= -8:\n",
    "            array.append(-8)\n",
    "        elif i < -8:\n",
    "            array.append(-10)\n",
    "    return array"
   ]
  },
  {
   "cell_type": "code",
   "execution_count": 9,
   "id": "af6ca4c2",
   "metadata": {},
   "outputs": [
    {
     "data": {
      "text/plain": [
       "166"
      ]
     },
     "execution_count": 9,
     "metadata": {},
     "output_type": "execute_result"
    }
   ],
   "source": [
    "len((list_df[1].loc[:, 'Var'].values))"
   ]
  },
  {
   "cell_type": "code",
   "execution_count": 10,
   "id": "e0abe57c",
   "metadata": {},
   "outputs": [
    {
     "data": {
      "text/plain": [
       "166"
      ]
     },
     "execution_count": 10,
     "metadata": {},
     "output_type": "execute_result"
    }
   ],
   "source": [
    "temp = define_category(list_df[1].loc[:, 'Var'].values)\n",
    "len(temp)"
   ]
  },
  {
   "cell_type": "code",
   "execution_count": 11,
   "id": "ddf767c7",
   "metadata": {},
   "outputs": [],
   "source": [
    "#definicao de pesos\n",
    "for i in range(0, len(list_df)):\n",
    "    list_df[i]['Category'] = define_category(list_df[i].loc[:, 'Var'].values)"
   ]
  },
  {
   "cell_type": "code",
   "execution_count": 12,
   "id": "287d8a4f",
   "metadata": {},
   "outputs": [],
   "source": [
    "#ordenando indices\n",
    "for i in range(0, len(list_df)):\n",
    "    list_df[i].sort_index()"
   ]
  },
  {
   "cell_type": "code",
   "execution_count": 13,
   "id": "b846b787",
   "metadata": {},
   "outputs": [],
   "source": [
    "df_concat = pd.DataFrame()\n",
    "df_concat = list_df[0]"
   ]
  },
  {
   "cell_type": "code",
   "execution_count": 14,
   "id": "e75219e2",
   "metadata": {},
   "outputs": [],
   "source": [
    "#exportando excel\n",
    "for i in range(1, len(list_df)):\n",
    "    df_concat = pd.concat([df_concat, list_df[i]])\n",
    "df_concat.to_excel('dados_var_b3_25-11-21.xlsx')"
   ]
  },
  {
   "cell_type": "markdown",
   "id": "f09d8176",
   "metadata": {},
   "source": [
    "### Importando dados do excel"
   ]
  },
  {
   "cell_type": "code",
   "execution_count": 2,
   "id": "c7e96c89",
   "metadata": {},
   "outputs": [],
   "source": [
    "dfExcel = pd.read_excel('dados_b3.xlsx', index_col='Date', parse_dates=['Date'])"
   ]
  },
  {
   "cell_type": "code",
   "execution_count": 3,
   "id": "537a06c1",
   "metadata": {
    "scrolled": true
   },
   "outputs": [
    {
     "data": {
      "text/plain": [
       "'ABEV3.SA'"
      ]
     },
     "execution_count": 3,
     "metadata": {},
     "output_type": "execute_result"
    }
   ],
   "source": [
    "df1 = dfExcel['Ticker'].unique()\n",
    "df1[0]"
   ]
  },
  {
   "cell_type": "code",
   "execution_count": 4,
   "id": "17c2e0eb",
   "metadata": {},
   "outputs": [
    {
     "data": {
      "text/html": [
       "<div>\n",
       "<style scoped>\n",
       "    .dataframe tbody tr th:only-of-type {\n",
       "        vertical-align: middle;\n",
       "    }\n",
       "\n",
       "    .dataframe tbody tr th {\n",
       "        vertical-align: top;\n",
       "    }\n",
       "\n",
       "    .dataframe thead th {\n",
       "        text-align: right;\n",
       "    }\n",
       "</style>\n",
       "<table border=\"1\" class=\"dataframe\">\n",
       "  <thead>\n",
       "    <tr style=\"text-align: right;\">\n",
       "      <th></th>\n",
       "      <th>High</th>\n",
       "      <th>Low</th>\n",
       "      <th>Open</th>\n",
       "      <th>Close</th>\n",
       "      <th>Volume</th>\n",
       "      <th>Adj Close</th>\n",
       "      <th>Ticker</th>\n",
       "      <th>Avg</th>\n",
       "      <th>Var</th>\n",
       "      <th>Bin_var</th>\n",
       "      <th>Unnamed: 11</th>\n",
       "      <th>Unnamed: 12</th>\n",
       "    </tr>\n",
       "    <tr>\n",
       "      <th>Date</th>\n",
       "      <th></th>\n",
       "      <th></th>\n",
       "      <th></th>\n",
       "      <th></th>\n",
       "      <th></th>\n",
       "      <th></th>\n",
       "      <th></th>\n",
       "      <th></th>\n",
       "      <th></th>\n",
       "      <th></th>\n",
       "      <th></th>\n",
       "      <th></th>\n",
       "    </tr>\n",
       "  </thead>\n",
       "  <tbody>\n",
       "    <tr>\n",
       "      <th>2008-02-01</th>\n",
       "      <td>3.486100</td>\n",
       "      <td>3.035311</td>\n",
       "      <td>3.450037</td>\n",
       "      <td>3.149511</td>\n",
       "      <td>13296685</td>\n",
       "      <td>2.240382</td>\n",
       "      <td>ALPA4.SA</td>\n",
       "      <td>3.260705</td>\n",
       "      <td>-8.710802</td>\n",
       "      <td>-1</td>\n",
       "      <td>NaN</td>\n",
       "      <td>NaN</td>\n",
       "    </tr>\n",
       "    <tr>\n",
       "      <th>2008-03-01</th>\n",
       "      <td>3.365890</td>\n",
       "      <td>2.976108</td>\n",
       "      <td>3.149511</td>\n",
       "      <td>3.215326</td>\n",
       "      <td>8332053</td>\n",
       "      <td>2.287200</td>\n",
       "      <td>ALPA4.SA</td>\n",
       "      <td>3.170999</td>\n",
       "      <td>2.089689</td>\n",
       "      <td>1</td>\n",
       "      <td>NaN</td>\n",
       "      <td>NaN</td>\n",
       "    </tr>\n",
       "    <tr>\n",
       "      <th>2008-04-01</th>\n",
       "      <td>3.275732</td>\n",
       "      <td>2.886551</td>\n",
       "      <td>3.275732</td>\n",
       "      <td>3.035311</td>\n",
       "      <td>6139231</td>\n",
       "      <td>2.159148</td>\n",
       "      <td>ALPA4.SA</td>\n",
       "      <td>3.081141</td>\n",
       "      <td>-7.339460</td>\n",
       "      <td>-1</td>\n",
       "      <td>NaN</td>\n",
       "      <td>NaN</td>\n",
       "    </tr>\n",
       "    <tr>\n",
       "      <th>2008-05-01</th>\n",
       "      <td>3.816679</td>\n",
       "      <td>3.035311</td>\n",
       "      <td>3.035311</td>\n",
       "      <td>3.771600</td>\n",
       "      <td>4455518</td>\n",
       "      <td>2.682901</td>\n",
       "      <td>ALPA4.SA</td>\n",
       "      <td>3.425995</td>\n",
       "      <td>24.257449</td>\n",
       "      <td>1</td>\n",
       "      <td>NaN</td>\n",
       "      <td>NaN</td>\n",
       "    </tr>\n",
       "    <tr>\n",
       "      <th>2008-06-01</th>\n",
       "      <td>3.786626</td>\n",
       "      <td>2.945154</td>\n",
       "      <td>3.786626</td>\n",
       "      <td>3.005259</td>\n",
       "      <td>3560418</td>\n",
       "      <td>2.137770</td>\n",
       "      <td>ALPA4.SA</td>\n",
       "      <td>3.365890</td>\n",
       "      <td>-20.634915</td>\n",
       "      <td>-1</td>\n",
       "      <td>NaN</td>\n",
       "      <td>NaN</td>\n",
       "    </tr>\n",
       "    <tr>\n",
       "      <th>...</th>\n",
       "      <td>...</td>\n",
       "      <td>...</td>\n",
       "      <td>...</td>\n",
       "      <td>...</td>\n",
       "      <td>...</td>\n",
       "      <td>...</td>\n",
       "      <td>...</td>\n",
       "      <td>...</td>\n",
       "      <td>...</td>\n",
       "      <td>...</td>\n",
       "      <td>...</td>\n",
       "      <td>...</td>\n",
       "    </tr>\n",
       "    <tr>\n",
       "      <th>2021-06-01</th>\n",
       "      <td>51.490002</td>\n",
       "      <td>46.369999</td>\n",
       "      <td>47.290001</td>\n",
       "      <td>50.189999</td>\n",
       "      <td>32037100</td>\n",
       "      <td>50.189999</td>\n",
       "      <td>ALPA4.SA</td>\n",
       "      <td>48.930000</td>\n",
       "      <td>6.132370</td>\n",
       "      <td>1</td>\n",
       "      <td>NaN</td>\n",
       "      <td>NaN</td>\n",
       "    </tr>\n",
       "    <tr>\n",
       "      <th>2021-07-01</th>\n",
       "      <td>53.970001</td>\n",
       "      <td>49.349998</td>\n",
       "      <td>51.419998</td>\n",
       "      <td>51.459999</td>\n",
       "      <td>35701000</td>\n",
       "      <td>51.459999</td>\n",
       "      <td>ALPA4.SA</td>\n",
       "      <td>51.660000</td>\n",
       "      <td>0.077793</td>\n",
       "      <td>1</td>\n",
       "      <td>NaN</td>\n",
       "      <td>NaN</td>\n",
       "    </tr>\n",
       "    <tr>\n",
       "      <th>2021-08-01</th>\n",
       "      <td>62.330002</td>\n",
       "      <td>52.299999</td>\n",
       "      <td>52.299999</td>\n",
       "      <td>59.970001</td>\n",
       "      <td>58686000</td>\n",
       "      <td>59.970001</td>\n",
       "      <td>ALPA4.SA</td>\n",
       "      <td>57.315001</td>\n",
       "      <td>14.665396</td>\n",
       "      <td>1</td>\n",
       "      <td>NaN</td>\n",
       "      <td>NaN</td>\n",
       "    </tr>\n",
       "    <tr>\n",
       "      <th>2021-09-01</th>\n",
       "      <td>62.270000</td>\n",
       "      <td>52.009998</td>\n",
       "      <td>60.299999</td>\n",
       "      <td>52.799999</td>\n",
       "      <td>50487400</td>\n",
       "      <td>52.799999</td>\n",
       "      <td>ALPA4.SA</td>\n",
       "      <td>57.139999</td>\n",
       "      <td>-12.437811</td>\n",
       "      <td>-1</td>\n",
       "      <td>NaN</td>\n",
       "      <td>NaN</td>\n",
       "    </tr>\n",
       "    <tr>\n",
       "      <th>2021-10-01</th>\n",
       "      <td>53.730000</td>\n",
       "      <td>42.000000</td>\n",
       "      <td>52.610001</td>\n",
       "      <td>43.650002</td>\n",
       "      <td>40682900</td>\n",
       "      <td>43.650002</td>\n",
       "      <td>ALPA4.SA</td>\n",
       "      <td>47.865000</td>\n",
       "      <td>-17.030981</td>\n",
       "      <td>-1</td>\n",
       "      <td>NaN</td>\n",
       "      <td>NaN</td>\n",
       "    </tr>\n",
       "  </tbody>\n",
       "</table>\n",
       "<p>165 rows × 12 columns</p>\n",
       "</div>"
      ],
      "text/plain": [
       "                 High        Low       Open      Close    Volume  Adj Close  \\\n",
       "Date                                                                          \n",
       "2008-02-01   3.486100   3.035311   3.450037   3.149511  13296685   2.240382   \n",
       "2008-03-01   3.365890   2.976108   3.149511   3.215326   8332053   2.287200   \n",
       "2008-04-01   3.275732   2.886551   3.275732   3.035311   6139231   2.159148   \n",
       "2008-05-01   3.816679   3.035311   3.035311   3.771600   4455518   2.682901   \n",
       "2008-06-01   3.786626   2.945154   3.786626   3.005259   3560418   2.137770   \n",
       "...               ...        ...        ...        ...       ...        ...   \n",
       "2021-06-01  51.490002  46.369999  47.290001  50.189999  32037100  50.189999   \n",
       "2021-07-01  53.970001  49.349998  51.419998  51.459999  35701000  51.459999   \n",
       "2021-08-01  62.330002  52.299999  52.299999  59.970001  58686000  59.970001   \n",
       "2021-09-01  62.270000  52.009998  60.299999  52.799999  50487400  52.799999   \n",
       "2021-10-01  53.730000  42.000000  52.610001  43.650002  40682900  43.650002   \n",
       "\n",
       "              Ticker        Avg        Var  Bin_var  Unnamed: 11  Unnamed: 12  \n",
       "Date                                                                           \n",
       "2008-02-01  ALPA4.SA   3.260705  -8.710802       -1          NaN          NaN  \n",
       "2008-03-01  ALPA4.SA   3.170999   2.089689        1          NaN          NaN  \n",
       "2008-04-01  ALPA4.SA   3.081141  -7.339460       -1          NaN          NaN  \n",
       "2008-05-01  ALPA4.SA   3.425995  24.257449        1          NaN          NaN  \n",
       "2008-06-01  ALPA4.SA   3.365890 -20.634915       -1          NaN          NaN  \n",
       "...              ...        ...        ...      ...          ...          ...  \n",
       "2021-06-01  ALPA4.SA  48.930000   6.132370        1          NaN          NaN  \n",
       "2021-07-01  ALPA4.SA  51.660000   0.077793        1          NaN          NaN  \n",
       "2021-08-01  ALPA4.SA  57.315001  14.665396        1          NaN          NaN  \n",
       "2021-09-01  ALPA4.SA  57.139999 -12.437811       -1          NaN          NaN  \n",
       "2021-10-01  ALPA4.SA  47.865000 -17.030981       -1          NaN          NaN  \n",
       "\n",
       "[165 rows x 12 columns]"
      ]
     },
     "execution_count": 4,
     "metadata": {},
     "output_type": "execute_result"
    }
   ],
   "source": [
    "teste = dfExcel[(dfExcel['Ticker'] == df1[1])]\n",
    "teste"
   ]
  },
  {
   "cell_type": "markdown",
   "id": "ac2eb4e8",
   "metadata": {},
   "source": [
    "### Etapas do processo\n",
    "##### 1 - Função para devolver a serie com média móvel, função tem como parâmetro a serie e a janela \n",
    "##### 2 - Função para testar e transformar serie em estacionária, devolve uma ts estacionária\n",
    "##### 3 - Aqui o bicho pega - identificar sazonalidade e tendência, qualificar isso\n",
    "##### 4 - A partir dos dados qualificados, fazer previsão e testar sim ou não, parâmetro bool"
   ]
  },
  {
   "cell_type": "code",
   "execution_count": 15,
   "id": "226e272e",
   "metadata": {},
   "outputs": [],
   "source": [
    "def generete_ts_moving_avarege(ts : pd.Series, window : int):\n",
    "    \"\"\"Retorna uma serie temporal de média móvel com valores ausentes removidos\"\"\"\n",
    "    ts = ts.rolling(window=window).mean()\n",
    "    ts.dropna(inplace=True)\n",
    "    return ts"
   ]
  },
  {
   "cell_type": "code",
   "execution_count": 16,
   "id": "1bc66816",
   "metadata": {},
   "outputs": [],
   "source": [
    "def test_and_transform_stationary_ts(ts : pd.Series):\n",
    "    \"\"\"Recebe uma série temporal, testa e se preciso transforma e devolve uma serie estacionária. Retorna None em caso de falha\"\"\"\n",
    "    adfuller_ts = adfuller(ts, autolag='AIC')\n",
    "    if adfuller_ts[1] < 0.05:\n",
    "        return ts\n",
    "    else:\n",
    "        ts_log1 = np.log(ts)\n",
    "        adfuller_ts_log1 = adfuller(ts_log1, autolag='AIC')\n",
    "        if adfuller_ts_log1[1] < 0.05:\n",
    "            return ts_log1\n",
    "        else:\n",
    "            ts_log2 = np.log(ts_log1)\n",
    "            adfuller_ts_log2 = adfuller(ts_log2, autolag='AIC')\n",
    "            if adfuller_ts_log2[1] < 0.05:\n",
    "                return ts_log2\n",
    "            else:\n",
    "                ts_log3 = np.log(ts_log2)\n",
    "                adfuller_ts_log3 = adfuller(ts_log3, autolag='AIC')\n",
    "                if adfuller_ts_log3[1] < 0.05:\n",
    "                    return ts_log3\n",
    "                else:\n",
    "                    return"
   ]
  },
  {
   "cell_type": "code",
   "execution_count": 17,
   "id": "65d89825",
   "metadata": {},
   "outputs": [],
   "source": [
    "def components_seasonal_trend_resid_STL(ts : pd.Series):\n",
    "    \"\"\"\n",
    "    Retorna uma tupla com os componentes isolados, sazonalidade, tendencia e residuo.\n",
    "    Metodo STL.\n",
    "    \"\"\"\n",
    "    ts = ts.set_index(['Date'])\n",
    "    ts = ts.fillna(method='ffill')\n",
    "    ts = ts.asfreq('MS')\n",
    "    result = STL(ts, robust=True, period=12).fit()\n",
    "    return (result.seasonal, result.trend, result.resid)"
   ]
  },
  {
   "cell_type": "code",
   "execution_count": 18,
   "id": "2357f7c7",
   "metadata": {},
   "outputs": [],
   "source": [
    "def components_seasonal_trend_resid_classic(ts : pd.Series, freq : int):\n",
    "    \"\"\"\n",
    "    Retorna uma tupla com os componentes isolados, sazonalidade, tendencia e residuo.\n",
    "    Metodo classico.\n",
    "    \"\"\"\n",
    "    ts.sort_index(inplace=True)\n",
    "    result = seasonal_decompose(ts, freq=freq, model='aditive')\n",
    "    return (result.seasonal, result.trend, result.resid)"
   ]
  },
  {
   "cell_type": "code",
   "execution_count": 19,
   "id": "7e4100a1",
   "metadata": {},
   "outputs": [],
   "source": [
    "def seasonality_trend_rate(ts : tuple):\n",
    "    \"\"\"\n",
    "    Recebe uma tupla com listas com os valores isolados de sazonalidade, tendencia e residuo, \n",
    "    e retorna um dict com a media da avaliação da força destes.\n",
    "    \"\"\"\n",
    "    max_seazonal = (0.1 - (ts[2]/(ts[0] + ts[2])))\n",
    "    max_seazonal.mean()\n",
    "    max_trend = (0.1 - (ts[2]/(ts[1] + ts[2])))\n",
    "    max_trend.mean()\n",
    "    return {'max_seazonal': max_seazonal.mean(),\n",
    "            'max_trend': max_trend.mean()}\n"
   ]
  },
  {
   "cell_type": "code",
   "execution_count": 20,
   "id": "33e9546e",
   "metadata": {},
   "outputs": [],
   "source": [
    "def separate_analisys_test(ts: pd.Series, period_test: int):\n",
    "    \"\"\"\n",
    "    Separa a série temporal em 2 grupos, o primeiro com os dados a serem analisados para identificação dos padrões,\n",
    "    o segundo grupo deverá ter os últimos 12 meses para validação dos padrões identificados.\n",
    "    \"\"\"\n",
    "    ts_analisys = ts[:len(ts) - (period_test + 1)]\n",
    "    ts_test = ts[len(ts) - period_test:]\n",
    "    return ts_analisys, ts_test"
   ]
  },
  {
   "cell_type": "code",
   "execution_count": 22,
   "id": "e71a6e57",
   "metadata": {},
   "outputs": [],
   "source": [
    "import datetime"
   ]
  },
  {
   "cell_type": "code",
   "execution_count": 23,
   "id": "950f4344",
   "metadata": {},
   "outputs": [
    {
     "name": "stdout",
     "output_type": "stream",
     "text": [
      "1\n"
     ]
    }
   ],
   "source": [
    "a = '2021-01'\n",
    "d = datetime.datetime.strptime(a, \"%Y-%m\")\n",
    "print(d.month)"
   ]
  },
  {
   "cell_type": "code",
   "execution_count": 24,
   "id": "9aebcd43",
   "metadata": {},
   "outputs": [],
   "source": [
    "def find_paterns(ts: pd.Series, period: int):\n",
    "    \"\"\"\n",
    "    Identifica os padrões sazonais.\n",
    "    \"\"\"\n",
    "    remainder = len(ts) % period\n",
    "    ts = ts[remainder:]\n",
    "    #cicles = len(ts) / period\n",
    "    period_n = []\n",
    "    vlr_n = []\n",
    "    weight_n = []\n",
    "    \n",
    "    for i in range(0, period):#iniciando arrays de zeros\n",
    "        vlr_n.append([])\n",
    "        period_n.append(0)\n",
    "        weight_n.append(0)\n",
    "            \n",
    "    for i in range(0, len(ts)):\n",
    "        month = pd.to_datetime(ts.index[i], '%Y-%m-%d %H:%M:%S')\n",
    "        for count in range(0, period):\n",
    "            if month.month == count+1:\n",
    "                period_n[count] = count+1\n",
    "                vlr_n[count].append(ts.values[i])\n",
    "                if len(vlr_n[count]) > 1:\n",
    "                    if ((ts.values[i] != 0.0 and ts.values[i] >= 6.0) \n",
    "                        and (ts.values[i] - vlr_n[count][len(vlr_n[count])-2] <= 1.0\n",
    "                        and ts.values[i] - vlr_n[count][len(vlr_n[count])-2] >= -1.0)):\n",
    "                        weight_n[count] = weight_n[count] + 3\n",
    "                    elif ((ts.values[i] != 0.0 and ts.values[i] <= -6.0) \n",
    "                          and (ts.values[i] - vlr_n[count][len(vlr_n[count])-2] <= 1.0 \n",
    "                          and ts.values[i] - vlr_n[count][len(vlr_n[count])-2] >= -1.0)):\n",
    "                        weight_n[count] = weight_n[count] + 3    \n",
    "                        \n",
    "                    elif ((ts.values[i] != 0.0 and ts.values[i] >= 4.0) \n",
    "                          and (ts.values[i] - vlr_n[count][len(vlr_n[count])-2] <= 2.0 \n",
    "                          and ts.values[i] - vlr_n[count][len(vlr_n[count])-2] >= -2.0)):\n",
    "                        weight_n[count] = weight_n[count] + 2\n",
    "                    elif ((ts.values[i] != 0.0 and ts.values[i] <= -4.0) \n",
    "                          and (ts.values[i] - vlr_n[count][len(vlr_n[count])-2] <= 2.0 \n",
    "                          and ts.values[i] - vlr_n[count][len(vlr_n[count])-2] >= -2.0)):\n",
    "                        weight_n[count] = weight_n[count] + 2\n",
    "                        \n",
    "                    elif ((ts.values[i] != 0.0 and ts.values[i] >= 2.0) \n",
    "                          and (ts.values[i] - vlr_n[count][len(vlr_n[count])-2] <= 3.0\n",
    "                          and ts.values[i] - vlr_n[count][len(vlr_n[count])-2] >= -3.0)):\n",
    "                        weight_n[count] = weight_n[count] - 2\n",
    "                    elif ((ts.values[i] != 0.0 and ts.values[i] <= -2.0) \n",
    "                          and (ts.values[i] - vlr_n[count][len(vlr_n[count])-2] <= 3.0\n",
    "                          and ts.values[i] - vlr_n[count][len(vlr_n[count])-2] >= -3.0)):\n",
    "                        weight_n[count] = weight_n[count] - 2\n",
    "                        \n",
    "                    else:\n",
    "                        weight_n[count] = weight_n[count] - 3\n",
    "                        \n",
    "                else:\n",
    "                    weight_n[count] = 0\n",
    "            else:\n",
    "                continue\n",
    "    return period_n, vlr_n, weight_n"
   ]
  },
  {
   "cell_type": "code",
   "execution_count": 25,
   "id": "eb6c3c80",
   "metadata": {},
   "outputs": [
    {
     "data": {
      "text/plain": [
       "2"
      ]
     },
     "execution_count": 25,
     "metadata": {},
     "output_type": "execute_result"
    }
   ],
   "source": [
    "timestamp = pd.to_datetime(list_df[0]['Var'].index)\n",
    "timestamp[0].month"
   ]
  },
  {
   "cell_type": "code",
   "execution_count": 26,
   "id": "48634037",
   "metadata": {
    "scrolled": true
   },
   "outputs": [
    {
     "data": {
      "text/plain": [
       "3"
      ]
     },
     "execution_count": 26,
     "metadata": {},
     "output_type": "execute_result"
    }
   ],
   "source": [
    "month = datetime.datetime.strptime(str(timestamp[1]), '%Y-%m-%d %H:%M:%S')\n",
    "month.month"
   ]
  },
  {
   "cell_type": "code",
   "execution_count": 27,
   "id": "2b511fec",
   "metadata": {},
   "outputs": [
    {
     "name": "stdout",
     "output_type": "stream",
     "text": [
      "ABEV3.SA [-45, -55, -57, -50, -58, -51, -51, -57, -46, -53, -57, -55] min ->  -58 max ->  -45\n",
      "ALPA4.SA [-35, -36, -36, -31, -29, -35, -23, -24, -35, -13, -24, -27] min ->  -36 max ->  -13\n",
      "ALSO3.SA [-21, -27, -21, -27, -20, -27, -25, -26, -16, -26, -19, -22] min ->  -27 max ->  -16\n",
      "AMAR3.SA [-34, -39, -38, -38, -34, -34, -24, -33, -31, -34, -23, -27] min ->  -39 max ->  -23\n",
      "ANIM3.SA [-20, -21, -21, -21, -20, -21, -21, -21, -20, -20, -21, -21] min ->  -21 max ->  -20\n",
      "AZUL4.SA [-8, -9, -9, -9, -9, -9, -9, -9, -4, -9, -9, -9] min ->  -9 max ->  -4\n",
      "B3SA3.SA [-27, -38, -32, -32, -38, -34, -37, -29, -28, -33, -39, -29] min ->  -39 max ->  -27\n",
      "BBAS3.SA [-52, -53, -53, -53, -52, -39, -60, -42, -60, -53, -59, -41] min ->  -60 max ->  -39\n",
      "BBDC3.SA [-48, -53, -54, -49, -54, -54, -57, -59, -53, -59, -53, -54] min ->  -59 max ->  -48\n",
      "BBDC4.SA [-25, -24, -33, -19, -26, -32, -38, -27, -35, -38, -39, -24] min ->  -39 max ->  -19\n",
      "BBSE3.SA [-9, -14, -21, -20, -20, -14, -21, -21, -19, -13, -21, -21] min ->  -21 max ->  -9\n",
      "BEEF3.SA [-39, -38, -39, -39, -38, -33, -34, -37, -39, -38, -32, -32] min ->  -39 max ->  -32\n",
      "BIDI4.SA [-6, -6, -6, -6, -6, -6, -6, -6, -6, -5, -6, -6] min ->  -6 max ->  -5\n",
      "BKBR3.SA [-6, -5, -6, -6, -6, -6, 0, -6, -6, 0, -6, -5] min ->  -6 max ->  0\n",
      "BPAC11.SA [-9, -9, -9, -9, -9, -9, -9, -9, -8, -9, -9, -8] min ->  -9 max ->  -8\n",
      "BPAN4.SA [-34, -38, -38, -38, -30, -29, -37, -39, -39, -39, -38, -37] min ->  -39 max ->  -29\n",
      "BRAP4.SA [-59, -43, -39, -42, -55, -55, -47, -53, -62, -57, -61, -59] min ->  -62 max ->  -39\n",
      "BRFS3.SA [-43, -44, -52, -37, -50, -53, -53, -47, -49, -45, -50, -38] min ->  -53 max ->  -37\n",
      "BRKM5.SA [-59, -47, -60, -47, -49, -56, -52, -57, -53, -58, -50, -49] min ->  -60 max ->  -47\n",
      "BRML3.SA [-39, -26, -32, -39, -32, -39, -31, -32, -21, -31, -37, -32] min ->  -39 max ->  -21\n",
      "BRPR3.SA [-18, -25, -30, -28, -29, -30, -29, -28, -24, -29, -29, -28] min ->  -30 max ->  -18\n",
      "BRSR6.SA [-24, -27, -35, -35, -29, -23, -33, -35, -24, -39, -37, -30] min ->  -39 max ->  -23\n",
      "CAML3.SA [-9, -4, -3, -9, -8, -9, -9, -8, -9, -7, -9, -9] min ->  -9 max ->  -3\n",
      "CCRO3.SA [-53, -53, -48, -52, -42, -52, -53, -52, -48, -45, -47, -42] min ->  -53 max ->  -42\n",
      "CESP6.SA [-41, -38, -42, -35, -40, -40, -30, -28, -42, -37, -36, -40] min ->  -42 max ->  -28\n",
      "CIEL3.SA [-27, -28, -28, -16, -18, -25, -22, -14, -31, -33, -31, -20] min ->  -33 max ->  -14\n",
      "CMIG3.SA [-41, -52, -49, -32, -60, -53, -53, -51, -41, -55, -51, -46] min ->  -60 max ->  -32\n",
      "CMIG4.SA [-55, -55, -53, -42, -44, -49, -55, -39, -36, -60, -54, -42] min ->  -60 max ->  -36\n",
      "COGN3.SA [-24, -19, -24, -23, -24, -24, -24, -24, -7, -24, -24, -24] min ->  -24 max ->  -7\n",
      "CPFE3.SA [-34, -33, -44, -50, -42, -49, -52, -47, -44, -44, -53, -50] min ->  -53 max ->  -33\n",
      "CPLE3.SA [-54, -49, -53, -53, -54, -57, -54, -51, -54, -57, -46, -49] min ->  -57 max ->  -46\n",
      "CPLE6.SA [-54, -56, -55, -51, -49, -54, -53, -58, -50, -53, -60, -49] min ->  -60 max ->  -49\n",
      "CRFB3.SA [-9, -9, -8, -9, -9, -4, -4, -8, -9, -3, -9, -9] min ->  -9 max ->  -3\n",
      "CSAN3.SA [-40, -44, -44, -34, -44, -40, -44, -43, -39, -40, -40, -34] min ->  -44 max ->  -34\n",
      "CSMG3.SA [-42, -25, -41, -35, -32, -41, -40, -39, -36, -30, -41, -30] min ->  -42 max ->  -25\n",
      "CSNA3.SA [-58, -53, -54, -50, -41, -42, -39, -48, -58, -53, -62, -60] min ->  -62 max ->  -39\n",
      "CVCB3.SA [-18, -18, -18, -18, -11, -12, -18, -18, -11, -17, -17, -13] min ->  -18 max ->  -11\n",
      "CYRE3.SA [-52, -55, -58, -60, -54, -60, -53, -57, -50, -60, -56, -49] min ->  -60 max ->  -49\n",
      "DIRR3.SA [-32, -27, -32, -28, -20, -33, -33, -22, -27, -16, -28, -33] min ->  -33 max ->  -16\n",
      "DMMO3.SA [-15, -15, -15, -9, -15, -15, -15, -15, -9, -15, -15, -9] min ->  -15 max ->  -9\n",
      "ECOR3.SA [-30, -24, -25, -30, -30, -24, -22, -25, -19, -25, -28, -28] min ->  -30 max ->  -19\n",
      "EGIE3.SA [-45, -41, -35, -42, -42, -41, -34, -37, -46, -49, -48, -43] min ->  -49 max ->  -34\n",
      "ELET3.SA [-54, -53, -54, -46, -48, -54, -58, -51, -58, -42, -60, -59] min ->  -60 max ->  -42\n",
      "ELET6.SA [-28, -35, -30, -30, -34, -36, -36, -22, -36, -30, -36, -33] min ->  -36 max ->  -22\n",
      "EMBR3.SA [-47, -55, -53, -48, -59, -40, -59, -54, -58, -48, -59, -43] min ->  -59 max ->  -40\n",
      "ENAT3.SA [-27, -21, -25, -22, -15, -27, -26, -27, -26, -25, -27, -21] min ->  -27 max ->  -15\n",
      "ENBR3.SA [-46, -39, -35, -36, -49, -45, -46, -48, -54, -48, -33, -44] min ->  -54 max ->  -33\n",
      "ENEV3.SA [-30, -35, -30, -30, -36, -29, -20, -35, -31, -35, -30, -34] min ->  -36 max ->  -20\n",
      "ENGI11.SA [-24, -28, -25, -30, -28, -29, -18, -30, -30, -30, -24, -25] min ->  -30 max ->  -18\n",
      "EQTL3.SA [-25, -35, -25, -33, -35, -34, -36, -35, -35, -36, -34, -29] min ->  -36 max ->  -25\n",
      "ETER3.SA [-53, -57, -60, -50, -60, -49, -49, -48, -60, -53, -38, -53] min ->  -60 max ->  -38\n",
      "EVEN3.SA [-33, -26, -28, -38, -34, -38, -38, -39, -39, -33, -28, -27] min ->  -39 max ->  -26\n",
      "EZTC3.SA [-38, -27, -39, -37, -34, -34, -26, -32, -37, -32, -38, -38] min ->  -39 max ->  -26\n",
      "FLRY3.SA [-30, -19, -30, -30, -19, -13, -29, -29, -30, -28, -27, -30] min ->  -30 max ->  -13\n",
      "GFSA3.SA [-29, -31, -42, -36, -30, -42, -34, -41, -41, -32, -36, -42] min ->  -42 max ->  -29\n",
      "GGBR4.SA [-56, -54, -50, -35, -57, -41, -54, -59, -56, -44, -48, -58] min ->  -59 max ->  -35\n",
      "GNDI3.SA [-6, 0, -6, -6, -6, -6, -5, -6, -6, -6, -5, -6] min ->  -6 max ->  0\n",
      "GOAU4.SA [-49, -48, -58, -48, -53, -45, -50, -55, -52, -55, -52, -59] min ->  -59 max ->  -45\n",
      "GOLL4.SA [-46, -47, -48, -48, -47, -48, -42, -43, -46, -48, -48, -41] min ->  -48 max ->  -41\n",
      "GRND3.SA [-29, -41, -40, -48, -40, -39, -41, -46, -45, -41, -42, -48] min ->  -48 max ->  -29\n",
      "GUAR3.SA [-54, -54, -59, -56, -48, -47, -50, -54, -51, -55, -58, -58] min ->  -59 max ->  -47\n",
      "HAPV3.SA [-6, -6, -6, -6, -6, -6, -1, -6, -6, -5, -6, -6] min ->  -6 max ->  -1\n",
      "HBOR3.SA [-38, -34, -23, -37, -38, -39, -39, -32, -34, -39, -39, -33] min ->  -39 max ->  -23\n",
      "HYPE3.SA [-36, -31, -25, -20, -30, -35, -36, -36, -24, -20, -30, -25] min ->  -36 max ->  -20\n",
      "IGTA3.SA [-32, -33, -33, -39, -32, -39, -29, -38, -32, -38, -39, -29] min ->  -39 max ->  -29\n",
      "IRBR3.SA [-9, -8, -9, -9, -9, -8, -9, 1, -4, -9, -9, -9] min ->  -9 max ->  1\n",
      "ITSA4.SA [-51, -48, -59, -54, -31, -53, -59, -59, -47, -54, -60, -57] min ->  -60 max ->  -31\n",
      "ITUB4.SA [-40, -45, -51, -42, -39, -50, -47, -49, -39, -40, -50, -55] min ->  -55 max ->  -39\n",
      "JBSS3.SA [-38, -31, -39, -34, -39, -33, -28, -39, -38, -38, -39, -38] min ->  -39 max ->  -28\n",
      "JHSF3.SA [-32, -33, -33, -37, -39, -39, -38, -38, -37, -33, -34, -26] min ->  -39 max ->  -26\n",
      "KLBN11.SA [-18, -18, -18, -17, -12, -13, -12, -13, -12, -18, -17, -13] min ->  -18 max ->  -12\n",
      "KLBN4.SA [-30, -27, -30, -29, -26, -26, -27, -30, -30, -31, -22, -19] min ->  -31 max ->  -19\n",
      "LAME3.SA [-53, -58, -60, -58, -48, -48, -30, -49, -56, -55, -55, -59] min ->  -60 max ->  -30\n",
      "LAME4.SA [-45, -55, -60, -48, -46, -53, -47, -63, -50, -57, -59, -50] min ->  -63 max ->  -45\n",
      "LCAM3.SA [-23, -18, -23, -18, -23, -24, -19, -24, -18, -24, -24, -24] min ->  -24 max ->  -18\n",
      "LIGT3.SA [-49, -53, -43, -53, -59, -59, -54, -47, -43, -44, -37, -55] min ->  -59 max ->  -37\n",
      "LREN3.SA [-26, -46, -42, -50, -46, -40, -40, -26, -42, -35, -45, -35] min ->  -50 max ->  -26\n",
      "MDIA3.SA [-36, -30, -36, -41, -35, -32, -31, -30, -36, -31, -38, -24] min ->  -41 max ->  -24\n",
      "MEAL3.SA [-26, -20, -22, -26, -26, -27, -27, -21, -22, -21, -21, -25] min ->  -27 max ->  -20\n",
      "MGLU3.SA [-27, -21, -27, -22, -26, -27, -27, -22, -27, -27, -27, -21] min ->  -27 max ->  -21\n",
      "MILS3.SA [-30, -25, -24, -30, -30, -30, -23, -30, -17, -30, -28, -30] min ->  -30 max ->  -17\n",
      "MOVI3.SA [-8, -9, -4, -9, -9, -4, -9, -9, -9, -9, -4, -9] min ->  -9 max ->  -4\n",
      "MRFG3.SA [-34, -34, -37, -39, -32, -39, -34, -39, -28, -38, -39, -39] min ->  -39 max ->  -28\n",
      "MRVE3.SA [-32, -37, -39, -39, -29, -39, -38, -32, -27, -39, -37, -24] min ->  -39 max ->  -24\n",
      "MULT3.SA [-37, -31, -23, -39, -21, -39, -32, -29, -27, -37, -33, -36] min ->  -39 max ->  -21\n",
      "MYPK3.SA [-41, -50, -53, -53, -60, -43, -49, -57, -58, -54, -57, -53] min ->  -60 max ->  -41\n",
      "ODPV3.SA [-37, -41, -37, -40, -25, -41, -39, -41, -35, -35, -39, -35] min ->  -41 max ->  -25\n",
      "OIBR3.SA [-45, -39, -36, -44, -48, -48, -50, -50, -42, -39, -39, -44] min ->  -50 max ->  -36\n",
      "OIBR4.SA [-53, -47, -42, -42, -54, -51, -53, -51, -48, -48, -43, -54] min ->  -54 max ->  -42\n",
      "PCAR3.SA [-11, -18, -18, -12, -6, -9, -12, -6, -9, -7, -12, -6] min ->  -18 max ->  -6\n",
      "PETR3.SA [-52, -60, -58, -59, -54, -45, -57, -58, -54, -59, -58, -53] min ->  -60 max ->  -45\n",
      "PETR4.SA [-54, -54, -60, -50, -47, -27, -59, -46, -46, -59, -49, -53] min ->  -60 max ->  -27\n",
      "POMO4.SA [-53, -59, -48, -54, -54, -58, -50, -49, -53, -60, -49, -55] min ->  -60 max ->  -48\n"
     ]
    },
    {
     "name": "stdout",
     "output_type": "stream",
     "text": [
      "POSI3.SA [-38, -39, -39, -39, -35, -39, -37, -39, -32, -38, -41, -39] min ->  -41 max ->  -32\n",
      "PRIO3.SA [-25, -29, -24, -30, -24, -29, -30, -18, -24, -22, -29, -30] min ->  -30 max ->  -18\n",
      "PTBL3.SA [-39, -59, -54, -55, -53, -48, -59, -52, -53, -50, -49, -54] min ->  -59 max ->  -39\n",
      "QUAL3.SA [-22, -20, -27, -10, -27, -27, -24, -16, -20, -10, -21, -25] min ->  -27 max ->  -10\n",
      "RADL3.SA [-41, -37, -54, -49, -36, -42, -42, -39, -41, -43, -46, -47] min ->  -54 max ->  -36\n",
      "RAIL3.SA [-15, -15, -15, -15, -15, -14, -14, -15, -15, -10, -9, -14] min ->  -15 max ->  -9\n",
      "RANI3.SA [-57, -53, -43, -47, -53, -59, -47, -51, -49, -47, -49, -57] min ->  -59 max ->  -43\n",
      "RAPT4.SA [-60, -52, -48, -37, -54, -47, -59, -38, -49, -59, -49, -48] min ->  -60 max ->  -37\n",
      "RCSL4.SA [-57, -54, -52, -60, -53, -49, -57, -51, -46, -57, -62, -50] min ->  -62 max ->  -46\n",
      "RENT3.SA [-40, -40, -40, -39, -44, -37, -44, -44, -45, -44, -44, -28] min ->  -45 max ->  -28\n",
      "SANB11.SA [-26, -26, -33, -19, -22, -28, -32, -27, -32, -33, -27, -20] min ->  -33 max ->  -19\n",
      "SAPR11.SA [-6, -6, -6, -6, -6, -6, -5, -6, -5, -5, -6, -6] min ->  -6 max ->  -5\n",
      "SAPR4.SA [-32, -36, -34, -35, -39, -36, -34, -39, -23, -36, -35, -32] min ->  -39 max ->  -23\n",
      "SBSP3.SA [-41, -51, -55, -58, -48, -55, -38, -47, -49, -53, -50, -48] min ->  -58 max ->  -38\n",
      "SLCE3.SA [-39, -39, -38, -30, -38, -38, -37, -26, -39, -39, -28, -37] min ->  -39 max ->  -26\n",
      "SMTO3.SA [-29, -27, -36, -38, -37, -33, -34, -27, -39, -38, -28, -38] min ->  -39 max ->  -27\n",
      "STBP3.SA [-11, -12, -12, -2, -6, -11, -11, -12, -7, -12, -12, -11] min ->  -12 max ->  -2\n",
      "SULA11.SA [-34, -24, -38, -37, -32, -39, -28, -38, -39, -38, -29, -29] min ->  -39 max ->  -24\n",
      "SUZB3.SA [-9, -8, -3, -9, -9, -9, -9, -9, -4, -9, -9, -4] min ->  -9 max ->  -3\n",
      "TAEE11.SA [-36, -31, -37, -33, -39, -38, -32, -33, -37, -39, -33, -34] min ->  -39 max ->  -31\n",
      "TASA4.SA [-48, -42, -48, -42, -40, -47, -36, -48, -48, -41, -37, -48] min ->  -48 max ->  -36\n",
      "TCSA3.SA [-26, -33, -26, -33, -27, -38, -38, -36, -37, -34, -32, -39] min ->  -39 max ->  -26\n",
      "TECN3.SA [-15, -27, -27, -16, -11, -22, -17, -27, -21, -26, -22, -16] min ->  -27 max ->  -11\n",
      "TEND3.SA [-15, -15, -12, -12, -15, -15, -9, -10, -15, -13, -18, -15] min ->  -18 max ->  -9\n",
      "TIMS3.SA [-33, -32, -39, -40, -39, -32, -34, -45, -42, -33, -34, -33] min ->  -45 max ->  -32\n",
      "TOTS3.SA [-36, -28, -37, -36, -30, -41, -31, -19, -41, -42, -39, -41] min ->  -42 max ->  -19\n",
      "TPIS3.SA [-34, -35, -29, -39, -32, -39, -26, -32, -33, -39, -33, -33] min ->  -39 max ->  -26\n",
      "TRIS3.SA [-39, -34, -38, -37, -27, -34, -28, -28, -32, -28, -34, -39] min ->  -39 max ->  -27\n",
      "TRPL4.SA [-51, -50, -52, -48, -47, -37, -44, -54, -41, -52, -54, -51] min ->  -54 max ->  -37\n",
      "UGPA3.SA [-22, -22, -22, -22, -33, -23, -33, -33, -20, -23, -25, -15] min ->  -33 max ->  -15\n",
      "USIM5.SA [-57, -60, -53, -54, -47, -55, -60, -57, -60, -59, -60, -59] min ->  -60 max ->  -47\n",
      "VALE3.SA [-58, -53, -49, -50, -54, -42, -48, -49, -59, -46, -59, -55] min ->  -59 max ->  -42\n",
      "VIVR3.SA [-39, -34, -38, -33, -33, -39, -39, -39, -34, -38, -33, -34] min ->  -39 max ->  -33\n",
      "WEGE3.SA [-46, -44, -46, -41, -43, -38, -36, -43, -47, -54, -47, -45] min ->  -54 max ->  -36\n",
      "WIZS3.SA [-5, -15, -15, -15, -15, -15, -15, -14, -9, -12, -15, -15] min ->  -15 max ->  -5\n",
      "YDUQ3.SA [-36, -35, -30, -31, -30, -36, -36, -31, -31, -26, -29, -35] min ->  -36 max ->  -26\n"
     ]
    }
   ],
   "source": [
    "for i in range(0, len(list_df)):\n",
    "    period_n, vlr_n, weight_n = find_paterns(list_df[i]['Var'], 12)\n",
    "    print(list_df[i]['Ticker'][0], weight_n, 'min -> ', min(weight_n), 'max -> ', max(weight_n))"
   ]
  },
  {
   "cell_type": "code",
   "execution_count": 28,
   "id": "6b6b5343",
   "metadata": {},
   "outputs": [
    {
     "name": "stdout",
     "output_type": "stream",
     "text": [
      "ABEV3.SA [-33, -44, -43, -28, -42, -42, -37, -39, -29, -49, -44, -28] min ->  -49 max ->  -28\n",
      "ALPA4.SA [-26, -14, -33, -21, -14, -20, -14, -14, -16, 4, -20, 6] min ->  -33 max ->  6\n",
      "ALSO3.SA [-22, -21, -12, -22, -12, -27, -16, -17, -9, -22, -5, -4] min ->  -27 max ->  -4\n",
      "AMAR3.SA [-22, -33, -16, -10, -4, -21, -5, -16, -11, -10, -12, -27] min ->  -33 max ->  -4\n",
      "ANIM3.SA [2, -16, -21, -10, -11, -14, -15, -15, -9, -10, -15, -21] min ->  -21 max ->  2\n",
      "AZUL4.SA [-3, -9, -4, -9, -9, -3, -3, -9, -3, -3, -9, -4] min ->  -9 max ->  -3\n",
      "B3SA3.SA [-11, -23, -27, -22, -18, -28, -21, -24, -23, -16, -38, -22] min ->  -38 max ->  -11\n",
      "BBAS3.SA [-10, -49, -46, -31, -18, -32, -44, -22, -36, -24, -49, -23] min ->  -49 max ->  -10\n",
      "BBDC3.SA [-11, -32, -43, -41, -32, -34, -39, -54, -29, -44, -44, -30] min ->  -54 max ->  -11\n",
      "BBDC4.SA [-5, -3, -27, -7, -5, -27, -29, -29, -12, -34, -34, -19] min ->  -34 max ->  -3\n",
      "BBSE3.SA [2, 1, -21, -10, -16, -10, -21, -16, -10, -10, -21, -20] min ->  -21 max ->  2\n",
      "BEEF3.SA [-34, -28, -23, -22, -16, -27, -23, -17, -39, -29, -28, -20] min ->  -39 max ->  -16\n",
      "BIDI4.SA [-6, -6, -6, -6, -6, 0, 0, -1, 0, 6, -6, -6] min ->  -6 max ->  6\n",
      "BKBR3.SA [-1, 0, -6, -6, -1, -6, 6, -6, -6, 6, -6, -6] min ->  -6 max ->  6\n",
      "BPAC11.SA [-3, -3, -9, 3, 3, -4, 3, -9, -2, -9, -9, 1] min ->  -9 max ->  3\n",
      "BPAN4.SA [-16, -34, -23, -15, -1, -21, -28, -28, -39, -28, -23, -22] min ->  -39 max ->  -1\n",
      "BRAP4.SA [-30, -18, -30, -11, -41, -28, -19, -37, -33, -36, -43, -38] min ->  -43 max ->  -11\n",
      "BRFS3.SA [-37, -26, -44, -24, -19, -43, -36, -32, -37, -22, -41, -23] min ->  -44 max ->  -19\n",
      "BRKM5.SA [-20, -28, -37, -32, -37, -34, -11, -20, -32, -20, -38, -25] min ->  -38 max ->  -11\n",
      "BRML3.SA [-29, -4, -23, -32, -23, -33, -11, -17, -15, -14, -16, -21] min ->  -33 max ->  -4\n",
      "BRPR3.SA [-8, -24, -17, -24, -14, -18, -13, -20, -23, -19, -19, -19] min ->  -24 max ->  -8\n",
      "BRSR6.SA [-6, -20, -26, -31, -24, -21, -11, -31, -15, -33, -22, -26] min ->  -33 max ->  -6\n",
      "CAML3.SA [-9, 2, 1, -9, -4, -9, -9, -4, -8, 1, -4, -8] min ->  -9 max ->  2\n",
      "CCRO3.SA [-44, -47, -32, -36, -12, -49, -49, -37, -42, -32, -25, -24] min ->  -49 max ->  -12\n",
      "CESP6.SA [-29, -22, -30, -19, -18, -27, -20, -11, -37, -37, -21, -9] min ->  -37 max ->  -9\n",
      "CIEL3.SA [-17, -22, -21, -6, -14, -15, -17, 2, -12, -27, -22, -7] min ->  -27 max ->  2\n",
      "CMIG3.SA [-22, -34, -43, -6, -42, -48, -43, -29, -10, -41, -33, -8] min ->  -48 max ->  -6\n",
      "CMIG4.SA [-41, -33, -39, -22, -11, -44, -49, -31, -6, -43, -38, -13] min ->  -49 max ->  -6\n",
      "COGN3.SA [-13, -7, -24, -18, -18, -19, -11, -6, 5, -1, -19, -24] min ->  -24 max ->  5\n",
      "CPFE3.SA [-16, -21, -34, -30, -38, -46, -42, -34, -37, -39, -43, -29] min ->  -46 max ->  -16\n",
      "CPLE3.SA [-25, -23, -31, -38, -43, -33, -49, -34, -32, -44, -2, -38] min ->  -49 max ->  -2\n",
      "CPLE6.SA [-32, -37, -44, -23, -43, -38, -44, -50, -42, -38, -17, -43] min ->  -50 max ->  -17\n",
      "CRFB3.SA [-8, -9, -3, -9, -9, -3, -4, -4, -9, 2, -9, -4] min ->  -9 max ->  2\n",
      "CSAN3.SA [-18, -33, -34, -17, -39, -39, -11, -17, -34, -28, -29, -34] min ->  -39 max ->  -11\n",
      "CSMG3.SA [-23, -4, -37, -9, -21, -26, -24, -26, -29, -20, -37, -20] min ->  -37 max ->  -4\n",
      "CSNA3.SA [-10, -17, -38, -18, 1, -17, -27, -32, -38, -42, -29, -42] min ->  -42 max ->  1\n",
      "CVCB3.SA [-2, -6, -13, -1, -6, -6, -18, -13, -7, -6, -13, -11] min ->  -18 max ->  -1\n",
      "CYRE3.SA [-20, -45, -43, -36, -43, -47, -18, -45, -37, -40, -30, -33] min ->  -47 max ->  -18\n",
      "DIRR3.SA [-4, -23, -23, -27, -5, -27, -4, -17, -27, -16, -21, -33] min ->  -33 max ->  -4\n",
      "DMMO3.SA [-3, 3, -9, -9, -9, -15, -9, -9, 3, -10, -3, 7] min ->  -15 max ->  7\n",
      "ECOR3.SA [-24, -18, -18, -29, -23, -15, -13, -22, -12, -14, -13, -13] min ->  -29 max ->  -12\n",
      "EGIE3.SA [-32, -29, -17, -37, -36, -27, -25, -37, -23, -47, -47, -32] min ->  -47 max ->  -17\n",
      "ELET3.SA [-35, -38, -32, -19, -24, -37, -26, -13, -30, -14, -47, -39] min ->  -47 max ->  -13\n",
      "ELET6.SA [-23, -24, -24, -14, -21, -36, -24, -10, -29, -12, -24, -27] min ->  -36 max ->  -10\n",
      "EMBR3.SA [-24, -55, -32, -21, -50, -25, -47, -14, -36, -20, -54, -22] min ->  -55 max ->  -14\n",
      "ENAT3.SA [-15, -22, -6, -17, -15, -20, -5, -21, -22, -12, -26, -11] min ->  -26 max ->  -5\n",
      "ENBR3.SA [-38, -32, -27, -33, -40, -34, -33, -33, -46, -36, -32, -37] min ->  -46 max ->  -27\n",
      "ENEV3.SA [-23, -14, -18, -20, -21, -12, -13, -15, -21, -14, -14, -15] min ->  -23 max ->  -12\n",
      "ENGI11.SA [-17, -19, -20, -23, -20, -25, -3, -29, -29, -30, -23, -19] min ->  -30 max ->  -3\n",
      "EQTL3.SA [-20, -24, -19, -20, -26, -20, -29, -26, -30, -35, -26, -18] min ->  -35 max ->  -18\n",
      "ETER3.SA [-28, -31, -36, -33, -35, -38, -31, -43, -52, -44, -31, -27] min ->  -52 max ->  -27\n",
      "EVEN3.SA [2, -16, -22, -28, -23, -33, -16, -28, -21, -9, -28, -11] min ->  -33 max ->  2\n",
      "EZTC3.SA [-18, -10, -27, -24, -22, -22, -7, -18, -12, -7, -24, -33] min ->  -33 max ->  -7\n",
      "FLRY3.SA [-24, -18, -23, -23, -13, -13, -19, -24, -25, -19, -14, -30] min ->  -30 max ->  -13\n",
      "GFSA3.SA [-19, -12, -13, -23, -6, -25, -14, -15, -24, -9, -12, -31] min ->  -31 max ->  -6\n",
      "GGBR4.SA [-41, -53, -39, -22, -35, -24, -39, -31, -41, -37, -31, -42] min ->  -53 max ->  -22\n",
      "GNDI3.SA [-6, 0, 0, -1, 6, -6, -1, 0, -1, -6, -1, 0] min ->  -6 max ->  6\n",
      "GOAU4.SA [-26, -27, -33, -10, -37, -32, -39, -31, -42, -49, -28, -29] min ->  -49 max ->  -10\n",
      "GOLL4.SA [-19, -21, -30, -37, -13, -31, -1, -26, -31, -25, -48, -14] min ->  -48 max ->  -1\n",
      "GRND3.SA [-10, -16, -15, -47, -27, -20, -32, -38, -33, -12, -27, -37] min ->  -47 max ->  -10\n",
      "GUAR3.SA [-31, -54, -48, -39, -30, -40, -25, -19, -29, -14, -51, -49] min ->  -54 max ->  -14\n",
      "HAPV3.SA [-6, 0, 0, -6, -6, -1, 0, -6, -6, -1, -1, 0] min ->  -6 max ->  0\n",
      "HBOR3.SA [-22, -9, -7, -29, -15, -22, -10, -28, -28, -22, -21, -5] min ->  -29 max ->  -5\n",
      "HYPE3.SA [-36, -29, -20, -13, -9, -30, -23, -36, -9, -8, -21, -19] min ->  -36 max ->  -8\n",
      "IGTA3.SA [-2, -19, -28, -39, -18, -39, -20, -28, -12, -28, -33, -11] min ->  -39 max ->  -2\n",
      "IRBR3.SA [-9, 2, -9, -9, -9, -4, -9, 3, -3, -9, -9, -9] min ->  -9 max ->  3\n",
      "ITSA4.SA [-18, -37, -54, -47, -20, -48, -49, -48, -31, -23, -60, -44] min ->  -60 max ->  -18\n",
      "ITUB4.SA [-1, -36, -42, -19, -17, -40, -41, -40, -17, -28, -36, -29] min ->  -42 max ->  -1\n",
      "JBSS3.SA [-23, -11, -22, -27, -33, -24, -21, -15, -34, -22, -38, -28] min ->  -38 max ->  -11\n",
      "JHSF3.SA [-27, -28, -33, -24, -11, -32, -22, -22, -24, -10, -5, -13] min ->  -33 max ->  -5\n",
      "KLBN11.SA [-7, -13, -7, -13, -8, -12, -12, -8, -12, -17, -8, -12] min ->  -17 max ->  -7\n",
      "KLBN4.SA [-24, -15, -19, -25, -21, -17, -26, -24, -18, -16, -21, -2] min ->  -26 max ->  -2\n",
      "LAME3.SA [-27, -44, -36, -47, -33, -34, -20, -13, -26, -38, -54, -36] min ->  -54 max ->  -13\n",
      "LAME4.SA [-22, -36, -39, -36, -15, -43, -22, -33, -22, -37, -42, -15] min ->  -43 max ->  -15\n",
      "LCAM3.SA [-7, -12, -17, -12, -18, -18, -18, -24, -13, -7, -18, -5] min ->  -24 max ->  -5\n",
      "LIGT3.SA [-30, -34, -30, -32, -48, -50, -49, -33, -17, -37, -20, -48] min ->  -50 max ->  -17\n",
      "LREN3.SA [-9, -33, -18, -29, -34, -34, -22, -21, -30, -32, -38, -34] min ->  -38 max ->  -9\n",
      "MDIA3.SA [-10, -24, -15, -19, -20, -25, -25, -25, -37, -21, -20, -10] min ->  -37 max ->  -10\n",
      "MEAL3.SA [-21, 2, -22, -16, -15, -5, -15, -17, -15, -8, -4, -15] min ->  -22 max ->  2\n",
      "MGLU3.SA [-21, -3, -11, 1, -12, -17, -15, -10, -15, -9, -27, -11] min ->  -27 max ->  1\n",
      "MILS3.SA [-8, -25, 1, -19, -18, -19, 0, -19, 3, -19, -7, -19] min ->  -25 max ->  3\n",
      "MOVI3.SA [3, -4, 7, 3, -9, 2, -3, -8, -8, -9, 3, -4] min ->  -9 max ->  7\n",
      "MRFG3.SA [-27, -22, -28, -4, -11, -27, -34, -27, -28, -22, -27, -29] min ->  -34 max ->  -4\n",
      "MRVE3.SA [-28, -18, -28, -32, -10, -33, -12, -5, -22, -39, -28, -11] min ->  -39 max ->  -5\n",
      "MULT3.SA [-29, -11, -12, -33, -2, -38, -24, -28, -22, -33, -19, -13] min ->  -38 max ->  -2\n",
      "MYPK3.SA [-10, -46, -32, -31, -48, -37, -25, -35, -39, -43, -28, -24] min ->  -48 max ->  -10\n",
      "ODPV3.SA [-37, -36, -35, -18, -20, -32, -25, -37, -27, -21, -32, -26] min ->  -37 max ->  -18\n",
      "OIBR3.SA [-33, -21, -10, -16, -29, -39, -40, -29, -12, -16, -26, -28] min ->  -40 max ->  -10\n",
      "OIBR4.SA [-31, -32, -20, -20, -37, -33, -37, -32, -41, -18, -26, -47] min ->  -47 max ->  -18\n",
      "PCAR3.SA [-7, -17, -6, -12, -6, -8, -11, -6, -9, -6, -11, -6] min ->  -17 max ->  -6\n",
      "PETR3.SA [-26, -49, -52, -37, -26, -28, -45, -38, -32, -37, -44, -27] min ->  -52 max ->  -26\n",
      "PETR4.SA [-26, -38, -49, -36, -28, -16, -47, -26, -25, -37, -47, -26] min ->  -49 max ->  -16\n",
      "POMO4.SA [-49, -38, -33, -32, -54, -43, -37, -39, -38, -31, -39, -24] min ->  -54 max ->  -24\n",
      "POSI3.SA [-9, -34, -34, -28, -24, -33, -10, -33, -28, -21, -14, -34] min ->  -34 max ->  -9\n",
      "PRIO3.SA [-2, -12, -12, -30, -7, -13, -12, -9, -3, 9, -18, -6] min ->  -30 max ->  9\n",
      "PTBL3.SA [-12, -36, -33, -48, -31, -25, -36, -21, -31, -20, -21, -37] min ->  -48 max ->  -12\n",
      "QUAL3.SA [-15, -16, -27, -3, -22, -21, -5, -5, -9, -2, -15, -17] min ->  -27 max ->  -2\n",
      "RADL3.SA [-23, -25, -53, -35, -19, -30, -17, -28, -24, -30, -45, -37] min ->  -53 max ->  -17\n",
      "RAIL3.SA [-3, -2, -15, -15, -10, -9, 1, -14, 1, -10, -10, -15] min ->  -15 max ->  1\n",
      "RANI3.SA [-46, -32, -35, -41, -25, -30, -26, -46, -34, -32, -36, -45] min ->  -46 max ->  -25\n",
      "RAPT4.SA [-27, -25, -34, -20, -22, -30, -9, -13, -23, -37, -19, -14] min ->  -37 max ->  -9\n",
      "RCSL4.SA [-39, -49, 5, -31, -49, -31, -38, -40, -25, -41, -39, -20] min ->  -49 max ->  5\n",
      "RENT3.SA [-27, -19, -28, -15, -38, -29, -28, -40, -45, -40, -28, -6] min ->  -45 max ->  -6\n",
      "SANB11.SA [-6, -21, -33, -6, -15, -27, -27, -26, -27, -27, -22, -4] min ->  -33 max ->  -4\n",
      "SAPR11.SA [-6, -6, -6, -6, -6, 0, -6, -6, -6, -1, -6, -1] min ->  -6 max ->  0\n",
      "SAPR4.SA [-15, -18, -26, -26, -38, -31, -18, -28, -9, -30, -30, -27] min ->  -38 max ->  -9\n",
      "SBSP3.SA [-14, -28, -43, -48, -31, -42, -29, -32, -19, -38, -42, -38] min ->  -48 max ->  -14\n",
      "SLCE3.SA [-33, -28, -28, 0, -28, -33, -27, -22, -38, -26, -16, -16] min ->  -38 max ->  0\n",
      "SMTO3.SA [-16, -13, -18, -34, -28, -28, -34, -12, -33, -23, -16, -33] min ->  -34 max ->  -12\n",
      "STBP3.SA [-7, 0, -7, 0, -6, -12, -6, -7, -2, -7, -6, -2] min ->  -12 max ->  0\n"
     ]
    },
    {
     "name": "stdout",
     "output_type": "stream",
     "text": [
      "SULA11.SA [-27, -22, -33, -28, -22, -39, -9, -28, -32, -34, -11, -27] min ->  -39 max ->  -9\n",
      "SUZB3.SA [-3, -4, -3, -9, -9, -7, -9, -3, -3, -9, 9, -4] min ->  -9 max ->  9\n",
      "TAEE11.SA [-18, -16, -23, -29, -39, -34, -23, -26, -31, -32, -32, -33] min ->  -39 max ->  -16\n",
      "TASA4.SA [-37, -15, -25, -23, -15, -37, -16, -26, -41, -20, -19, -30] min ->  -41 max ->  -15\n",
      "TCSA3.SA [-1, -15, -23, -22, -12, -28, -10, -34, -22, -21, -4, -32] min ->  -34 max ->  -1\n",
      "TECN3.SA [-5, -15, -17, -5, -5, -16, -15, -16, -21, -27, -11, -4] min ->  -27 max ->  -4\n",
      "TEND3.SA [-3, -15, -6, -7, -10, -9, 6, -9, -10, -7, -18, -15] min ->  -18 max ->  6\n",
      "TIMS3.SA [-29, -18, -23, -40, -39, -28, -17, -42, -20, -19, -15, -22] min ->  -42 max ->  -15\n",
      "TOTS3.SA [-23, -11, -30, -15, -14, -25, -25, -7, -31, -36, -9, -35] min ->  -36 max ->  -7\n",
      "TPIS3.SA [-20, -14, -22, -32, -10, -22, -10, -16, -12, -32, -23, -27] min ->  -32 max ->  -10\n",
      "TRIS3.SA [-34, -28, -17, -22, -17, -27, -15, -22, -21, -9, -27, -21] min ->  -34 max ->  -9\n",
      "TRPL4.SA [-32, -40, -39, -37, -38, -28, -21, -49, -23, -44, -44, -34] min ->  -49 max ->  -21\n",
      "UGPA3.SA [-21, 0, -15, -16, -26, -15, -33, -23, -18, -19, -14, 0] min ->  -33 max ->  0\n",
      "USIM5.SA [-18, -37, -25, -12, 1, -29, -25, -20, -48, -36, -13, -45] min ->  -48 max ->  1\n",
      "VALE3.SA [-33, -33, -32, -23, -33, -25, -22, -44, -48, -38, -48, -42] min ->  -48 max ->  -22\n",
      "VIVR3.SA [-27, -21, -32, -9, 2, -15, -28, 1, -17, -34, -3, -17] min ->  -34 max ->  2\n",
      "WEGE3.SA [-17, -40, -31, -35, -33, -25, 2, -41, -39, -36, -27, -39] min ->  -41 max ->  2\n",
      "WIZS3.SA [3, -9, -9, -15, -15, 2, -15, -10, -9, 0, -4, -15] min ->  -15 max ->  3\n",
      "YDUQ3.SA [-8, -18, -19, -17, -26, -31, -21, -13, -14, -1, -19, -31] min ->  -31 max ->  -1\n"
     ]
    }
   ],
   "source": [
    "for i in range(0, len(list_df)):\n",
    "    period_n, vlr_n, weight_n = find_paterns(list_df[i]['Category'], 12)\n",
    "    print(list_df[i]['Ticker'][0], weight_n, 'min -> ', min(weight_n), 'max -> ', max(weight_n))"
   ]
  },
  {
   "cell_type": "code",
   "execution_count": 29,
   "id": "5ccfb582",
   "metadata": {},
   "outputs": [],
   "source": [
    "period_n, vlr_n, weight_n = find_paterns(list_df[111]['Var'], 12)"
   ]
  },
  {
   "cell_type": "code",
   "execution_count": 30,
   "id": "e7276639",
   "metadata": {},
   "outputs": [
    {
     "data": {
      "text/plain": [
       "[-9, -8, -3, -9, -9, -9, -9, -9, -4, -9, -9, -4]"
      ]
     },
     "execution_count": 30,
     "metadata": {},
     "output_type": "execute_result"
    }
   ],
   "source": [
    "weight_n"
   ]
  },
  {
   "cell_type": "code",
   "execution_count": 31,
   "id": "ab9614a3",
   "metadata": {},
   "outputs": [
    {
     "data": {
      "text/plain": [
       "[1, 2, 3, 4, 5, 6, 7, 8, 9, 10, 11, 12]"
      ]
     },
     "execution_count": 31,
     "metadata": {},
     "output_type": "execute_result"
    }
   ],
   "source": [
    "period_n"
   ]
  },
  {
   "cell_type": "code",
   "execution_count": 32,
   "id": "d275a3fe",
   "metadata": {},
   "outputs": [
    {
     "data": {
      "text/html": [
       "<div>\n",
       "<style scoped>\n",
       "    .dataframe tbody tr th:only-of-type {\n",
       "        vertical-align: middle;\n",
       "    }\n",
       "\n",
       "    .dataframe tbody tr th {\n",
       "        vertical-align: top;\n",
       "    }\n",
       "\n",
       "    .dataframe thead th {\n",
       "        text-align: right;\n",
       "    }\n",
       "</style>\n",
       "<table border=\"1\" class=\"dataframe\">\n",
       "  <thead>\n",
       "    <tr style=\"text-align: right;\">\n",
       "      <th></th>\n",
       "      <th>High</th>\n",
       "      <th>Low</th>\n",
       "      <th>Open</th>\n",
       "      <th>Close</th>\n",
       "      <th>Volume</th>\n",
       "      <th>Adj Close</th>\n",
       "      <th>Ticker</th>\n",
       "      <th>Var</th>\n",
       "      <th>Category</th>\n",
       "    </tr>\n",
       "    <tr>\n",
       "      <th>Date</th>\n",
       "      <th></th>\n",
       "      <th></th>\n",
       "      <th></th>\n",
       "      <th></th>\n",
       "      <th></th>\n",
       "      <th></th>\n",
       "      <th></th>\n",
       "      <th></th>\n",
       "      <th></th>\n",
       "    </tr>\n",
       "  </thead>\n",
       "  <tbody>\n",
       "    <tr>\n",
       "      <th>2007-12-01</th>\n",
       "      <td>10.29</td>\n",
       "      <td>8.90</td>\n",
       "      <td>9.30</td>\n",
       "      <td>8.90</td>\n",
       "      <td>12893500.0</td>\n",
       "      <td>7.532811</td>\n",
       "      <td>BPAN4.SA</td>\n",
       "      <td>-4.301081</td>\n",
       "      <td>-6</td>\n",
       "    </tr>\n",
       "    <tr>\n",
       "      <th>2008-01-01</th>\n",
       "      <td>9.20</td>\n",
       "      <td>7.05</td>\n",
       "      <td>8.90</td>\n",
       "      <td>8.45</td>\n",
       "      <td>13325700.0</td>\n",
       "      <td>7.151939</td>\n",
       "      <td>BPAN4.SA</td>\n",
       "      <td>-5.056178</td>\n",
       "      <td>-6</td>\n",
       "    </tr>\n",
       "    <tr>\n",
       "      <th>2008-02-01</th>\n",
       "      <td>9.14</td>\n",
       "      <td>7.76</td>\n",
       "      <td>8.25</td>\n",
       "      <td>8.65</td>\n",
       "      <td>3242200.0</td>\n",
       "      <td>7.349141</td>\n",
       "      <td>BPAN4.SA</td>\n",
       "      <td>4.848480</td>\n",
       "      <td>6</td>\n",
       "    </tr>\n",
       "    <tr>\n",
       "      <th>2008-03-01</th>\n",
       "      <td>9.15</td>\n",
       "      <td>7.50</td>\n",
       "      <td>8.70</td>\n",
       "      <td>7.75</td>\n",
       "      <td>2870900.0</td>\n",
       "      <td>6.584490</td>\n",
       "      <td>BPAN4.SA</td>\n",
       "      <td>-10.919538</td>\n",
       "      <td>-10</td>\n",
       "    </tr>\n",
       "    <tr>\n",
       "      <th>2008-04-01</th>\n",
       "      <td>9.03</td>\n",
       "      <td>7.75</td>\n",
       "      <td>7.75</td>\n",
       "      <td>9.00</td>\n",
       "      <td>4213900.0</td>\n",
       "      <td>7.646506</td>\n",
       "      <td>BPAN4.SA</td>\n",
       "      <td>16.129032</td>\n",
       "      <td>10</td>\n",
       "    </tr>\n",
       "  </tbody>\n",
       "</table>\n",
       "</div>"
      ],
      "text/plain": [
       "             High   Low  Open  Close      Volume  Adj Close    Ticker  \\\n",
       "Date                                                                    \n",
       "2007-12-01  10.29  8.90  9.30   8.90  12893500.0   7.532811  BPAN4.SA   \n",
       "2008-01-01   9.20  7.05  8.90   8.45  13325700.0   7.151939  BPAN4.SA   \n",
       "2008-02-01   9.14  7.76  8.25   8.65   3242200.0   7.349141  BPAN4.SA   \n",
       "2008-03-01   9.15  7.50  8.70   7.75   2870900.0   6.584490  BPAN4.SA   \n",
       "2008-04-01   9.03  7.75  7.75   9.00   4213900.0   7.646506  BPAN4.SA   \n",
       "\n",
       "                  Var  Category  \n",
       "Date                             \n",
       "2007-12-01  -4.301081        -6  \n",
       "2008-01-01  -5.056178        -6  \n",
       "2008-02-01   4.848480         6  \n",
       "2008-03-01 -10.919538       -10  \n",
       "2008-04-01  16.129032        10  "
      ]
     },
     "execution_count": 32,
     "metadata": {},
     "output_type": "execute_result"
    }
   ],
   "source": [
    "list_df[15].head()"
   ]
  },
  {
   "cell_type": "code",
   "execution_count": 33,
   "id": "207beb96",
   "metadata": {},
   "outputs": [
    {
     "ename": "NameError",
     "evalue": "name 'teste1' is not defined",
     "output_type": "error",
     "traceback": [
      "\u001b[1;31m---------------------------------------------------------------------------\u001b[0m",
      "\u001b[1;31mNameError\u001b[0m                                 Traceback (most recent call last)",
      "\u001b[1;32m<ipython-input-33-18d01db2c285>\u001b[0m in \u001b[0;36m<module>\u001b[1;34m\u001b[0m\n\u001b[1;32m----> 1\u001b[1;33m \u001b[0mdf_test\u001b[0m \u001b[1;33m=\u001b[0m \u001b[0mpd\u001b[0m\u001b[1;33m.\u001b[0m\u001b[0mDataFrame\u001b[0m\u001b[1;33m(\u001b[0m\u001b[0mteste1\u001b[0m\u001b[1;33m)\u001b[0m\u001b[1;33m\u001b[0m\u001b[1;33m\u001b[0m\u001b[0m\n\u001b[0m",
      "\u001b[1;31mNameError\u001b[0m: name 'teste1' is not defined"
     ]
    }
   ],
   "source": [
    "df_test = pd.DataFrame(teste1)"
   ]
  },
  {
   "cell_type": "code",
   "execution_count": 52,
   "id": "577e599c",
   "metadata": {},
   "outputs": [
    {
     "data": {
      "text/html": [
       "<div>\n",
       "<style scoped>\n",
       "    .dataframe tbody tr th:only-of-type {\n",
       "        vertical-align: middle;\n",
       "    }\n",
       "\n",
       "    .dataframe tbody tr th {\n",
       "        vertical-align: top;\n",
       "    }\n",
       "\n",
       "    .dataframe thead th {\n",
       "        text-align: right;\n",
       "    }\n",
       "</style>\n",
       "<table border=\"1\" class=\"dataframe\">\n",
       "  <thead>\n",
       "    <tr style=\"text-align: right;\">\n",
       "      <th></th>\n",
       "      <th>0</th>\n",
       "      <th>1</th>\n",
       "      <th>2</th>\n",
       "      <th>3</th>\n",
       "      <th>4</th>\n",
       "      <th>5</th>\n",
       "      <th>6</th>\n",
       "      <th>7</th>\n",
       "      <th>8</th>\n",
       "      <th>9</th>\n",
       "      <th>10</th>\n",
       "      <th>11</th>\n",
       "    </tr>\n",
       "  </thead>\n",
       "  <tbody>\n",
       "    <tr>\n",
       "      <th>0</th>\n",
       "      <td>0</td>\n",
       "      <td>0</td>\n",
       "      <td>0</td>\n",
       "      <td>0</td>\n",
       "      <td>0</td>\n",
       "      <td>0</td>\n",
       "      <td>0</td>\n",
       "      <td>0</td>\n",
       "      <td>0</td>\n",
       "      <td>0</td>\n",
       "      <td>0</td>\n",
       "      <td>0</td>\n",
       "    </tr>\n",
       "    <tr>\n",
       "      <th>1</th>\n",
       "      <td>[]</td>\n",
       "      <td>[]</td>\n",
       "      <td>[]</td>\n",
       "      <td>[]</td>\n",
       "      <td>[]</td>\n",
       "      <td>[]</td>\n",
       "      <td>[]</td>\n",
       "      <td>[]</td>\n",
       "      <td>[]</td>\n",
       "      <td>[]</td>\n",
       "      <td>[]</td>\n",
       "      <td>[]</td>\n",
       "    </tr>\n",
       "    <tr>\n",
       "      <th>2</th>\n",
       "      <td>0</td>\n",
       "      <td>0</td>\n",
       "      <td>0</td>\n",
       "      <td>0</td>\n",
       "      <td>0</td>\n",
       "      <td>0</td>\n",
       "      <td>0</td>\n",
       "      <td>0</td>\n",
       "      <td>0</td>\n",
       "      <td>0</td>\n",
       "      <td>0</td>\n",
       "      <td>0</td>\n",
       "    </tr>\n",
       "  </tbody>\n",
       "</table>\n",
       "</div>"
      ],
      "text/plain": [
       "   0   1   2   3   4   5   6   7   8   9   10  11\n",
       "0   0   0   0   0   0   0   0   0   0   0   0   0\n",
       "1  []  []  []  []  []  []  []  []  []  []  []  []\n",
       "2   0   0   0   0   0   0   0   0   0   0   0   0"
      ]
     },
     "execution_count": 52,
     "metadata": {},
     "output_type": "execute_result"
    }
   ],
   "source": [
    "df_test.head()"
   ]
  },
  {
   "cell_type": "code",
   "execution_count": 122,
   "id": "fa5b9495",
   "metadata": {},
   "outputs": [],
   "source": [
    "#def generete_avg_high_low_colunm(df : pd.DataFrame):\n",
    "#    for i in range(0, len(df)):\n",
    "#        df['Avg'] = ((df[i].loc[:, 'High']+df[i].loc[:, 'Low']) / 2.0)\n",
    "#    return df"
   ]
  },
  {
   "cell_type": "code",
   "execution_count": 34,
   "id": "159e0b9b",
   "metadata": {},
   "outputs": [],
   "source": [
    "def select_tickers_seazonals(df : pd.DataFrame):\n",
    "    \"\"\"\n",
    "    Função responsável por selecionar os melhores ativos, a partir de critérios de\n",
    "    força na sazonalidade e na tendência.\n",
    "    \"\"\"\n",
    "    df_unique = df['Ticker'].unique()\n",
    "    df_return = pd.DataFrame()\n",
    "    list_rate = []\n",
    "    list_tickers = []\n",
    "    for i in df_unique:\n",
    "        print(i)\n",
    "        df_i = df[(df['Ticker'] == i)]\n",
    "        #df_i = generete_avg_high_low_colunm(df_i)\n",
    "        ts = generete_ts_moving_avarege(df_i['Avg'], 12)\n",
    "        ts = transform_stationary_ts(ts)\n",
    "        print(ts)\n",
    "        if ts is not None:\n",
    "            print(i)\n",
    "            #components = components_seasonal_trend_resid_STL(ts)\n",
    "            components = components_seasonal_trend_resid_classic(ts, 12)\n",
    "            rate = seasonality_trend_rate(components)\n",
    "            list_tickers.append(i)\n",
    "            list_rate.append(rate)\n",
    "        df_return['Ticker'] = list_tickers\n",
    "        df_return['Rate'] = list_rate\n",
    "    return df_return"
   ]
  },
  {
   "cell_type": "code",
   "execution_count": 35,
   "id": "099b5d61",
   "metadata": {},
   "outputs": [],
   "source": [
    "def binary_variation(df : pd.DataFrame):\n",
    "    \"\"\"\n",
    "    Recebe um data frame e devolve um data frame com uma coluna a mais 'bin_var', onde '0' indica não \n",
    "    variação do preço da ação, '1' variação positiva ou alta e '-1', variação negativa ou baixa.\n",
    "    \"\"\"\n",
    "    df['bin_var'] = (((df.loc[:, 'Close']/df.loc[:, 'Open']) - 1.0) * 100.0)"
   ]
  },
  {
   "cell_type": "code",
   "execution_count": 36,
   "id": "39580025",
   "metadata": {},
   "outputs": [
    {
     "ename": "NameError",
     "evalue": "name 'teste' is not defined",
     "output_type": "error",
     "traceback": [
      "\u001b[1;31m---------------------------------------------------------------------------\u001b[0m",
      "\u001b[1;31mNameError\u001b[0m                                 Traceback (most recent call last)",
      "\u001b[1;32m<ipython-input-36-4902bfea17df>\u001b[0m in \u001b[0;36m<module>\u001b[1;34m\u001b[0m\n\u001b[1;32m----> 1\u001b[1;33m \u001b[0mcomponents\u001b[0m \u001b[1;33m=\u001b[0m \u001b[0mcomponents_seasonal_trend_resid_classic\u001b[0m\u001b[1;33m(\u001b[0m\u001b[0mteste\u001b[0m\u001b[1;33m[\u001b[0m\u001b[1;34m'Avg'\u001b[0m\u001b[1;33m]\u001b[0m\u001b[1;33m,\u001b[0m \u001b[1;36m12\u001b[0m\u001b[1;33m)\u001b[0m\u001b[1;33m\u001b[0m\u001b[1;33m\u001b[0m\u001b[0m\n\u001b[0m",
      "\u001b[1;31mNameError\u001b[0m: name 'teste' is not defined"
     ]
    }
   ],
   "source": [
    "components = components_seasonal_trend_resid_classic(teste['Avg'], 12)"
   ]
  },
  {
   "cell_type": "code",
   "execution_count": 24,
   "id": "b1b61af7",
   "metadata": {},
   "outputs": [
    {
     "data": {
      "text/plain": [
       "count    153.00\n",
       "mean      11.54\n",
       "std        9.43\n",
       "min        1.80\n",
       "25%        6.62\n",
       "50%        8.77\n",
       "75%       11.95\n",
       "max       44.66\n",
       "Name: trend, dtype: float64"
      ]
     },
     "execution_count": 24,
     "metadata": {},
     "output_type": "execute_result"
    }
   ],
   "source": [
    "components[1].describe().round(2)"
   ]
  },
  {
   "cell_type": "code",
   "execution_count": 155,
   "id": "ff3e59e3",
   "metadata": {},
   "outputs": [
    {
     "name": "stdout",
     "output_type": "stream",
     "text": [
      "ABEV3.SA\n"
     ]
    },
    {
     "name": "stderr",
     "output_type": "stream",
     "text": [
      "C:\\Users\\Dagoberto Medeiros\\anaconda3\\envs\\TCC\\lib\\site-packages\\pandas\\core\\arraylike.py:364: RuntimeWarning: invalid value encountered in log\n",
      "  result = getattr(ufunc, method)(*inputs, **kwargs)\n"
     ]
    },
    {
     "ename": "MissingDataError",
     "evalue": "exog contains inf or nans",
     "output_type": "error",
     "traceback": [
      "\u001b[1;31m---------------------------------------------------------------------------\u001b[0m",
      "\u001b[1;31mMissingDataError\u001b[0m                          Traceback (most recent call last)",
      "\u001b[1;32mC:\\Users\\DAGOBE~1\\AppData\\Local\\Temp/ipykernel_9240/275716887.py\u001b[0m in \u001b[0;36m<module>\u001b[1;34m\u001b[0m\n\u001b[1;32m----> 1\u001b[1;33m \u001b[0mdf_new\u001b[0m \u001b[1;33m=\u001b[0m \u001b[0mselect_tickers_seazonals\u001b[0m\u001b[1;33m(\u001b[0m\u001b[0mdfExcel\u001b[0m\u001b[1;33m)\u001b[0m\u001b[1;33m\u001b[0m\u001b[1;33m\u001b[0m\u001b[0m\n\u001b[0m",
      "\u001b[1;32mC:\\Users\\DAGOBE~1\\AppData\\Local\\Temp/ipykernel_9240/3798088198.py\u001b[0m in \u001b[0;36mselect_tickers_seazonals\u001b[1;34m(df)\u001b[0m\n\u001b[0;32m     13\u001b[0m         \u001b[1;31m#df_i = generete_avg_high_low_colunm(df_i)\u001b[0m\u001b[1;33m\u001b[0m\u001b[1;33m\u001b[0m\u001b[1;33m\u001b[0m\u001b[0m\n\u001b[0;32m     14\u001b[0m         \u001b[0mts\u001b[0m \u001b[1;33m=\u001b[0m \u001b[0mgenerete_ts_moving_avarege\u001b[0m\u001b[1;33m(\u001b[0m\u001b[0mdf_i\u001b[0m\u001b[1;33m[\u001b[0m\u001b[1;34m'Avg'\u001b[0m\u001b[1;33m]\u001b[0m\u001b[1;33m,\u001b[0m \u001b[1;36m12\u001b[0m\u001b[1;33m)\u001b[0m\u001b[1;33m\u001b[0m\u001b[1;33m\u001b[0m\u001b[0m\n\u001b[1;32m---> 15\u001b[1;33m         \u001b[0mts\u001b[0m \u001b[1;33m=\u001b[0m \u001b[0mtransform_stationary_ts\u001b[0m\u001b[1;33m(\u001b[0m\u001b[0mts\u001b[0m\u001b[1;33m)\u001b[0m\u001b[1;33m\u001b[0m\u001b[1;33m\u001b[0m\u001b[0m\n\u001b[0m\u001b[0;32m     16\u001b[0m         \u001b[0mprint\u001b[0m\u001b[1;33m(\u001b[0m\u001b[0mts\u001b[0m\u001b[1;33m)\u001b[0m\u001b[1;33m\u001b[0m\u001b[1;33m\u001b[0m\u001b[0m\n\u001b[0;32m     17\u001b[0m         \u001b[1;32mif\u001b[0m \u001b[0mts\u001b[0m \u001b[1;32mis\u001b[0m \u001b[1;32mnot\u001b[0m \u001b[1;32mNone\u001b[0m\u001b[1;33m:\u001b[0m\u001b[1;33m\u001b[0m\u001b[1;33m\u001b[0m\u001b[0m\n",
      "\u001b[1;32mC:\\Users\\DAGOBE~1\\AppData\\Local\\Temp/ipykernel_9240/2230981047.py\u001b[0m in \u001b[0;36mtransform_stationary_ts\u001b[1;34m(ts)\u001b[0m\n\u001b[0;32m     11\u001b[0m         \u001b[1;32melse\u001b[0m\u001b[1;33m:\u001b[0m\u001b[1;33m\u001b[0m\u001b[1;33m\u001b[0m\u001b[0m\n\u001b[0;32m     12\u001b[0m             \u001b[0mts_log2\u001b[0m \u001b[1;33m=\u001b[0m \u001b[0mnp\u001b[0m\u001b[1;33m.\u001b[0m\u001b[0mlog\u001b[0m\u001b[1;33m(\u001b[0m\u001b[0mts_log1\u001b[0m\u001b[1;33m)\u001b[0m\u001b[1;33m\u001b[0m\u001b[1;33m\u001b[0m\u001b[0m\n\u001b[1;32m---> 13\u001b[1;33m             \u001b[0madfuller_ts_log2\u001b[0m \u001b[1;33m=\u001b[0m \u001b[0madfuller\u001b[0m\u001b[1;33m(\u001b[0m\u001b[0mts_log2\u001b[0m\u001b[1;33m,\u001b[0m \u001b[0mautolag\u001b[0m\u001b[1;33m=\u001b[0m\u001b[1;34m'AIC'\u001b[0m\u001b[1;33m)\u001b[0m\u001b[1;33m\u001b[0m\u001b[1;33m\u001b[0m\u001b[0m\n\u001b[0m\u001b[0;32m     14\u001b[0m             \u001b[1;32mif\u001b[0m \u001b[0madfuller_ts_log2\u001b[0m\u001b[1;33m[\u001b[0m\u001b[1;36m1\u001b[0m\u001b[1;33m]\u001b[0m \u001b[1;33m<\u001b[0m \u001b[1;36m0.05\u001b[0m\u001b[1;33m:\u001b[0m\u001b[1;33m\u001b[0m\u001b[1;33m\u001b[0m\u001b[0m\n\u001b[0;32m     15\u001b[0m                 \u001b[1;32mreturn\u001b[0m \u001b[0mts_log2\u001b[0m\u001b[1;33m\u001b[0m\u001b[1;33m\u001b[0m\u001b[0m\n",
      "\u001b[1;32m~\\anaconda3\\envs\\TCC\\lib\\site-packages\\statsmodels\\tsa\\stattools.py\u001b[0m in \u001b[0;36madfuller\u001b[1;34m(x, maxlag, regression, autolag, store, regresults)\u001b[0m\n\u001b[0;32m    312\u001b[0m \u001b[1;33m\u001b[0m\u001b[0m\n\u001b[0;32m    313\u001b[0m         \u001b[1;32mif\u001b[0m \u001b[1;32mnot\u001b[0m \u001b[0mregresults\u001b[0m\u001b[1;33m:\u001b[0m\u001b[1;33m\u001b[0m\u001b[1;33m\u001b[0m\u001b[0m\n\u001b[1;32m--> 314\u001b[1;33m             icbest, bestlag = _autolag(\n\u001b[0m\u001b[0;32m    315\u001b[0m                 \u001b[0mOLS\u001b[0m\u001b[1;33m,\u001b[0m \u001b[0mxdshort\u001b[0m\u001b[1;33m,\u001b[0m \u001b[0mfullRHS\u001b[0m\u001b[1;33m,\u001b[0m \u001b[0mstartlag\u001b[0m\u001b[1;33m,\u001b[0m \u001b[0mmaxlag\u001b[0m\u001b[1;33m,\u001b[0m \u001b[0mautolag\u001b[0m\u001b[1;33m\u001b[0m\u001b[1;33m\u001b[0m\u001b[0m\n\u001b[0;32m    316\u001b[0m             )\n",
      "\u001b[1;32m~\\anaconda3\\envs\\TCC\\lib\\site-packages\\statsmodels\\tsa\\stattools.py\u001b[0m in \u001b[0;36m_autolag\u001b[1;34m(mod, endog, exog, startlag, maxlag, method, modargs, fitargs, regresults)\u001b[0m\n\u001b[0;32m    122\u001b[0m     \u001b[0mmethod\u001b[0m \u001b[1;33m=\u001b[0m \u001b[0mmethod\u001b[0m\u001b[1;33m.\u001b[0m\u001b[0mlower\u001b[0m\u001b[1;33m(\u001b[0m\u001b[1;33m)\u001b[0m\u001b[1;33m\u001b[0m\u001b[1;33m\u001b[0m\u001b[0m\n\u001b[0;32m    123\u001b[0m     \u001b[1;32mfor\u001b[0m \u001b[0mlag\u001b[0m \u001b[1;32min\u001b[0m \u001b[0mrange\u001b[0m\u001b[1;33m(\u001b[0m\u001b[0mstartlag\u001b[0m\u001b[1;33m,\u001b[0m \u001b[0mstartlag\u001b[0m \u001b[1;33m+\u001b[0m \u001b[0mmaxlag\u001b[0m \u001b[1;33m+\u001b[0m \u001b[1;36m1\u001b[0m\u001b[1;33m)\u001b[0m\u001b[1;33m:\u001b[0m\u001b[1;33m\u001b[0m\u001b[1;33m\u001b[0m\u001b[0m\n\u001b[1;32m--> 124\u001b[1;33m         \u001b[0mmod_instance\u001b[0m \u001b[1;33m=\u001b[0m \u001b[0mmod\u001b[0m\u001b[1;33m(\u001b[0m\u001b[0mendog\u001b[0m\u001b[1;33m,\u001b[0m \u001b[0mexog\u001b[0m\u001b[1;33m[\u001b[0m\u001b[1;33m:\u001b[0m\u001b[1;33m,\u001b[0m \u001b[1;33m:\u001b[0m\u001b[0mlag\u001b[0m\u001b[1;33m]\u001b[0m\u001b[1;33m,\u001b[0m \u001b[1;33m*\u001b[0m\u001b[0mmodargs\u001b[0m\u001b[1;33m)\u001b[0m\u001b[1;33m\u001b[0m\u001b[1;33m\u001b[0m\u001b[0m\n\u001b[0m\u001b[0;32m    125\u001b[0m         \u001b[0mresults\u001b[0m\u001b[1;33m[\u001b[0m\u001b[0mlag\u001b[0m\u001b[1;33m]\u001b[0m \u001b[1;33m=\u001b[0m \u001b[0mmod_instance\u001b[0m\u001b[1;33m.\u001b[0m\u001b[0mfit\u001b[0m\u001b[1;33m(\u001b[0m\u001b[1;33m)\u001b[0m\u001b[1;33m\u001b[0m\u001b[1;33m\u001b[0m\u001b[0m\n\u001b[0;32m    126\u001b[0m \u001b[1;33m\u001b[0m\u001b[0m\n",
      "\u001b[1;32m~\\anaconda3\\envs\\TCC\\lib\\site-packages\\statsmodels\\regression\\linear_model.py\u001b[0m in \u001b[0;36m__init__\u001b[1;34m(self, endog, exog, missing, hasconst, **kwargs)\u001b[0m\n\u001b[0;32m    870\u001b[0m     def __init__(self, endog, exog=None, missing='none', hasconst=None,\n\u001b[0;32m    871\u001b[0m                  **kwargs):\n\u001b[1;32m--> 872\u001b[1;33m         super(OLS, self).__init__(endog, exog, missing=missing,\n\u001b[0m\u001b[0;32m    873\u001b[0m                                   hasconst=hasconst, **kwargs)\n\u001b[0;32m    874\u001b[0m         \u001b[1;32mif\u001b[0m \u001b[1;34m\"weights\"\u001b[0m \u001b[1;32min\u001b[0m \u001b[0mself\u001b[0m\u001b[1;33m.\u001b[0m\u001b[0m_init_keys\u001b[0m\u001b[1;33m:\u001b[0m\u001b[1;33m\u001b[0m\u001b[1;33m\u001b[0m\u001b[0m\n",
      "\u001b[1;32m~\\anaconda3\\envs\\TCC\\lib\\site-packages\\statsmodels\\regression\\linear_model.py\u001b[0m in \u001b[0;36m__init__\u001b[1;34m(self, endog, exog, weights, missing, hasconst, **kwargs)\u001b[0m\n\u001b[0;32m    701\u001b[0m         \u001b[1;32melse\u001b[0m\u001b[1;33m:\u001b[0m\u001b[1;33m\u001b[0m\u001b[1;33m\u001b[0m\u001b[0m\n\u001b[0;32m    702\u001b[0m             \u001b[0mweights\u001b[0m \u001b[1;33m=\u001b[0m \u001b[0mweights\u001b[0m\u001b[1;33m.\u001b[0m\u001b[0msqueeze\u001b[0m\u001b[1;33m(\u001b[0m\u001b[1;33m)\u001b[0m\u001b[1;33m\u001b[0m\u001b[1;33m\u001b[0m\u001b[0m\n\u001b[1;32m--> 703\u001b[1;33m         super(WLS, self).__init__(endog, exog, missing=missing,\n\u001b[0m\u001b[0;32m    704\u001b[0m                                   weights=weights, hasconst=hasconst, **kwargs)\n\u001b[0;32m    705\u001b[0m         \u001b[0mnobs\u001b[0m \u001b[1;33m=\u001b[0m \u001b[0mself\u001b[0m\u001b[1;33m.\u001b[0m\u001b[0mexog\u001b[0m\u001b[1;33m.\u001b[0m\u001b[0mshape\u001b[0m\u001b[1;33m[\u001b[0m\u001b[1;36m0\u001b[0m\u001b[1;33m]\u001b[0m\u001b[1;33m\u001b[0m\u001b[1;33m\u001b[0m\u001b[0m\n",
      "\u001b[1;32m~\\anaconda3\\envs\\TCC\\lib\\site-packages\\statsmodels\\regression\\linear_model.py\u001b[0m in \u001b[0;36m__init__\u001b[1;34m(self, endog, exog, **kwargs)\u001b[0m\n\u001b[0;32m    188\u001b[0m     \"\"\"\n\u001b[0;32m    189\u001b[0m     \u001b[1;32mdef\u001b[0m \u001b[0m__init__\u001b[0m\u001b[1;33m(\u001b[0m\u001b[0mself\u001b[0m\u001b[1;33m,\u001b[0m \u001b[0mendog\u001b[0m\u001b[1;33m,\u001b[0m \u001b[0mexog\u001b[0m\u001b[1;33m,\u001b[0m \u001b[1;33m**\u001b[0m\u001b[0mkwargs\u001b[0m\u001b[1;33m)\u001b[0m\u001b[1;33m:\u001b[0m\u001b[1;33m\u001b[0m\u001b[1;33m\u001b[0m\u001b[0m\n\u001b[1;32m--> 190\u001b[1;33m         \u001b[0msuper\u001b[0m\u001b[1;33m(\u001b[0m\u001b[0mRegressionModel\u001b[0m\u001b[1;33m,\u001b[0m \u001b[0mself\u001b[0m\u001b[1;33m)\u001b[0m\u001b[1;33m.\u001b[0m\u001b[0m__init__\u001b[0m\u001b[1;33m(\u001b[0m\u001b[0mendog\u001b[0m\u001b[1;33m,\u001b[0m \u001b[0mexog\u001b[0m\u001b[1;33m,\u001b[0m \u001b[1;33m**\u001b[0m\u001b[0mkwargs\u001b[0m\u001b[1;33m)\u001b[0m\u001b[1;33m\u001b[0m\u001b[1;33m\u001b[0m\u001b[0m\n\u001b[0m\u001b[0;32m    191\u001b[0m         \u001b[0mself\u001b[0m\u001b[1;33m.\u001b[0m\u001b[0m_data_attr\u001b[0m\u001b[1;33m.\u001b[0m\u001b[0mextend\u001b[0m\u001b[1;33m(\u001b[0m\u001b[1;33m[\u001b[0m\u001b[1;34m'pinv_wexog'\u001b[0m\u001b[1;33m,\u001b[0m \u001b[1;34m'weights'\u001b[0m\u001b[1;33m]\u001b[0m\u001b[1;33m)\u001b[0m\u001b[1;33m\u001b[0m\u001b[1;33m\u001b[0m\u001b[0m\n\u001b[0;32m    192\u001b[0m \u001b[1;33m\u001b[0m\u001b[0m\n",
      "\u001b[1;32m~\\anaconda3\\envs\\TCC\\lib\\site-packages\\statsmodels\\base\\model.py\u001b[0m in \u001b[0;36m__init__\u001b[1;34m(self, endog, exog, **kwargs)\u001b[0m\n\u001b[0;32m    235\u001b[0m \u001b[1;33m\u001b[0m\u001b[0m\n\u001b[0;32m    236\u001b[0m     \u001b[1;32mdef\u001b[0m \u001b[0m__init__\u001b[0m\u001b[1;33m(\u001b[0m\u001b[0mself\u001b[0m\u001b[1;33m,\u001b[0m \u001b[0mendog\u001b[0m\u001b[1;33m,\u001b[0m \u001b[0mexog\u001b[0m\u001b[1;33m=\u001b[0m\u001b[1;32mNone\u001b[0m\u001b[1;33m,\u001b[0m \u001b[1;33m**\u001b[0m\u001b[0mkwargs\u001b[0m\u001b[1;33m)\u001b[0m\u001b[1;33m:\u001b[0m\u001b[1;33m\u001b[0m\u001b[1;33m\u001b[0m\u001b[0m\n\u001b[1;32m--> 237\u001b[1;33m         \u001b[0msuper\u001b[0m\u001b[1;33m(\u001b[0m\u001b[0mLikelihoodModel\u001b[0m\u001b[1;33m,\u001b[0m \u001b[0mself\u001b[0m\u001b[1;33m)\u001b[0m\u001b[1;33m.\u001b[0m\u001b[0m__init__\u001b[0m\u001b[1;33m(\u001b[0m\u001b[0mendog\u001b[0m\u001b[1;33m,\u001b[0m \u001b[0mexog\u001b[0m\u001b[1;33m,\u001b[0m \u001b[1;33m**\u001b[0m\u001b[0mkwargs\u001b[0m\u001b[1;33m)\u001b[0m\u001b[1;33m\u001b[0m\u001b[1;33m\u001b[0m\u001b[0m\n\u001b[0m\u001b[0;32m    238\u001b[0m         \u001b[0mself\u001b[0m\u001b[1;33m.\u001b[0m\u001b[0minitialize\u001b[0m\u001b[1;33m(\u001b[0m\u001b[1;33m)\u001b[0m\u001b[1;33m\u001b[0m\u001b[1;33m\u001b[0m\u001b[0m\n\u001b[0;32m    239\u001b[0m \u001b[1;33m\u001b[0m\u001b[0m\n",
      "\u001b[1;32m~\\anaconda3\\envs\\TCC\\lib\\site-packages\\statsmodels\\base\\model.py\u001b[0m in \u001b[0;36m__init__\u001b[1;34m(self, endog, exog, **kwargs)\u001b[0m\n\u001b[0;32m     75\u001b[0m         \u001b[0mmissing\u001b[0m \u001b[1;33m=\u001b[0m \u001b[0mkwargs\u001b[0m\u001b[1;33m.\u001b[0m\u001b[0mpop\u001b[0m\u001b[1;33m(\u001b[0m\u001b[1;34m'missing'\u001b[0m\u001b[1;33m,\u001b[0m \u001b[1;34m'none'\u001b[0m\u001b[1;33m)\u001b[0m\u001b[1;33m\u001b[0m\u001b[1;33m\u001b[0m\u001b[0m\n\u001b[0;32m     76\u001b[0m         \u001b[0mhasconst\u001b[0m \u001b[1;33m=\u001b[0m \u001b[0mkwargs\u001b[0m\u001b[1;33m.\u001b[0m\u001b[0mpop\u001b[0m\u001b[1;33m(\u001b[0m\u001b[1;34m'hasconst'\u001b[0m\u001b[1;33m,\u001b[0m \u001b[1;32mNone\u001b[0m\u001b[1;33m)\u001b[0m\u001b[1;33m\u001b[0m\u001b[1;33m\u001b[0m\u001b[0m\n\u001b[1;32m---> 77\u001b[1;33m         self.data = self._handle_data(endog, exog, missing, hasconst,\n\u001b[0m\u001b[0;32m     78\u001b[0m                                       **kwargs)\n\u001b[0;32m     79\u001b[0m         \u001b[0mself\u001b[0m\u001b[1;33m.\u001b[0m\u001b[0mk_constant\u001b[0m \u001b[1;33m=\u001b[0m \u001b[0mself\u001b[0m\u001b[1;33m.\u001b[0m\u001b[0mdata\u001b[0m\u001b[1;33m.\u001b[0m\u001b[0mk_constant\u001b[0m\u001b[1;33m\u001b[0m\u001b[1;33m\u001b[0m\u001b[0m\n",
      "\u001b[1;32m~\\anaconda3\\envs\\TCC\\lib\\site-packages\\statsmodels\\base\\model.py\u001b[0m in \u001b[0;36m_handle_data\u001b[1;34m(self, endog, exog, missing, hasconst, **kwargs)\u001b[0m\n\u001b[0;32m     99\u001b[0m \u001b[1;33m\u001b[0m\u001b[0m\n\u001b[0;32m    100\u001b[0m     \u001b[1;32mdef\u001b[0m \u001b[0m_handle_data\u001b[0m\u001b[1;33m(\u001b[0m\u001b[0mself\u001b[0m\u001b[1;33m,\u001b[0m \u001b[0mendog\u001b[0m\u001b[1;33m,\u001b[0m \u001b[0mexog\u001b[0m\u001b[1;33m,\u001b[0m \u001b[0mmissing\u001b[0m\u001b[1;33m,\u001b[0m \u001b[0mhasconst\u001b[0m\u001b[1;33m,\u001b[0m \u001b[1;33m**\u001b[0m\u001b[0mkwargs\u001b[0m\u001b[1;33m)\u001b[0m\u001b[1;33m:\u001b[0m\u001b[1;33m\u001b[0m\u001b[1;33m\u001b[0m\u001b[0m\n\u001b[1;32m--> 101\u001b[1;33m         \u001b[0mdata\u001b[0m \u001b[1;33m=\u001b[0m \u001b[0mhandle_data\u001b[0m\u001b[1;33m(\u001b[0m\u001b[0mendog\u001b[0m\u001b[1;33m,\u001b[0m \u001b[0mexog\u001b[0m\u001b[1;33m,\u001b[0m \u001b[0mmissing\u001b[0m\u001b[1;33m,\u001b[0m \u001b[0mhasconst\u001b[0m\u001b[1;33m,\u001b[0m \u001b[1;33m**\u001b[0m\u001b[0mkwargs\u001b[0m\u001b[1;33m)\u001b[0m\u001b[1;33m\u001b[0m\u001b[1;33m\u001b[0m\u001b[0m\n\u001b[0m\u001b[0;32m    102\u001b[0m         \u001b[1;31m# kwargs arrays could have changed, easier to just attach here\u001b[0m\u001b[1;33m\u001b[0m\u001b[1;33m\u001b[0m\u001b[1;33m\u001b[0m\u001b[0m\n\u001b[0;32m    103\u001b[0m         \u001b[1;32mfor\u001b[0m \u001b[0mkey\u001b[0m \u001b[1;32min\u001b[0m \u001b[0mkwargs\u001b[0m\u001b[1;33m:\u001b[0m\u001b[1;33m\u001b[0m\u001b[1;33m\u001b[0m\u001b[0m\n",
      "\u001b[1;32m~\\anaconda3\\envs\\TCC\\lib\\site-packages\\statsmodels\\base\\data.py\u001b[0m in \u001b[0;36mhandle_data\u001b[1;34m(endog, exog, missing, hasconst, **kwargs)\u001b[0m\n\u001b[0;32m    670\u001b[0m \u001b[1;33m\u001b[0m\u001b[0m\n\u001b[0;32m    671\u001b[0m     \u001b[0mklass\u001b[0m \u001b[1;33m=\u001b[0m \u001b[0mhandle_data_class_factory\u001b[0m\u001b[1;33m(\u001b[0m\u001b[0mendog\u001b[0m\u001b[1;33m,\u001b[0m \u001b[0mexog\u001b[0m\u001b[1;33m)\u001b[0m\u001b[1;33m\u001b[0m\u001b[1;33m\u001b[0m\u001b[0m\n\u001b[1;32m--> 672\u001b[1;33m     return klass(endog, exog=exog, missing=missing, hasconst=hasconst,\n\u001b[0m\u001b[0;32m    673\u001b[0m                  **kwargs)\n",
      "\u001b[1;32m~\\anaconda3\\envs\\TCC\\lib\\site-packages\\statsmodels\\base\\data.py\u001b[0m in \u001b[0;36m__init__\u001b[1;34m(self, endog, exog, missing, hasconst, **kwargs)\u001b[0m\n\u001b[0;32m     85\u001b[0m         \u001b[0mself\u001b[0m\u001b[1;33m.\u001b[0m\u001b[0mconst_idx\u001b[0m \u001b[1;33m=\u001b[0m \u001b[1;32mNone\u001b[0m\u001b[1;33m\u001b[0m\u001b[1;33m\u001b[0m\u001b[0m\n\u001b[0;32m     86\u001b[0m         \u001b[0mself\u001b[0m\u001b[1;33m.\u001b[0m\u001b[0mk_constant\u001b[0m \u001b[1;33m=\u001b[0m \u001b[1;36m0\u001b[0m\u001b[1;33m\u001b[0m\u001b[1;33m\u001b[0m\u001b[0m\n\u001b[1;32m---> 87\u001b[1;33m         \u001b[0mself\u001b[0m\u001b[1;33m.\u001b[0m\u001b[0m_handle_constant\u001b[0m\u001b[1;33m(\u001b[0m\u001b[0mhasconst\u001b[0m\u001b[1;33m)\u001b[0m\u001b[1;33m\u001b[0m\u001b[1;33m\u001b[0m\u001b[0m\n\u001b[0m\u001b[0;32m     88\u001b[0m         \u001b[0mself\u001b[0m\u001b[1;33m.\u001b[0m\u001b[0m_check_integrity\u001b[0m\u001b[1;33m(\u001b[0m\u001b[1;33m)\u001b[0m\u001b[1;33m\u001b[0m\u001b[1;33m\u001b[0m\u001b[0m\n\u001b[0;32m     89\u001b[0m         \u001b[0mself\u001b[0m\u001b[1;33m.\u001b[0m\u001b[0m_cache\u001b[0m \u001b[1;33m=\u001b[0m \u001b[1;33m{\u001b[0m\u001b[1;33m}\u001b[0m\u001b[1;33m\u001b[0m\u001b[1;33m\u001b[0m\u001b[0m\n",
      "\u001b[1;32m~\\anaconda3\\envs\\TCC\\lib\\site-packages\\statsmodels\\base\\data.py\u001b[0m in \u001b[0;36m_handle_constant\u001b[1;34m(self, hasconst)\u001b[0m\n\u001b[0;32m    131\u001b[0m             \u001b[0mexog_max\u001b[0m \u001b[1;33m=\u001b[0m \u001b[0mnp\u001b[0m\u001b[1;33m.\u001b[0m\u001b[0mmax\u001b[0m\u001b[1;33m(\u001b[0m\u001b[0mself\u001b[0m\u001b[1;33m.\u001b[0m\u001b[0mexog\u001b[0m\u001b[1;33m,\u001b[0m \u001b[0maxis\u001b[0m\u001b[1;33m=\u001b[0m\u001b[1;36m0\u001b[0m\u001b[1;33m)\u001b[0m\u001b[1;33m\u001b[0m\u001b[1;33m\u001b[0m\u001b[0m\n\u001b[0;32m    132\u001b[0m             \u001b[1;32mif\u001b[0m \u001b[1;32mnot\u001b[0m \u001b[0mnp\u001b[0m\u001b[1;33m.\u001b[0m\u001b[0misfinite\u001b[0m\u001b[1;33m(\u001b[0m\u001b[0mexog_max\u001b[0m\u001b[1;33m)\u001b[0m\u001b[1;33m.\u001b[0m\u001b[0mall\u001b[0m\u001b[1;33m(\u001b[0m\u001b[1;33m)\u001b[0m\u001b[1;33m:\u001b[0m\u001b[1;33m\u001b[0m\u001b[1;33m\u001b[0m\u001b[0m\n\u001b[1;32m--> 133\u001b[1;33m                 \u001b[1;32mraise\u001b[0m \u001b[0mMissingDataError\u001b[0m\u001b[1;33m(\u001b[0m\u001b[1;34m'exog contains inf or nans'\u001b[0m\u001b[1;33m)\u001b[0m\u001b[1;33m\u001b[0m\u001b[1;33m\u001b[0m\u001b[0m\n\u001b[0m\u001b[0;32m    134\u001b[0m             \u001b[0mexog_min\u001b[0m \u001b[1;33m=\u001b[0m \u001b[0mnp\u001b[0m\u001b[1;33m.\u001b[0m\u001b[0mmin\u001b[0m\u001b[1;33m(\u001b[0m\u001b[0mself\u001b[0m\u001b[1;33m.\u001b[0m\u001b[0mexog\u001b[0m\u001b[1;33m,\u001b[0m \u001b[0maxis\u001b[0m\u001b[1;33m=\u001b[0m\u001b[1;36m0\u001b[0m\u001b[1;33m)\u001b[0m\u001b[1;33m\u001b[0m\u001b[1;33m\u001b[0m\u001b[0m\n\u001b[0;32m    135\u001b[0m             \u001b[0mconst_idx\u001b[0m \u001b[1;33m=\u001b[0m \u001b[0mnp\u001b[0m\u001b[1;33m.\u001b[0m\u001b[0mwhere\u001b[0m\u001b[1;33m(\u001b[0m\u001b[0mexog_max\u001b[0m \u001b[1;33m==\u001b[0m \u001b[0mexog_min\u001b[0m\u001b[1;33m)\u001b[0m\u001b[1;33m[\u001b[0m\u001b[1;36m0\u001b[0m\u001b[1;33m]\u001b[0m\u001b[1;33m.\u001b[0m\u001b[0msqueeze\u001b[0m\u001b[1;33m(\u001b[0m\u001b[1;33m)\u001b[0m\u001b[1;33m\u001b[0m\u001b[1;33m\u001b[0m\u001b[0m\n",
      "\u001b[1;31mMissingDataError\u001b[0m: exog contains inf or nans"
     ]
    }
   ],
   "source": [
    "df_new = select_tickers_seazonals(dfExcel)"
   ]
  },
  {
   "cell_type": "code",
   "execution_count": 37,
   "id": "f71b0312",
   "metadata": {},
   "outputs": [],
   "source": [
    "def adf_test(y):\n",
    "  print('Resultado do teste de Dick-Fuller:')\n",
    "  dftest = adfuller(y, autolag='AIC')\n",
    "  dfoutput = pd.Series(dftest[0:4], index=['Teste', 'Valor P', '# de lags', '# de observações'])\n",
    "  for key, value in dftest[4].items():\n",
    "    dfoutput['Valor crítico({})'.format(key)] = value\n",
    "  print(dfoutput)"
   ]
  },
  {
   "cell_type": "code",
   "execution_count": 28,
   "id": "65925148",
   "metadata": {},
   "outputs": [
    {
     "data": {
      "text/html": [
       "<div>\n",
       "<style scoped>\n",
       "    .dataframe tbody tr th:only-of-type {\n",
       "        vertical-align: middle;\n",
       "    }\n",
       "\n",
       "    .dataframe tbody tr th {\n",
       "        vertical-align: top;\n",
       "    }\n",
       "\n",
       "    .dataframe thead th {\n",
       "        text-align: right;\n",
       "    }\n",
       "</style>\n",
       "<table border=\"1\" class=\"dataframe\">\n",
       "  <thead>\n",
       "    <tr style=\"text-align: right;\">\n",
       "      <th></th>\n",
       "      <th>High</th>\n",
       "      <th>Low</th>\n",
       "      <th>Open</th>\n",
       "      <th>Close</th>\n",
       "      <th>Volume</th>\n",
       "      <th>Adj Close</th>\n",
       "      <th>Ticker</th>\n",
       "      <th>Var</th>\n",
       "      <th>Category</th>\n",
       "    </tr>\n",
       "    <tr>\n",
       "      <th>Date</th>\n",
       "      <th></th>\n",
       "      <th></th>\n",
       "      <th></th>\n",
       "      <th></th>\n",
       "      <th></th>\n",
       "      <th></th>\n",
       "      <th></th>\n",
       "      <th></th>\n",
       "      <th></th>\n",
       "    </tr>\n",
       "  </thead>\n",
       "  <tbody>\n",
       "    <tr>\n",
       "      <th>2007-12-01</th>\n",
       "      <td>10.29</td>\n",
       "      <td>8.90</td>\n",
       "      <td>9.30</td>\n",
       "      <td>8.90</td>\n",
       "      <td>12893500.0</td>\n",
       "      <td>7.532810</td>\n",
       "      <td>BPAN4.SA</td>\n",
       "      <td>-4.301081</td>\n",
       "      <td>-6</td>\n",
       "    </tr>\n",
       "    <tr>\n",
       "      <th>2008-01-01</th>\n",
       "      <td>9.20</td>\n",
       "      <td>7.05</td>\n",
       "      <td>8.90</td>\n",
       "      <td>8.45</td>\n",
       "      <td>13325700.0</td>\n",
       "      <td>7.151939</td>\n",
       "      <td>BPAN4.SA</td>\n",
       "      <td>-5.056178</td>\n",
       "      <td>-6</td>\n",
       "    </tr>\n",
       "    <tr>\n",
       "      <th>2008-02-01</th>\n",
       "      <td>9.14</td>\n",
       "      <td>7.76</td>\n",
       "      <td>8.25</td>\n",
       "      <td>8.65</td>\n",
       "      <td>3242200.0</td>\n",
       "      <td>7.349141</td>\n",
       "      <td>BPAN4.SA</td>\n",
       "      <td>4.848480</td>\n",
       "      <td>6</td>\n",
       "    </tr>\n",
       "    <tr>\n",
       "      <th>2008-03-01</th>\n",
       "      <td>9.15</td>\n",
       "      <td>7.50</td>\n",
       "      <td>8.70</td>\n",
       "      <td>7.75</td>\n",
       "      <td>2870900.0</td>\n",
       "      <td>6.584490</td>\n",
       "      <td>BPAN4.SA</td>\n",
       "      <td>-10.919538</td>\n",
       "      <td>-10</td>\n",
       "    </tr>\n",
       "    <tr>\n",
       "      <th>2008-04-01</th>\n",
       "      <td>9.03</td>\n",
       "      <td>7.75</td>\n",
       "      <td>7.75</td>\n",
       "      <td>9.00</td>\n",
       "      <td>4213900.0</td>\n",
       "      <td>7.646505</td>\n",
       "      <td>BPAN4.SA</td>\n",
       "      <td>16.129032</td>\n",
       "      <td>10</td>\n",
       "    </tr>\n",
       "  </tbody>\n",
       "</table>\n",
       "</div>"
      ],
      "text/plain": [
       "             High   Low  Open  Close      Volume  Adj Close    Ticker  \\\n",
       "Date                                                                    \n",
       "2007-12-01  10.29  8.90  9.30   8.90  12893500.0   7.532810  BPAN4.SA   \n",
       "2008-01-01   9.20  7.05  8.90   8.45  13325700.0   7.151939  BPAN4.SA   \n",
       "2008-02-01   9.14  7.76  8.25   8.65   3242200.0   7.349141  BPAN4.SA   \n",
       "2008-03-01   9.15  7.50  8.70   7.75   2870900.0   6.584490  BPAN4.SA   \n",
       "2008-04-01   9.03  7.75  7.75   9.00   4213900.0   7.646505  BPAN4.SA   \n",
       "\n",
       "                  Var  Category  \n",
       "Date                             \n",
       "2007-12-01  -4.301081        -6  \n",
       "2008-01-01  -5.056178        -6  \n",
       "2008-02-01   4.848480         6  \n",
       "2008-03-01 -10.919538       -10  \n",
       "2008-04-01  16.129032        10  "
      ]
     },
     "execution_count": 28,
     "metadata": {},
     "output_type": "execute_result"
    }
   ],
   "source": [
    "list_df[15].head()"
   ]
  },
  {
   "cell_type": "code",
   "execution_count": 195,
   "id": "fee7eea0",
   "metadata": {},
   "outputs": [],
   "source": [
    "y = test_and_transform_stationary_ts(list_df[111]['Close'])"
   ]
  },
  {
   "cell_type": "code",
   "execution_count": 196,
   "id": "92bcfc0e",
   "metadata": {},
   "outputs": [
    {
     "name": "stdout",
     "output_type": "stream",
     "text": [
      "Resultado do teste de Dick-Fuller:\n",
      "Teste                 -2.892851\n",
      "Valor P                0.046186\n",
      "# de lags              0.000000\n",
      "# de observações      49.000000\n",
      "Valor crítico(1%)     -3.571472\n",
      "Valor crítico(5%)     -2.922629\n",
      "Valor crítico(10%)    -2.599336\n",
      "dtype: float64\n"
     ]
    }
   ],
   "source": [
    "adf_test(y)"
   ]
  },
  {
   "cell_type": "code",
   "execution_count": 38,
   "id": "bbb068cf",
   "metadata": {},
   "outputs": [
    {
     "name": "stdout",
     "output_type": "stream",
     "text": [
      "Resultado do teste de Dick-Fuller:\n",
      "Teste                -1.176559e+01\n",
      "Valor P               1.121038e-21\n",
      "# de lags             0.000000e+00\n",
      "# de observações      1.670000e+02\n",
      "Valor crítico(1%)    -3.470126e+00\n",
      "Valor crítico(5%)    -2.879008e+00\n",
      "Valor crítico(10%)   -2.576083e+00\n",
      "dtype: float64\n"
     ]
    }
   ],
   "source": [
    "adf_test(list_df[15]['Var'])"
   ]
  },
  {
   "cell_type": "code",
   "execution_count": 40,
   "id": "ea121070",
   "metadata": {},
   "outputs": [],
   "source": [
    "y = list_df[15]['Category']"
   ]
  },
  {
   "cell_type": "code",
   "execution_count": 41,
   "id": "9228d230",
   "metadata": {},
   "outputs": [
    {
     "data": {
      "text/plain": [
       "array([ -6,  -6,   6, -10,  10,  10, -10, -10, -10, -10, -10,   4, -10,\n",
       "        10,  -2,  -6,  10,  10,   8,  10,  10,   8,  -6,  10,  10,   4,\n",
       "        -4,  -2,  -4, -10,   2,   6, -10,   0, -10, -10, -10,   6,  10,\n",
       "        -4,  -4,  -2,  10,  -4,  -8,  10,  10,  -8, -10,  10,  -4,   4,\n",
       "       -10, -10,  10, -10,  10,   6, -10,  -2,  10,  10,  10,   6,  -2,\n",
       "        -8, -10,  10, -10,  -2,   2, -10,  -2, -10,  -4,  -2,  -2, -10,\n",
       "         2,  -2,   2, -10, -10, -10,  -4, -10,  10, -10,  10,  -8,  -6,\n",
       "        -4,  -8,  -2,  10,   4,   4,  10,  -8,  -2, -10,  -2,  -6,  -2,\n",
       "         0,  -6,  -4,  -4,   0,  10,  10, -10, -10,  -6, -10,  10, -10,\n",
       "         2,   6,  -6,  -2,   6,  -2,  -6,  -2,  -4,  -4,   2,  -4,  -2,\n",
       "        10,  10,  -4,  10,  10,  10,   4,  10,  10,   4,   4, -10,   8,\n",
       "        -2,  10, -10, -10, -10,  10,  10,  10,  10, -10,  -6, -10,  10,\n",
       "        -2,  -2,  10, -10,  10,  10,   6, -10, -10, -10, -10, -10],\n",
       "      dtype=int64)"
      ]
     },
     "execution_count": 41,
     "metadata": {},
     "output_type": "execute_result"
    }
   ],
   "source": [
    "y.values"
   ]
  },
  {
   "cell_type": "code",
   "execution_count": 34,
   "id": "54faca99",
   "metadata": {},
   "outputs": [],
   "source": [
    "rolmean = y.rolling(window=12).mean()\n",
    "rolstd = y.rolling(window=12).std()"
   ]
  },
  {
   "cell_type": "code",
   "execution_count": 35,
   "id": "54e186af",
   "metadata": {},
   "outputs": [
    {
     "name": "stderr",
     "output_type": "stream",
     "text": [
      "C:\\Anaconda3\\lib\\site-packages\\pandas\\core\\arraylike.py:358: RuntimeWarning: divide by zero encountered in log\n",
      "  result = getattr(ufunc, method)(*inputs, **kwargs)\n",
      "C:\\Anaconda3\\lib\\site-packages\\pandas\\core\\arraylike.py:358: RuntimeWarning: invalid value encountered in log\n",
      "  result = getattr(ufunc, method)(*inputs, **kwargs)\n"
     ]
    },
    {
     "data": {
      "text/plain": [
       "[<matplotlib.lines.Line2D at 0x1c6f0c512e0>]"
      ]
     },
     "execution_count": 35,
     "metadata": {},
     "output_type": "execute_result"
    },
    {
     "data": {
      "image/png": "[encoded data removed]",
      "text/plain": [
       "<Figure size 1080x432 with 1 Axes>"
      ]
     },
     "metadata": {
      "needs_background": "light"
     },
     "output_type": "display_data"
    }
   ],
   "source": [
    "indexedDataSet_logScale = np.log(y)\n",
    "plt.plot(indexedDataSet_logScale)"
   ]
  },
  {
   "cell_type": "code",
   "execution_count": 36,
   "id": "e358c657",
   "metadata": {},
   "outputs": [
    {
     "data": {
      "text/plain": [
       "[<matplotlib.lines.Line2D at 0x1c6f04f60d0>]"
      ]
     },
     "execution_count": 36,
     "metadata": {},
     "output_type": "execute_result"
    },
    {
     "data": {
      "image/png": "[encoded data removed]",
      "text/plain": [
       "<Figure size 1080x432 with 1 Axes>"
      ]
     },
     "metadata": {
      "needs_background": "light"
     },
     "output_type": "display_data"
    }
   ],
   "source": [
    "movingAverage = indexedDataSet_logScale.rolling(window=12).mean()\n",
    "movingStd = indexedDataSet_logScale.rolling(window=12).std()\n",
    "plt.plot(indexedDataSet_logScale)\n",
    "plt.plot(movingAverage, color='red')"
   ]
  },
  {
   "cell_type": "code",
   "execution_count": 37,
   "id": "53ca8180",
   "metadata": {},
   "outputs": [
    {
     "data": {
      "text/plain": [
       "Date\n",
       "2007-12-01   NaN\n",
       "2008-01-01   NaN\n",
       "2008-02-01   NaN\n",
       "2008-03-01   NaN\n",
       "2008-04-01   NaN\n",
       "Name: Category, dtype: float64"
      ]
     },
     "execution_count": 37,
     "metadata": {},
     "output_type": "execute_result"
    }
   ],
   "source": [
    "datasetLogScaleMinusMovingAverage = indexedDataSet_logScale - movingAverage\n",
    "datasetLogScaleMinusMovingAverage.head()"
   ]
  },
  {
   "cell_type": "code",
   "execution_count": 38,
   "id": "338e60ef",
   "metadata": {},
   "outputs": [
    {
     "data": {
      "text/plain": [
       "Series([], Name: Category, dtype: float64)"
      ]
     },
     "execution_count": 38,
     "metadata": {},
     "output_type": "execute_result"
    }
   ],
   "source": [
    "datasetLogScaleMinusMovingAverage.dropna(inplace=True) #remover os valores ausentes\n",
    "datasetLogScaleMinusMovingAverage.head()"
   ]
  },
  {
   "cell_type": "code",
   "execution_count": 39,
   "id": "51ff2cb6",
   "metadata": {},
   "outputs": [
    {
     "name": "stdout",
     "output_type": "stream",
     "text": [
      "Resultado do teste de Dick-Fuller:\n"
     ]
    },
    {
     "ename": "ValueError",
     "evalue": "sample size is too short to use selected regression component",
     "output_type": "error",
     "traceback": [
      "\u001b[1;31m---------------------------------------------------------------------------\u001b[0m",
      "\u001b[1;31mValueError\u001b[0m                                Traceback (most recent call last)",
      "\u001b[1;32m<ipython-input-39-c490a0d35841>\u001b[0m in \u001b[0;36m<module>\u001b[1;34m\u001b[0m\n\u001b[1;32m----> 1\u001b[1;33m \u001b[0madf_test\u001b[0m\u001b[1;33m(\u001b[0m\u001b[0mdatasetLogScaleMinusMovingAverage\u001b[0m\u001b[1;33m)\u001b[0m\u001b[1;33m\u001b[0m\u001b[1;33m\u001b[0m\u001b[0m\n\u001b[0m",
      "\u001b[1;32m<ipython-input-27-4be8deb22aae>\u001b[0m in \u001b[0;36madf_test\u001b[1;34m(y)\u001b[0m\n\u001b[0;32m      1\u001b[0m \u001b[1;32mdef\u001b[0m \u001b[0madf_test\u001b[0m\u001b[1;33m(\u001b[0m\u001b[0my\u001b[0m\u001b[1;33m)\u001b[0m\u001b[1;33m:\u001b[0m\u001b[1;33m\u001b[0m\u001b[1;33m\u001b[0m\u001b[0m\n\u001b[0;32m      2\u001b[0m   \u001b[0mprint\u001b[0m\u001b[1;33m(\u001b[0m\u001b[1;34m'Resultado do teste de Dick-Fuller:'\u001b[0m\u001b[1;33m)\u001b[0m\u001b[1;33m\u001b[0m\u001b[1;33m\u001b[0m\u001b[0m\n\u001b[1;32m----> 3\u001b[1;33m   \u001b[0mdftest\u001b[0m \u001b[1;33m=\u001b[0m \u001b[0madfuller\u001b[0m\u001b[1;33m(\u001b[0m\u001b[0my\u001b[0m\u001b[1;33m,\u001b[0m \u001b[0mautolag\u001b[0m\u001b[1;33m=\u001b[0m\u001b[1;34m'AIC'\u001b[0m\u001b[1;33m)\u001b[0m\u001b[1;33m\u001b[0m\u001b[1;33m\u001b[0m\u001b[0m\n\u001b[0m\u001b[0;32m      4\u001b[0m   \u001b[0mdfoutput\u001b[0m \u001b[1;33m=\u001b[0m \u001b[0mpd\u001b[0m\u001b[1;33m.\u001b[0m\u001b[0mSeries\u001b[0m\u001b[1;33m(\u001b[0m\u001b[0mdftest\u001b[0m\u001b[1;33m[\u001b[0m\u001b[1;36m0\u001b[0m\u001b[1;33m:\u001b[0m\u001b[1;36m4\u001b[0m\u001b[1;33m]\u001b[0m\u001b[1;33m,\u001b[0m \u001b[0mindex\u001b[0m\u001b[1;33m=\u001b[0m\u001b[1;33m[\u001b[0m\u001b[1;34m'Teste'\u001b[0m\u001b[1;33m,\u001b[0m \u001b[1;34m'Valor P'\u001b[0m\u001b[1;33m,\u001b[0m \u001b[1;34m'# de lags'\u001b[0m\u001b[1;33m,\u001b[0m \u001b[1;34m'# de observações'\u001b[0m\u001b[1;33m]\u001b[0m\u001b[1;33m)\u001b[0m\u001b[1;33m\u001b[0m\u001b[1;33m\u001b[0m\u001b[0m\n\u001b[0;32m      5\u001b[0m   \u001b[1;32mfor\u001b[0m \u001b[0mkey\u001b[0m\u001b[1;33m,\u001b[0m \u001b[0mvalue\u001b[0m \u001b[1;32min\u001b[0m \u001b[0mdftest\u001b[0m\u001b[1;33m[\u001b[0m\u001b[1;36m4\u001b[0m\u001b[1;33m]\u001b[0m\u001b[1;33m.\u001b[0m\u001b[0mitems\u001b[0m\u001b[1;33m(\u001b[0m\u001b[1;33m)\u001b[0m\u001b[1;33m:\u001b[0m\u001b[1;33m\u001b[0m\u001b[1;33m\u001b[0m\u001b[0m\n",
      "\u001b[1;32mC:\\Anaconda3\\lib\\site-packages\\statsmodels\\tsa\\stattools.py\u001b[0m in \u001b[0;36madfuller\u001b[1;34m(x, maxlag, regression, autolag, store, regresults)\u001b[0m\n\u001b[0;32m    279\u001b[0m         \u001b[0mmaxlag\u001b[0m \u001b[1;33m=\u001b[0m \u001b[0mmin\u001b[0m\u001b[1;33m(\u001b[0m\u001b[0mnobs\u001b[0m \u001b[1;33m//\u001b[0m \u001b[1;36m2\u001b[0m \u001b[1;33m-\u001b[0m \u001b[0mntrend\u001b[0m \u001b[1;33m-\u001b[0m \u001b[1;36m1\u001b[0m\u001b[1;33m,\u001b[0m \u001b[0mmaxlag\u001b[0m\u001b[1;33m)\u001b[0m\u001b[1;33m\u001b[0m\u001b[1;33m\u001b[0m\u001b[0m\n\u001b[0;32m    280\u001b[0m         \u001b[1;32mif\u001b[0m \u001b[0mmaxlag\u001b[0m \u001b[1;33m<\u001b[0m \u001b[1;36m0\u001b[0m\u001b[1;33m:\u001b[0m\u001b[1;33m\u001b[0m\u001b[1;33m\u001b[0m\u001b[0m\n\u001b[1;32m--> 281\u001b[1;33m             raise ValueError(\n\u001b[0m\u001b[0;32m    282\u001b[0m                 \u001b[1;34m\"sample size is too short to use selected \"\u001b[0m\u001b[1;33m\u001b[0m\u001b[1;33m\u001b[0m\u001b[0m\n\u001b[0;32m    283\u001b[0m                 \u001b[1;34m\"regression component\"\u001b[0m\u001b[1;33m\u001b[0m\u001b[1;33m\u001b[0m\u001b[0m\n",
      "\u001b[1;31mValueError\u001b[0m: sample size is too short to use selected regression component"
     ]
    }
   ],
   "source": [
    "adf_test(datasetLogScaleMinusMovingAverage)"
   ]
  },
  {
   "cell_type": "code",
   "execution_count": 85,
   "id": "a2996eaf",
   "metadata": {
    "scrolled": true
   },
   "outputs": [],
   "source": [
    "#list_df[0].head(2).round(2).sort_values(ascending=True, by='High' )"
   ]
  },
  {
   "cell_type": "code",
   "execution_count": 42,
   "id": "cbdb4e95",
   "metadata": {},
   "outputs": [
    {
     "name": "stderr",
     "output_type": "stream",
     "text": [
      "<ipython-input-42-ef8adff48f83>:1: FutureWarning: the 'freq'' keyword is deprecated, use 'period' instead\n",
      "  result = seasonal_decompose(y, freq=12, model='aditive')\n"
     ]
    },
    {
     "data": {
      "image/png": "[encoded data removed]",
      "text/plain": [
       "<Figure size 1080x432 with 4 Axes>"
      ]
     },
     "metadata": {
      "needs_background": "light"
     },
     "output_type": "display_data"
    }
   ],
   "source": [
    "result = seasonal_decompose(y, freq=12, model='aditive')\n",
    "result.plot()\n",
    "plt.show()"
   ]
  },
  {
   "cell_type": "code",
   "execution_count": 43,
   "id": "3bc22e5f",
   "metadata": {},
   "outputs": [
    {
     "data": {
      "text/plain": [
       "-0.979113206172675"
      ]
     },
     "execution_count": 43,
     "metadata": {},
     "output_type": "execute_result"
    }
   ],
   "source": [
    "max_seazonal_cls = (0.1 - (result.resid/(result.seasonal + result.resid)))\n",
    "max_seazonal_cls.mean()"
   ]
  },
  {
   "cell_type": "code",
   "execution_count": 44,
   "id": "375004ab",
   "metadata": {},
   "outputs": [
    {
     "data": {
      "text/plain": [
       "-0.8727138672106474"
      ]
     },
     "execution_count": 44,
     "metadata": {},
     "output_type": "execute_result"
    }
   ],
   "source": [
    "max_trend_cls = (0.1 - (result.resid/(result.trend + result.resid)))\n",
    "max_trend_cls.mean()"
   ]
  },
  {
   "cell_type": "code",
   "execution_count": 45,
   "id": "cac11b23",
   "metadata": {},
   "outputs": [],
   "source": [
    "dfSTL = y"
   ]
  },
  {
   "cell_type": "code",
   "execution_count": 46,
   "id": "6c1f475e",
   "metadata": {},
   "outputs": [
    {
     "data": {
      "text/html": [
       "<div>\n",
       "<style scoped>\n",
       "    .dataframe tbody tr th:only-of-type {\n",
       "        vertical-align: middle;\n",
       "    }\n",
       "\n",
       "    .dataframe tbody tr th {\n",
       "        vertical-align: top;\n",
       "    }\n",
       "\n",
       "    .dataframe thead th {\n",
       "        text-align: right;\n",
       "    }\n",
       "</style>\n",
       "<table border=\"1\" class=\"dataframe\">\n",
       "  <thead>\n",
       "    <tr style=\"text-align: right;\">\n",
       "      <th></th>\n",
       "      <th>Category</th>\n",
       "    </tr>\n",
       "    <tr>\n",
       "      <th>Date</th>\n",
       "      <th></th>\n",
       "    </tr>\n",
       "  </thead>\n",
       "  <tbody>\n",
       "    <tr>\n",
       "      <th>2007-12-01</th>\n",
       "      <td>-6</td>\n",
       "    </tr>\n",
       "    <tr>\n",
       "      <th>2008-01-01</th>\n",
       "      <td>-6</td>\n",
       "    </tr>\n",
       "    <tr>\n",
       "      <th>2008-02-01</th>\n",
       "      <td>6</td>\n",
       "    </tr>\n",
       "    <tr>\n",
       "      <th>2008-03-01</th>\n",
       "      <td>-10</td>\n",
       "    </tr>\n",
       "    <tr>\n",
       "      <th>2008-04-01</th>\n",
       "      <td>10</td>\n",
       "    </tr>\n",
       "  </tbody>\n",
       "</table>\n",
       "</div>"
      ],
      "text/plain": [
       "            Category\n",
       "Date                \n",
       "2007-12-01        -6\n",
       "2008-01-01        -6\n",
       "2008-02-01         6\n",
       "2008-03-01       -10\n",
       "2008-04-01        10"
      ]
     },
     "execution_count": 46,
     "metadata": {},
     "output_type": "execute_result"
    }
   ],
   "source": [
    "dfSTL = pd.DataFrame(dfSTL)\n",
    "dfSTL.head()"
   ]
  },
  {
   "cell_type": "code",
   "execution_count": 47,
   "id": "dcdc0e5f",
   "metadata": {},
   "outputs": [
    {
     "data": {
      "text/html": [
       "<div>\n",
       "<style scoped>\n",
       "    .dataframe tbody tr th:only-of-type {\n",
       "        vertical-align: middle;\n",
       "    }\n",
       "\n",
       "    .dataframe tbody tr th {\n",
       "        vertical-align: top;\n",
       "    }\n",
       "\n",
       "    .dataframe thead th {\n",
       "        text-align: right;\n",
       "    }\n",
       "</style>\n",
       "<table border=\"1\" class=\"dataframe\">\n",
       "  <thead>\n",
       "    <tr style=\"text-align: right;\">\n",
       "      <th></th>\n",
       "      <th>Category</th>\n",
       "    </tr>\n",
       "    <tr>\n",
       "      <th>Date</th>\n",
       "      <th></th>\n",
       "    </tr>\n",
       "  </thead>\n",
       "  <tbody>\n",
       "    <tr>\n",
       "      <th>2007-12-01</th>\n",
       "      <td>-6</td>\n",
       "    </tr>\n",
       "    <tr>\n",
       "      <th>2008-01-01</th>\n",
       "      <td>-6</td>\n",
       "    </tr>\n",
       "    <tr>\n",
       "      <th>2008-02-01</th>\n",
       "      <td>6</td>\n",
       "    </tr>\n",
       "    <tr>\n",
       "      <th>2008-03-01</th>\n",
       "      <td>-10</td>\n",
       "    </tr>\n",
       "    <tr>\n",
       "      <th>2008-04-01</th>\n",
       "      <td>10</td>\n",
       "    </tr>\n",
       "    <tr>\n",
       "      <th>...</th>\n",
       "      <td>...</td>\n",
       "    </tr>\n",
       "    <tr>\n",
       "      <th>2021-07-01</th>\n",
       "      <td>-10</td>\n",
       "    </tr>\n",
       "    <tr>\n",
       "      <th>2021-08-01</th>\n",
       "      <td>-10</td>\n",
       "    </tr>\n",
       "    <tr>\n",
       "      <th>2021-09-01</th>\n",
       "      <td>-10</td>\n",
       "    </tr>\n",
       "    <tr>\n",
       "      <th>2021-10-01</th>\n",
       "      <td>-10</td>\n",
       "    </tr>\n",
       "    <tr>\n",
       "      <th>2021-11-01</th>\n",
       "      <td>-10</td>\n",
       "    </tr>\n",
       "  </tbody>\n",
       "</table>\n",
       "<p>168 rows × 1 columns</p>\n",
       "</div>"
      ],
      "text/plain": [
       "            Category\n",
       "Date                \n",
       "2007-12-01        -6\n",
       "2008-01-01        -6\n",
       "2008-02-01         6\n",
       "2008-03-01       -10\n",
       "2008-04-01        10\n",
       "...              ...\n",
       "2021-07-01       -10\n",
       "2021-08-01       -10\n",
       "2021-09-01       -10\n",
       "2021-10-01       -10\n",
       "2021-11-01       -10\n",
       "\n",
       "[168 rows x 1 columns]"
      ]
     },
     "execution_count": 47,
     "metadata": {},
     "output_type": "execute_result"
    }
   ],
   "source": [
    "dfSTL.asfreq('MS')"
   ]
  },
  {
   "cell_type": "code",
   "execution_count": 48,
   "id": "0b0bb3a1",
   "metadata": {},
   "outputs": [
    {
     "data": {
      "image/png": "[encoded data removed]",
      "text/plain": [
       "<Figure size 1080x432 with 4 Axes>"
      ]
     },
     "metadata": {
      "needs_background": "light"
     },
     "output_type": "display_data"
    }
   ],
   "source": [
    "resultSTL = STL(dfSTL, robust=True, period=12).fit()\n",
    "resultSTL.plot()\n",
    "plt.show()"
   ]
  },
  {
   "cell_type": "code",
   "execution_count": 113,
   "id": "6a058745",
   "metadata": {},
   "outputs": [],
   "source": [
    "def rateing_seasonal(result: pd.Series):\n",
    "    \"\"\"\n",
    "    Recebe uma serie sazonal e devolve os períodos sazonais com maior frequência encontrada na lista, tanto para\n",
    "    valores abaixo de zero, quanto acima.\n",
    "    \"\"\"\n",
    "    top = max(result)/2\n",
    "    down = min(result)/2\n",
    "    month_top = []\n",
    "    month_down = []\n",
    "    for i in range(0, len(result)):\n",
    "        month = pd.to_datetime(result.index[i], '%Y-%m-%d %H:%M:%S')\n",
    "        if result.values[i] > top:\n",
    "            month_top.append(month.month)\n",
    "        elif result.values[i] < down:\n",
    "            month_down.append(month.month)\n",
    "    set_month_top = set(month_top)\n",
    "    set_month_down = set(month_down)\n",
    "    dict_values_top = {name: 0 for i, name in enumerate(set_month_top)}\n",
    "    dict_values_down = {name: 0 for i, name in enumerate(set_month_down)}\n",
    "    for i in month_top:\n",
    "        dict_values_top[i] = dict_values_top.get(i) + 1\n",
    "    for i in month_down:\n",
    "        dict_values_down[i] = dict_values_down.get(i) + 1\n",
    "    list_month_top = []\n",
    "    list_month_down = []\n",
    "    for key, value in dict_values_top.items():\n",
    "        if value == max(dict_values_top.values()):\n",
    "            list_month_top.append(key)\n",
    "    for key, value in dict_values_down.items():\n",
    "        if value == max(dict_values_down.values()):\n",
    "            list_month_down.append(key)\n",
    "    return {'max': list_month_top, 'min': list_month_down}\n",
    "    "
   ]
  },
  {
   "cell_type": "code",
   "execution_count": 117,
   "id": "47d91c7f",
   "metadata": {},
   "outputs": [],
   "source": [
    "def hit_percentage(ts: pd.Series, month, var):\n",
    "    qt_month = 0"
   ]
  },
  {
   "cell_type": "code",
   "execution_count": 114,
   "id": "9cf74293",
   "metadata": {},
   "outputs": [
    {
     "data": {
      "text/plain": [
       "{'max': [2], 'min': [8]}"
      ]
     },
     "execution_count": 114,
     "metadata": {},
     "output_type": "execute_result"
    }
   ],
   "source": [
    "rateing_seasonal(teste)"
   ]
  },
  {
   "cell_type": "code",
   "execution_count": 115,
   "id": "e65641fd",
   "metadata": {},
   "outputs": [
    {
     "data": {
      "text/plain": [
       "{'max': [1, 2, 7], 'min': [8, 3]}"
      ]
     },
     "execution_count": 115,
     "metadata": {},
     "output_type": "execute_result"
    }
   ],
   "source": [
    "rateing_seasonal(teste_classic)"
   ]
  },
  {
   "cell_type": "code",
   "execution_count": 79,
   "id": "75336ab0",
   "metadata": {},
   "outputs": [],
   "source": [
    "teste_classic = result.seasonal"
   ]
  },
  {
   "cell_type": "code",
   "execution_count": 73,
   "id": "1972d11d",
   "metadata": {},
   "outputs": [],
   "source": [
    "teste = resultSTL.seasonal"
   ]
  },
  {
   "cell_type": "code",
   "execution_count": 100,
   "id": "c4835932",
   "metadata": {},
   "outputs": [],
   "source": [
    "d = {1: 43, 2: 43, 3: 43, 4: 1, 5: 16}"
   ]
  },
  {
   "cell_type": "code",
   "execution_count": 103,
   "id": "db33b2a0",
   "metadata": {},
   "outputs": [
    {
     "data": {
      "text/plain": [
       "dict_items([(1, 43), (2, 43), (3, 43), (4, 1), (5, 16)])"
      ]
     },
     "execution_count": 103,
     "metadata": {},
     "output_type": "execute_result"
    }
   ],
   "source": [
    "d.items()"
   ]
  },
  {
   "cell_type": "code",
   "execution_count": 92,
   "id": "fcc92020",
   "metadata": {},
   "outputs": [],
   "source": [
    "xz=max(d.values())"
   ]
  },
  {
   "cell_type": "code",
   "execution_count": 98,
   "id": "ef843e28",
   "metadata": {},
   "outputs": [],
   "source": [
    "def get_key(val):\n",
    "    keys = []\n",
    "    dicts_r = {}\n",
    "    for key, value in d.items():\n",
    "        if val == value:\n",
    "            keys.append(key)\n",
    "            dicts_r\n",
    "    return keys"
   ]
  },
  {
   "cell_type": "code",
   "execution_count": 99,
   "id": "d14bbd9c",
   "metadata": {},
   "outputs": [
    {
     "data": {
      "text/plain": [
       "[1, 2, 3]"
      ]
     },
     "execution_count": 99,
     "metadata": {},
     "output_type": "execute_result"
    }
   ],
   "source": [
    "get_key(xz)"
   ]
  },
  {
   "cell_type": "code",
   "execution_count": 51,
   "id": "e5131a62",
   "metadata": {},
   "outputs": [],
   "source": [
    "a = [1, 2, 3, 4, 5, 10, 33, 7, 1, 3, 4, 10, 15]"
   ]
  },
  {
   "cell_type": "code",
   "execution_count": 57,
   "id": "a63eb725",
   "metadata": {},
   "outputs": [],
   "source": [
    "b = set(a)"
   ]
  },
  {
   "cell_type": "code",
   "execution_count": 58,
   "id": "ca022346",
   "metadata": {},
   "outputs": [
    {
     "data": {
      "text/plain": [
       "{1, 2, 3, 4, 5, 7, 10, 15, 33, 55}"
      ]
     },
     "execution_count": 58,
     "metadata": {},
     "output_type": "execute_result"
    }
   ],
   "source": [
    "b.add(55)\n",
    "b"
   ]
  },
  {
   "cell_type": "code",
   "execution_count": 53,
   "id": "1fba5e8b",
   "metadata": {},
   "outputs": [
    {
     "data": {
      "text/plain": [
       "12.020397744164873"
      ]
     },
     "execution_count": 53,
     "metadata": {},
     "output_type": "execute_result"
    }
   ],
   "source": [
    "(resultSTL.seasonal)"
   ]
  },
  {
   "cell_type": "code",
   "execution_count": 47,
   "id": "98857be8",
   "metadata": {
    "scrolled": true
   },
   "outputs": [
    {
     "data": {
      "text/plain": [
       "-5.483981090930722"
      ]
     },
     "execution_count": 47,
     "metadata": {},
     "output_type": "execute_result"
    }
   ],
   "source": [
    "max_trend = (0.1 - (resultSTL.resid/(resultSTL.trend + resultSTL.resid)))\n",
    "max_trend.mean()"
   ]
  },
  {
   "cell_type": "code",
   "execution_count": 48,
   "id": "18e5073f",
   "metadata": {
    "scrolled": true
   },
   "outputs": [
    {
     "data": {
      "text/plain": [
       "-0.43315014237077804"
      ]
     },
     "execution_count": 48,
     "metadata": {},
     "output_type": "execute_result"
    }
   ],
   "source": [
    "max_seazonal = (0.1 - (resultSTL.resid/(resultSTL.seasonal + resultSTL.resid)))\n",
    "max_seazonal.mean()"
   ]
  },
  {
   "cell_type": "code",
   "execution_count": 93,
   "id": "6f24abe0",
   "metadata": {},
   "outputs": [],
   "source": [
    "resultSTL.trend.to_excel('resultSTL.xlsx', sheet_name='trend')"
   ]
  },
  {
   "cell_type": "code",
   "execution_count": 94,
   "id": "105d8067",
   "metadata": {},
   "outputs": [],
   "source": [
    "resultSTL.resid.to_excel('resultSTL.xlsx', sheet_name='resid')"
   ]
  },
  {
   "cell_type": "code",
   "execution_count": 95,
   "id": "45bffcec",
   "metadata": {},
   "outputs": [],
   "source": [
    "resultSTL.observed.to_excel('resultSTL.xlsx', sheet_name='observed')"
   ]
  },
  {
   "cell_type": "code",
   "execution_count": 96,
   "id": "76296124",
   "metadata": {},
   "outputs": [],
   "source": [
    "resultSTL.seasonal.to_excel('resultSTL.xlsx', sheet_name='seasonal')"
   ]
  },
  {
   "cell_type": "code",
   "execution_count": 97,
   "id": "66094ed2",
   "metadata": {},
   "outputs": [],
   "source": [
    "result.seasonal.to_excel('resultClassic.xlsx')"
   ]
  },
  {
   "cell_type": "code",
   "execution_count": 128,
   "id": "c30fba0e",
   "metadata": {},
   "outputs": [],
   "source": [
    "from pmdarima.arima import auto_arima"
   ]
  },
  {
   "cell_type": "code",
   "execution_count": 213,
   "id": "ec53319c",
   "metadata": {},
   "outputs": [],
   "source": [
    "y = dfSTL"
   ]
  },
  {
   "cell_type": "code",
   "execution_count": 214,
   "id": "babe3b19",
   "metadata": {},
   "outputs": [
    {
     "name": "stdout",
     "output_type": "stream",
     "text": [
      " ARIMA(0,1,0)(0,1,0)[12]             : AIC=314.753, Time=0.02 sec\n",
      " ARIMA(0,1,0)(0,1,1)[12]             : AIC=inf, Time=0.13 sec\n",
      " ARIMA(0,1,0)(0,1,2)[12]             : AIC=inf, Time=0.32 sec\n",
      " ARIMA(0,1,0)(1,1,0)[12]             : AIC=305.024, Time=0.04 sec\n",
      " ARIMA(0,1,0)(1,1,1)[12]             : AIC=inf, Time=0.24 sec\n",
      " ARIMA(0,1,0)(1,1,2)[12]             : AIC=inf, Time=0.51 sec\n",
      " ARIMA(0,1,0)(2,1,0)[12]             : AIC=305.141, Time=0.12 sec\n",
      " ARIMA(0,1,0)(2,1,1)[12]             : AIC=inf, Time=0.50 sec\n",
      " ARIMA(0,1,0)(2,1,2)[12]             : AIC=inf, Time=0.79 sec\n",
      " ARIMA(0,1,1)(0,1,0)[12]             : AIC=296.216, Time=0.03 sec\n",
      " ARIMA(0,1,1)(0,1,1)[12]             : AIC=inf, Time=0.14 sec\n",
      " ARIMA(0,1,1)(0,1,2)[12]             : AIC=inf, Time=0.35 sec\n",
      " ARIMA(0,1,1)(1,1,0)[12]             : AIC=287.596, Time=0.08 sec\n",
      " ARIMA(0,1,1)(1,1,1)[12]             : AIC=inf, Time=0.39 sec\n",
      " ARIMA(0,1,1)(1,1,2)[12]             : AIC=inf, Time=0.63 sec\n",
      " ARIMA(0,1,1)(2,1,0)[12]             : AIC=288.280, Time=0.23 sec\n",
      " ARIMA(0,1,1)(2,1,1)[12]             : AIC=inf, Time=0.63 sec\n",
      " ARIMA(0,1,1)(2,1,2)[12]             : AIC=inf, Time=0.73 sec\n",
      " ARIMA(0,1,2)(0,1,0)[12]             : AIC=297.794, Time=0.04 sec\n",
      " ARIMA(0,1,2)(0,1,1)[12]             : AIC=inf, Time=0.23 sec\n",
      " ARIMA(0,1,2)(0,1,2)[12]             : AIC=inf, Time=0.60 sec\n",
      " ARIMA(0,1,2)(1,1,0)[12]             : AIC=289.219, Time=0.08 sec\n",
      " ARIMA(0,1,2)(1,1,1)[12]             : AIC=inf, Time=0.35 sec\n",
      " ARIMA(0,1,2)(1,1,2)[12]             : AIC=inf, Time=0.73 sec\n",
      " ARIMA(0,1,2)(2,1,0)[12]             : AIC=290.076, Time=0.19 sec\n",
      " ARIMA(0,1,2)(2,1,1)[12]             : AIC=inf, Time=0.71 sec\n",
      " ARIMA(0,1,3)(0,1,0)[12]             : AIC=299.477, Time=0.05 sec\n",
      " ARIMA(0,1,3)(0,1,1)[12]             : AIC=inf, Time=0.31 sec\n",
      " ARIMA(0,1,3)(0,1,2)[12]             : AIC=inf, Time=0.71 sec\n",
      " ARIMA(0,1,3)(1,1,0)[12]             : AIC=inf, Time=0.28 sec\n",
      " ARIMA(0,1,3)(1,1,1)[12]             : AIC=inf, Time=0.45 sec\n",
      " ARIMA(0,1,3)(2,1,0)[12]             : AIC=inf, Time=0.64 sec\n",
      " ARIMA(0,1,4)(0,1,0)[12]             : AIC=inf, Time=0.23 sec\n",
      " ARIMA(0,1,4)(0,1,1)[12]             : AIC=inf, Time=0.40 sec\n",
      " ARIMA(0,1,4)(1,1,0)[12]             : AIC=inf, Time=0.36 sec\n",
      " ARIMA(0,1,5)(0,1,0)[12]             : AIC=inf, Time=0.26 sec\n",
      " ARIMA(1,1,0)(0,1,0)[12]             : AIC=308.035, Time=0.02 sec\n",
      " ARIMA(1,1,0)(0,1,1)[12]             : AIC=inf, Time=0.13 sec\n",
      " ARIMA(1,1,0)(0,1,2)[12]             : AIC=inf, Time=0.42 sec\n",
      " ARIMA(1,1,0)(1,1,0)[12]             : AIC=294.755, Time=0.06 sec\n",
      " ARIMA(1,1,0)(1,1,1)[12]             : AIC=inf, Time=0.25 sec\n",
      " ARIMA(1,1,0)(1,1,2)[12]             : AIC=inf, Time=0.65 sec\n",
      " ARIMA(1,1,0)(2,1,0)[12]             : AIC=295.163, Time=0.16 sec\n",
      " ARIMA(1,1,0)(2,1,1)[12]             : AIC=inf, Time=0.62 sec\n",
      " ARIMA(1,1,0)(2,1,2)[12]             : AIC=inf, Time=0.85 sec\n",
      " ARIMA(1,1,1)(0,1,0)[12]             : AIC=297.971, Time=0.05 sec\n",
      " ARIMA(1,1,1)(0,1,1)[12]             : AIC=inf, Time=0.27 sec\n",
      " ARIMA(1,1,1)(0,1,2)[12]             : AIC=289.698, Time=0.36 sec\n",
      " ARIMA(1,1,1)(1,1,0)[12]             : AIC=289.184, Time=0.09 sec\n",
      " ARIMA(1,1,1)(1,1,1)[12]             : AIC=inf, Time=0.29 sec\n",
      " ARIMA(1,1,1)(1,1,2)[12]             : AIC=inf, Time=0.62 sec\n",
      " ARIMA(1,1,1)(2,1,0)[12]             : AIC=290.015, Time=0.53 sec\n",
      " ARIMA(1,1,1)(2,1,1)[12]             : AIC=inf, Time=1.10 sec\n",
      " ARIMA(1,1,2)(0,1,0)[12]             : AIC=inf, Time=0.15 sec\n",
      " ARIMA(1,1,2)(0,1,1)[12]             : AIC=inf, Time=0.27 sec\n",
      " ARIMA(1,1,2)(0,1,2)[12]             : AIC=inf, Time=0.66 sec\n",
      " ARIMA(1,1,2)(1,1,0)[12]             : AIC=291.170, Time=0.12 sec\n",
      " ARIMA(1,1,2)(1,1,1)[12]             : AIC=inf, Time=0.58 sec\n",
      " ARIMA(1,1,2)(2,1,0)[12]             : AIC=292.013, Time=0.97 sec\n",
      " ARIMA(1,1,3)(0,1,0)[12]             : AIC=300.750, Time=0.17 sec\n",
      " ARIMA(1,1,3)(0,1,1)[12]             : AIC=inf, Time=0.97 sec\n",
      " ARIMA(1,1,3)(1,1,0)[12]             : AIC=inf, Time=0.80 sec\n",
      " ARIMA(1,1,4)(0,1,0)[12]             : AIC=inf, Time=0.58 sec\n",
      " ARIMA(2,1,0)(0,1,0)[12]             : AIC=295.786, Time=0.12 sec\n",
      " ARIMA(2,1,0)(0,1,1)[12]             : AIC=inf, Time=1.01 sec\n",
      " ARIMA(2,1,0)(0,1,2)[12]             : AIC=inf, Time=0.89 sec\n",
      " ARIMA(2,1,0)(1,1,0)[12]             : AIC=289.663, Time=0.09 sec\n",
      " ARIMA(2,1,0)(1,1,1)[12]             : AIC=inf, Time=1.08 sec\n",
      " ARIMA(2,1,0)(1,1,2)[12]             : AIC=292.533, Time=1.86 sec\n",
      " ARIMA(2,1,0)(2,1,0)[12]             : AIC=290.975, Time=0.20 sec\n",
      " ARIMA(2,1,0)(2,1,1)[12]             : AIC=inf, Time=0.83 sec\n",
      " ARIMA(2,1,1)(0,1,0)[12]             : AIC=297.091, Time=0.06 sec\n",
      " ARIMA(2,1,1)(0,1,1)[12]             : AIC=inf, Time=0.30 sec\n",
      " ARIMA(2,1,1)(0,1,2)[12]             : AIC=inf, Time=0.80 sec\n",
      " ARIMA(2,1,1)(1,1,0)[12]             : AIC=290.720, Time=0.14 sec\n",
      " ARIMA(2,1,1)(1,1,1)[12]             : AIC=inf, Time=0.48 sec\n",
      " ARIMA(2,1,1)(2,1,0)[12]             : AIC=292.007, Time=0.41 sec\n",
      " ARIMA(2,1,2)(0,1,0)[12]             : AIC=298.967, Time=0.08 sec\n",
      " ARIMA(2,1,2)(0,1,1)[12]             : AIC=inf, Time=0.56 sec\n",
      " ARIMA(2,1,2)(1,1,0)[12]             : AIC=292.696, Time=0.24 sec\n",
      " ARIMA(2,1,3)(0,1,0)[12]             : AIC=inf, Time=0.28 sec\n",
      " ARIMA(3,1,0)(0,1,0)[12]             : AIC=296.980, Time=0.05 sec\n",
      " ARIMA(3,1,0)(0,1,1)[12]             : AIC=inf, Time=0.35 sec\n",
      " ARIMA(3,1,0)(0,1,2)[12]             : AIC=inf, Time=0.71 sec\n",
      " ARIMA(3,1,0)(1,1,0)[12]             : AIC=290.447, Time=0.10 sec\n",
      " ARIMA(3,1,0)(1,1,1)[12]             : AIC=inf, Time=0.50 sec\n",
      " ARIMA(3,1,0)(2,1,0)[12]             : AIC=291.727, Time=0.29 sec\n",
      " ARIMA(3,1,1)(0,1,0)[12]             : AIC=inf, Time=0.18 sec\n",
      " ARIMA(3,1,1)(0,1,1)[12]             : AIC=inf, Time=0.48 sec\n",
      " ARIMA(3,1,1)(1,1,0)[12]             : AIC=inf, Time=0.44 sec\n",
      " ARIMA(3,1,2)(0,1,0)[12]             : AIC=300.592, Time=0.14 sec\n",
      " ARIMA(4,1,0)(0,1,0)[12]             : AIC=298.855, Time=0.07 sec\n",
      " ARIMA(4,1,0)(0,1,1)[12]             : AIC=inf, Time=0.51 sec\n",
      " ARIMA(4,1,0)(1,1,0)[12]             : AIC=292.143, Time=0.13 sec\n",
      " ARIMA(4,1,1)(0,1,0)[12]             : AIC=inf, Time=0.25 sec\n",
      " ARIMA(5,1,0)(0,1,0)[12]             : AIC=300.743, Time=0.07 sec\n",
      "\n",
      "Best model:  ARIMA(0,1,1)(1,1,0)[12]          \n",
      "Total fit time: 38.072 seconds\n"
     ]
    }
   ],
   "source": [
    "stepwise_model = auto_arima(y, start_p=1, start_q=1, max_p=6, max_q=6, m=12, start_P=0, d=1, D=1, trace=True, \n",
    "                            error_action='ignore', suppress_warnings=True, stepwise=False)"
   ]
  },
  {
   "cell_type": "code",
   "execution_count": 215,
   "id": "7df9faab",
   "metadata": {},
   "outputs": [
    {
     "data": {
      "text/html": [
       "<table class=\"simpletable\">\n",
       "<caption>SARIMAX Results</caption>\n",
       "<tr>\n",
       "  <th>Dep. Variable:</th>                  <td>y</td>                <th>  No. Observations:  </th>    <td>50</td>   \n",
       "</tr>\n",
       "<tr>\n",
       "  <th>Model:</th>           <td>SARIMAX(0, 1, 1)x(1, 1, [], 12)</td> <th>  Log Likelihood     </th> <td>-140.798</td>\n",
       "</tr>\n",
       "<tr>\n",
       "  <th>Date:</th>                   <td>Tue, 16 Nov 2021</td>         <th>  AIC                </th>  <td>287.596</td>\n",
       "</tr>\n",
       "<tr>\n",
       "  <th>Time:</th>                       <td>23:41:35</td>             <th>  BIC                </th>  <td>292.429</td>\n",
       "</tr>\n",
       "<tr>\n",
       "  <th>Sample:</th>                         <td>0</td>                <th>  HQIC               </th>  <td>289.300</td>\n",
       "</tr>\n",
       "<tr>\n",
       "  <th></th>                              <td> - 50</td>              <th>                     </th>     <td> </td>   \n",
       "</tr>\n",
       "<tr>\n",
       "  <th>Covariance Type:</th>               <td>opg</td>               <th>                     </th>     <td> </td>   \n",
       "</tr>\n",
       "</table>\n",
       "<table class=\"simpletable\">\n",
       "<tr>\n",
       "      <td></td>        <th>coef</th>     <th>std err</th>      <th>z</th>      <th>P>|z|</th>  <th>[0.025</th>    <th>0.975]</th>  \n",
       "</tr>\n",
       "<tr>\n",
       "  <th>ma.L1</th>    <td>   -0.8892</td> <td>    0.163</td> <td>   -5.460</td> <td> 0.000</td> <td>   -1.208</td> <td>   -0.570</td>\n",
       "</tr>\n",
       "<tr>\n",
       "  <th>ar.S.L12</th> <td>   -0.5759</td> <td>    0.141</td> <td>   -4.099</td> <td> 0.000</td> <td>   -0.851</td> <td>   -0.301</td>\n",
       "</tr>\n",
       "<tr>\n",
       "  <th>sigma2</th>   <td>   98.7797</td> <td>   27.323</td> <td>    3.615</td> <td> 0.000</td> <td>   45.228</td> <td>  152.331</td>\n",
       "</tr>\n",
       "</table>\n",
       "<table class=\"simpletable\">\n",
       "<tr>\n",
       "  <th>Ljung-Box (L1) (Q):</th>     <td>0.07</td> <th>  Jarque-Bera (JB):  </th> <td>0.35</td>\n",
       "</tr>\n",
       "<tr>\n",
       "  <th>Prob(Q):</th>                <td>0.79</td> <th>  Prob(JB):          </th> <td>0.84</td>\n",
       "</tr>\n",
       "<tr>\n",
       "  <th>Heteroskedasticity (H):</th> <td>0.39</td> <th>  Skew:              </th> <td>0.14</td>\n",
       "</tr>\n",
       "<tr>\n",
       "  <th>Prob(H) (two-sided):</th>    <td>0.12</td> <th>  Kurtosis:          </th> <td>2.62</td>\n",
       "</tr>\n",
       "</table><br/><br/>Warnings:<br/>[1] Covariance matrix calculated using the outer product of gradients (complex-step)."
      ],
      "text/plain": [
       "<class 'statsmodels.iolib.summary.Summary'>\n",
       "\"\"\"\n",
       "                                      SARIMAX Results                                      \n",
       "===========================================================================================\n",
       "Dep. Variable:                                   y   No. Observations:                   50\n",
       "Model:             SARIMAX(0, 1, 1)x(1, 1, [], 12)   Log Likelihood                -140.798\n",
       "Date:                             Tue, 16 Nov 2021   AIC                            287.596\n",
       "Time:                                     23:41:35   BIC                            292.429\n",
       "Sample:                                          0   HQIC                           289.300\n",
       "                                              - 50                                         \n",
       "Covariance Type:                               opg                                         \n",
       "==============================================================================\n",
       "                 coef    std err          z      P>|z|      [0.025      0.975]\n",
       "------------------------------------------------------------------------------\n",
       "ma.L1         -0.8892      0.163     -5.460      0.000      -1.208      -0.570\n",
       "ar.S.L12      -0.5759      0.141     -4.099      0.000      -0.851      -0.301\n",
       "sigma2        98.7797     27.323      3.615      0.000      45.228     152.331\n",
       "===================================================================================\n",
       "Ljung-Box (L1) (Q):                   0.07   Jarque-Bera (JB):                 0.35\n",
       "Prob(Q):                              0.79   Prob(JB):                         0.84\n",
       "Heteroskedasticity (H):               0.39   Skew:                             0.14\n",
       "Prob(H) (two-sided):                  0.12   Kurtosis:                         2.62\n",
       "===================================================================================\n",
       "\n",
       "Warnings:\n",
       "[1] Covariance matrix calculated using the outer product of gradients (complex-step).\n",
       "\"\"\""
      ]
     },
     "execution_count": 215,
     "metadata": {},
     "output_type": "execute_result"
    }
   ],
   "source": [
    "stepwise_model.summary()"
   ]
  },
  {
   "cell_type": "code",
   "execution_count": 172,
   "id": "d2b5ca5c",
   "metadata": {},
   "outputs": [
    {
     "data": {
      "text/plain": [
       "Date\n",
       "2021-01-01   -10\n",
       "2021-02-01     4\n",
       "2021-03-01   -10\n",
       "2021-04-01    -8\n",
       "2021-05-01    -6\n",
       "Name: Category, dtype: int64"
      ]
     },
     "execution_count": 172,
     "metadata": {},
     "output_type": "execute_result"
    }
   ],
   "source": [
    "testAA.head()"
   ]
  },
  {
   "cell_type": "code",
   "execution_count": 216,
   "id": "6dbd3ace",
   "metadata": {},
   "outputs": [],
   "source": [
    "train = separate_analisys_test(y, 12)[0]\n",
    "testAA = separate_analisys_test(y, 12)[1]"
   ]
  },
  {
   "cell_type": "code",
   "execution_count": 217,
   "id": "fba65351",
   "metadata": {},
   "outputs": [
    {
     "data": {
      "text/plain": [
       "ARIMA(order=(0, 1, 1), scoring_args={}, seasonal_order=(1, 1, 0, 12),\n",
       "      suppress_warnings=True, with_intercept=False)"
      ]
     },
     "execution_count": 217,
     "metadata": {},
     "output_type": "execute_result"
    }
   ],
   "source": [
    "stepwise_model.fit(train)"
   ]
  },
  {
   "cell_type": "code",
   "execution_count": 218,
   "id": "957a5c1c",
   "metadata": {},
   "outputs": [],
   "source": [
    "feature_forecast = stepwise_model.predict(n_periods=12)"
   ]
  },
  {
   "cell_type": "code",
   "execution_count": 219,
   "id": "c18d3bba",
   "metadata": {},
   "outputs": [],
   "source": [
    "feature_forecast = pd.DataFrame(feature_forecast, index=testAA.index, columns=['Category'])"
   ]
  },
  {
   "cell_type": "code",
   "execution_count": 220,
   "id": "ed881bff",
   "metadata": {},
   "outputs": [
    {
     "data": {
      "text/plain": [
       "<AxesSubplot:xlabel='Date'>"
      ]
     },
     "execution_count": 220,
     "metadata": {},
     "output_type": "execute_result"
    },
    {
     "data": {
      "image/png": "[encoded data removed]",
      "text/plain": [
       "<Figure size 1080x432 with 1 Axes>"
      ]
     },
     "metadata": {
      "needs_background": "light"
     },
     "output_type": "display_data"
    }
   ],
   "source": [
    "pd.concat({'test': testAA, 'pred': feature_forecast}, axis=1).plot()"
   ]
  },
  {
   "cell_type": "code",
   "execution_count": 221,
   "id": "c907a0d2",
   "metadata": {},
   "outputs": [
    {
     "data": {
      "image/png": "[encoded data removed]",
      "text/plain": [
       "<Figure size 1080x432 with 1 Axes>"
      ]
     },
     "metadata": {
      "needs_background": "light"
     },
     "output_type": "display_data"
    }
   ],
   "source": [
    "pd.concat({'data': y, 'pred': feature_forecast}, axis=1).plot()\n",
    "plt.show()"
   ]
  },
  {
   "cell_type": "code",
   "execution_count": null,
   "id": "92a6e3a6",
   "metadata": {},
   "outputs": [],
   "source": []
  }
 ],
 "metadata": {
  "kernelspec": {
   "display_name": "Python 3",
   "language": "python",
   "name": "python3"
  },
  "language_info": {
   "codemirror_mode": {
    "name": "ipython",
    "version": 3
   },
   "file_extension": ".py",
   "mimetype": "text/x-python",
   "name": "python",
   "nbconvert_exporter": "python",
   "pygments_lexer": "ipython3",
   "version": "3.8.8"
  }
 },
 "nbformat": 4,
 "nbformat_minor": 5
}

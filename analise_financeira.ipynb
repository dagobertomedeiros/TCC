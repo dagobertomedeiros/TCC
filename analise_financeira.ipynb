{
 "cells": [
  {
   "cell_type": "code",
   "execution_count": 1,
   "id": "07283c94",
   "metadata": {},
   "outputs": [],
   "source": [
    "import pandas as pd\n",
    "import numpy as np\n",
    "from pandas_datareader import data as wb\n",
    "import matplotlib.pyplot as plt\n",
    "from sklearn.preprocessing import MinMaxScaler\n",
    "from statsmodels.tsa.seasonal import seasonal_decompose\n",
    "from statsmodels.tsa.seasonal import STL\n",
    "from statsmodels.tsa.stattools import adfuller\n",
    "from matplotlib.pylab import rcParams\n",
    "import time\n",
    "rcParams['figure.figsize'] = 15, 6"
   ]
  },
  {
   "cell_type": "code",
   "execution_count": 2,
   "id": "229bb144",
   "metadata": {},
   "outputs": [],
   "source": [
    "#data = wb.DataReader('PETR4.SA', data_source='yahoo', start='2000-1-1')"
   ]
  },
  {
   "cell_type": "code",
   "execution_count": 3,
   "id": "77ae061e",
   "metadata": {},
   "outputs": [],
   "source": [
    "#sheet = pd.read_excel('EMPRESAS_B3_09-07-21.xlsx', sheet_name='Página1')"
   ]
  },
  {
   "cell_type": "code",
   "execution_count": 4,
   "id": "dc5a1e95",
   "metadata": {},
   "outputs": [],
   "source": [
    "sheet = pd.read_excel('LISTA_EMPRESAS_SELECIONADAS.xlsx', sheet_name='Planilha1')"
   ]
  },
  {
   "cell_type": "code",
   "execution_count": 5,
   "id": "d53cf0d6",
   "metadata": {},
   "outputs": [],
   "source": [
    "list_df = []\n",
    "list_error = []"
   ]
  },
  {
   "cell_type": "code",
   "execution_count": 6,
   "id": "2b2827f0",
   "metadata": {},
   "outputs": [
    {
     "data": {
      "text/plain": [
       "133"
      ]
     },
     "execution_count": 6,
     "metadata": {},
     "output_type": "execute_result"
    }
   ],
   "source": [
    "tikers = sheet['Ticker']\n",
    "len(tikers)"
   ]
  },
  {
   "cell_type": "markdown",
   "id": "a0b5a5f1",
   "metadata": {},
   "source": [
    "#### Coletando os dados na api"
   ]
  },
  {
   "cell_type": "code",
   "execution_count": 7,
   "id": "7c69e7b9",
   "metadata": {},
   "outputs": [],
   "source": [
    "for tik in tikers:\n",
    "    try:\n",
    "        list_df.append(wb.get_data_yahoo(str(tik), start='2000-1-1', end='2021-10-31' , interval=\"m\"))\n",
    "        list_df[len(list_df)-1]['Ticker'] = tik\n",
    "        if len(list_df[-1]) < 36:\n",
    "            list_df.pop(-1)\n",
    "        elif list_df[-1]['Volume'][-36:len(list_df[-1])-1].mean() < 20_000_000.00:\n",
    "            list_df.pop(-1)\n",
    "    except:\n",
    "        list_error.append(tik)\n",
    "        pass"
   ]
  },
  {
   "cell_type": "code",
   "execution_count": 8,
   "id": "3a4a1f40",
   "metadata": {},
   "outputs": [],
   "source": [
    "#removendo valores zerados e ausentes\n",
    "for i in range(0, len(list_df)):\n",
    "    try:\n",
    "        list_df[i].replace(0, np.nan, inplace=True)\n",
    "        list_df[i] = list_df[i].dropna()\n",
    "        list_df[i] = list_df[i].fillna(method='ffill')\n",
    "    except:\n",
    "        pass"
   ]
  },
  {
   "cell_type": "code",
   "execution_count": 9,
   "id": "ca179d9a",
   "metadata": {},
   "outputs": [],
   "source": [
    "#adicionando coluna de Var percentual\n",
    "for i in range(0, len(list_df)):\n",
    "    list_df[i]['Var'] = ((list_df[i].loc[:, 'Close']/list_df[i].loc[:, 'Open']) - 1.0) * 100.0"
   ]
  },
  {
   "cell_type": "code",
   "execution_count": 10,
   "id": "0b3bfaae",
   "metadata": {},
   "outputs": [],
   "source": [
    "#adicionando coluna de media\n",
    "#for i in range(0, len(list_df)):\n",
    "#    list_df[i]['Avg'] = ((list_df[i].loc[:, 'High']+list_df[i].loc[:, 'Low']) / 2.0)"
   ]
  },
  {
   "cell_type": "code",
   "execution_count": 10,
   "id": "c7b795be",
   "metadata": {},
   "outputs": [],
   "source": [
    "def define_category(num_perc: list):\n",
    "    \"\"\"\n",
    "    Função que cria categorias de variação percentual, indo de valores negativos a positivos, passando por zero,\n",
    "    que seria o estado onde não houve alterações no preço da ação no período analisado.\n",
    "    \"\"\"\n",
    "    array = []\n",
    "    for i in num_perc:\n",
    "        if i == 0:\n",
    "            array.append(0)\n",
    "        elif i > 0 and i <= 2:\n",
    "            array.append(2)\n",
    "        elif i > 2 and i <= 4:\n",
    "            array.append(4)\n",
    "        elif i > 4 and i <= 6:\n",
    "            array.append(6)\n",
    "        elif i > 6 and i <= 8:\n",
    "            array.append(8)\n",
    "        elif i > 8:\n",
    "            array.append(10)\n",
    "        elif i < 0 and i >= -2:\n",
    "            array.append(-2)\n",
    "        elif i < -2 and i >= -4:\n",
    "            array.append(-4)\n",
    "        elif i < -4 and i >= -6:\n",
    "            array.append(-6)\n",
    "        elif i < 6 and i >= -8:\n",
    "            array.append(-8)\n",
    "        elif i < -8:\n",
    "            array.append(-10)\n",
    "    return array"
   ]
  },
  {
   "cell_type": "code",
   "execution_count": 11,
   "id": "af6ca4c2",
   "metadata": {},
   "outputs": [
    {
     "data": {
      "text/plain": [
       "166"
      ]
     },
     "execution_count": 11,
     "metadata": {},
     "output_type": "execute_result"
    }
   ],
   "source": [
    "len((list_df[1].loc[:, 'Var'].values))"
   ]
  },
  {
   "cell_type": "code",
   "execution_count": 12,
   "id": "e0abe57c",
   "metadata": {},
   "outputs": [
    {
     "data": {
      "text/plain": [
       "166"
      ]
     },
     "execution_count": 12,
     "metadata": {},
     "output_type": "execute_result"
    }
   ],
   "source": [
    "temp = define_category(list_df[1].loc[:, 'Var'].values)\n",
    "len(temp)"
   ]
  },
  {
   "cell_type": "code",
   "execution_count": 13,
   "id": "ddf767c7",
   "metadata": {},
   "outputs": [],
   "source": [
    "#definicao de pesos\n",
    "for i in range(0, len(list_df)):\n",
    "    list_df[i]['Category'] = define_category(list_df[i].loc[:, 'Var'].values)"
   ]
  },
  {
   "cell_type": "code",
   "execution_count": 14,
   "id": "287d8a4f",
   "metadata": {},
   "outputs": [],
   "source": [
    "#ordenando indices\n",
    "for i in range(0, len(list_df)):\n",
    "    list_df[i].sort_index()"
   ]
  },
  {
   "cell_type": "code",
   "execution_count": 15,
   "id": "b846b787",
   "metadata": {},
   "outputs": [],
   "source": [
    "df_concat = pd.DataFrame()\n",
    "df_concat = list_df[0]"
   ]
  },
  {
   "cell_type": "code",
   "execution_count": 16,
   "id": "e75219e2",
   "metadata": {},
   "outputs": [],
   "source": [
    "#exportando excel\n",
    "for i in range(1, len(list_df)):\n",
    "    df_concat = pd.concat([df_concat, list_df[i]])\n",
    "df_concat.to_excel('dados_var_b3_22-11-21.xlsx')"
   ]
  },
  {
   "cell_type": "markdown",
   "id": "f09d8176",
   "metadata": {},
   "source": [
    "### Importando dados do excel"
   ]
  },
  {
   "cell_type": "code",
   "execution_count": 2,
   "id": "c7e96c89",
   "metadata": {},
   "outputs": [],
   "source": [
    "dfExcel = pd.read_excel('dados_b3.xlsx', index_col='Date', parse_dates=['Date'])"
   ]
  },
  {
   "cell_type": "code",
   "execution_count": 3,
   "id": "537a06c1",
   "metadata": {
    "scrolled": true
   },
   "outputs": [
    {
     "data": {
      "text/plain": [
       "'ABEV3.SA'"
      ]
     },
     "execution_count": 3,
     "metadata": {},
     "output_type": "execute_result"
    }
   ],
   "source": [
    "df1 = dfExcel['Ticker'].unique()\n",
    "df1[0]"
   ]
  },
  {
   "cell_type": "code",
   "execution_count": 4,
   "id": "17c2e0eb",
   "metadata": {},
   "outputs": [
    {
     "data": {
      "text/html": [
       "<div>\n",
       "<style scoped>\n",
       "    .dataframe tbody tr th:only-of-type {\n",
       "        vertical-align: middle;\n",
       "    }\n",
       "\n",
       "    .dataframe tbody tr th {\n",
       "        vertical-align: top;\n",
       "    }\n",
       "\n",
       "    .dataframe thead th {\n",
       "        text-align: right;\n",
       "    }\n",
       "</style>\n",
       "<table border=\"1\" class=\"dataframe\">\n",
       "  <thead>\n",
       "    <tr style=\"text-align: right;\">\n",
       "      <th></th>\n",
       "      <th>High</th>\n",
       "      <th>Low</th>\n",
       "      <th>Open</th>\n",
       "      <th>Close</th>\n",
       "      <th>Volume</th>\n",
       "      <th>Adj Close</th>\n",
       "      <th>Ticker</th>\n",
       "      <th>Avg</th>\n",
       "      <th>Var</th>\n",
       "      <th>Bin_var</th>\n",
       "      <th>Unnamed: 11</th>\n",
       "      <th>Unnamed: 12</th>\n",
       "    </tr>\n",
       "    <tr>\n",
       "      <th>Date</th>\n",
       "      <th></th>\n",
       "      <th></th>\n",
       "      <th></th>\n",
       "      <th></th>\n",
       "      <th></th>\n",
       "      <th></th>\n",
       "      <th></th>\n",
       "      <th></th>\n",
       "      <th></th>\n",
       "      <th></th>\n",
       "      <th></th>\n",
       "      <th></th>\n",
       "    </tr>\n",
       "  </thead>\n",
       "  <tbody>\n",
       "    <tr>\n",
       "      <th>2008-02-01</th>\n",
       "      <td>3.486100</td>\n",
       "      <td>3.035311</td>\n",
       "      <td>3.450037</td>\n",
       "      <td>3.149511</td>\n",
       "      <td>13296685</td>\n",
       "      <td>2.240382</td>\n",
       "      <td>ALPA4.SA</td>\n",
       "      <td>3.260705</td>\n",
       "      <td>-8.710802</td>\n",
       "      <td>-1</td>\n",
       "      <td>NaN</td>\n",
       "      <td>NaN</td>\n",
       "    </tr>\n",
       "    <tr>\n",
       "      <th>2008-03-01</th>\n",
       "      <td>3.365890</td>\n",
       "      <td>2.976108</td>\n",
       "      <td>3.149511</td>\n",
       "      <td>3.215326</td>\n",
       "      <td>8332053</td>\n",
       "      <td>2.287200</td>\n",
       "      <td>ALPA4.SA</td>\n",
       "      <td>3.170999</td>\n",
       "      <td>2.089689</td>\n",
       "      <td>1</td>\n",
       "      <td>NaN</td>\n",
       "      <td>NaN</td>\n",
       "    </tr>\n",
       "    <tr>\n",
       "      <th>2008-04-01</th>\n",
       "      <td>3.275732</td>\n",
       "      <td>2.886551</td>\n",
       "      <td>3.275732</td>\n",
       "      <td>3.035311</td>\n",
       "      <td>6139231</td>\n",
       "      <td>2.159148</td>\n",
       "      <td>ALPA4.SA</td>\n",
       "      <td>3.081141</td>\n",
       "      <td>-7.339460</td>\n",
       "      <td>-1</td>\n",
       "      <td>NaN</td>\n",
       "      <td>NaN</td>\n",
       "    </tr>\n",
       "    <tr>\n",
       "      <th>2008-05-01</th>\n",
       "      <td>3.816679</td>\n",
       "      <td>3.035311</td>\n",
       "      <td>3.035311</td>\n",
       "      <td>3.771600</td>\n",
       "      <td>4455518</td>\n",
       "      <td>2.682901</td>\n",
       "      <td>ALPA4.SA</td>\n",
       "      <td>3.425995</td>\n",
       "      <td>24.257449</td>\n",
       "      <td>1</td>\n",
       "      <td>NaN</td>\n",
       "      <td>NaN</td>\n",
       "    </tr>\n",
       "    <tr>\n",
       "      <th>2008-06-01</th>\n",
       "      <td>3.786626</td>\n",
       "      <td>2.945154</td>\n",
       "      <td>3.786626</td>\n",
       "      <td>3.005259</td>\n",
       "      <td>3560418</td>\n",
       "      <td>2.137770</td>\n",
       "      <td>ALPA4.SA</td>\n",
       "      <td>3.365890</td>\n",
       "      <td>-20.634915</td>\n",
       "      <td>-1</td>\n",
       "      <td>NaN</td>\n",
       "      <td>NaN</td>\n",
       "    </tr>\n",
       "    <tr>\n",
       "      <th>...</th>\n",
       "      <td>...</td>\n",
       "      <td>...</td>\n",
       "      <td>...</td>\n",
       "      <td>...</td>\n",
       "      <td>...</td>\n",
       "      <td>...</td>\n",
       "      <td>...</td>\n",
       "      <td>...</td>\n",
       "      <td>...</td>\n",
       "      <td>...</td>\n",
       "      <td>...</td>\n",
       "      <td>...</td>\n",
       "    </tr>\n",
       "    <tr>\n",
       "      <th>2021-06-01</th>\n",
       "      <td>51.490002</td>\n",
       "      <td>46.369999</td>\n",
       "      <td>47.290001</td>\n",
       "      <td>50.189999</td>\n",
       "      <td>32037100</td>\n",
       "      <td>50.189999</td>\n",
       "      <td>ALPA4.SA</td>\n",
       "      <td>48.930000</td>\n",
       "      <td>6.132370</td>\n",
       "      <td>1</td>\n",
       "      <td>NaN</td>\n",
       "      <td>NaN</td>\n",
       "    </tr>\n",
       "    <tr>\n",
       "      <th>2021-07-01</th>\n",
       "      <td>53.970001</td>\n",
       "      <td>49.349998</td>\n",
       "      <td>51.419998</td>\n",
       "      <td>51.459999</td>\n",
       "      <td>35701000</td>\n",
       "      <td>51.459999</td>\n",
       "      <td>ALPA4.SA</td>\n",
       "      <td>51.660000</td>\n",
       "      <td>0.077793</td>\n",
       "      <td>1</td>\n",
       "      <td>NaN</td>\n",
       "      <td>NaN</td>\n",
       "    </tr>\n",
       "    <tr>\n",
       "      <th>2021-08-01</th>\n",
       "      <td>62.330002</td>\n",
       "      <td>52.299999</td>\n",
       "      <td>52.299999</td>\n",
       "      <td>59.970001</td>\n",
       "      <td>58686000</td>\n",
       "      <td>59.970001</td>\n",
       "      <td>ALPA4.SA</td>\n",
       "      <td>57.315001</td>\n",
       "      <td>14.665396</td>\n",
       "      <td>1</td>\n",
       "      <td>NaN</td>\n",
       "      <td>NaN</td>\n",
       "    </tr>\n",
       "    <tr>\n",
       "      <th>2021-09-01</th>\n",
       "      <td>62.270000</td>\n",
       "      <td>52.009998</td>\n",
       "      <td>60.299999</td>\n",
       "      <td>52.799999</td>\n",
       "      <td>50487400</td>\n",
       "      <td>52.799999</td>\n",
       "      <td>ALPA4.SA</td>\n",
       "      <td>57.139999</td>\n",
       "      <td>-12.437811</td>\n",
       "      <td>-1</td>\n",
       "      <td>NaN</td>\n",
       "      <td>NaN</td>\n",
       "    </tr>\n",
       "    <tr>\n",
       "      <th>2021-10-01</th>\n",
       "      <td>53.730000</td>\n",
       "      <td>42.000000</td>\n",
       "      <td>52.610001</td>\n",
       "      <td>43.650002</td>\n",
       "      <td>40682900</td>\n",
       "      <td>43.650002</td>\n",
       "      <td>ALPA4.SA</td>\n",
       "      <td>47.865000</td>\n",
       "      <td>-17.030981</td>\n",
       "      <td>-1</td>\n",
       "      <td>NaN</td>\n",
       "      <td>NaN</td>\n",
       "    </tr>\n",
       "  </tbody>\n",
       "</table>\n",
       "<p>165 rows × 12 columns</p>\n",
       "</div>"
      ],
      "text/plain": [
       "                 High        Low       Open      Close    Volume  Adj Close  \\\n",
       "Date                                                                          \n",
       "2008-02-01   3.486100   3.035311   3.450037   3.149511  13296685   2.240382   \n",
       "2008-03-01   3.365890   2.976108   3.149511   3.215326   8332053   2.287200   \n",
       "2008-04-01   3.275732   2.886551   3.275732   3.035311   6139231   2.159148   \n",
       "2008-05-01   3.816679   3.035311   3.035311   3.771600   4455518   2.682901   \n",
       "2008-06-01   3.786626   2.945154   3.786626   3.005259   3560418   2.137770   \n",
       "...               ...        ...        ...        ...       ...        ...   \n",
       "2021-06-01  51.490002  46.369999  47.290001  50.189999  32037100  50.189999   \n",
       "2021-07-01  53.970001  49.349998  51.419998  51.459999  35701000  51.459999   \n",
       "2021-08-01  62.330002  52.299999  52.299999  59.970001  58686000  59.970001   \n",
       "2021-09-01  62.270000  52.009998  60.299999  52.799999  50487400  52.799999   \n",
       "2021-10-01  53.730000  42.000000  52.610001  43.650002  40682900  43.650002   \n",
       "\n",
       "              Ticker        Avg        Var  Bin_var  Unnamed: 11  Unnamed: 12  \n",
       "Date                                                                           \n",
       "2008-02-01  ALPA4.SA   3.260705  -8.710802       -1          NaN          NaN  \n",
       "2008-03-01  ALPA4.SA   3.170999   2.089689        1          NaN          NaN  \n",
       "2008-04-01  ALPA4.SA   3.081141  -7.339460       -1          NaN          NaN  \n",
       "2008-05-01  ALPA4.SA   3.425995  24.257449        1          NaN          NaN  \n",
       "2008-06-01  ALPA4.SA   3.365890 -20.634915       -1          NaN          NaN  \n",
       "...              ...        ...        ...      ...          ...          ...  \n",
       "2021-06-01  ALPA4.SA  48.930000   6.132370        1          NaN          NaN  \n",
       "2021-07-01  ALPA4.SA  51.660000   0.077793        1          NaN          NaN  \n",
       "2021-08-01  ALPA4.SA  57.315001  14.665396        1          NaN          NaN  \n",
       "2021-09-01  ALPA4.SA  57.139999 -12.437811       -1          NaN          NaN  \n",
       "2021-10-01  ALPA4.SA  47.865000 -17.030981       -1          NaN          NaN  \n",
       "\n",
       "[165 rows x 12 columns]"
      ]
     },
     "execution_count": 4,
     "metadata": {},
     "output_type": "execute_result"
    }
   ],
   "source": [
    "teste = dfExcel[(dfExcel['Ticker'] == df1[1])]\n",
    "teste"
   ]
  },
  {
   "cell_type": "markdown",
   "id": "ac2eb4e8",
   "metadata": {},
   "source": [
    "### Etapas do processo\n",
    "##### 1 - Função para devolver a serie com média móvel, função tem como parâmetro a serie e a janela \n",
    "##### 2 - Função para testar e transformar serie em estacionária, devolve uma ts estacionária\n",
    "##### 3 - Aqui o bicho pega - identificar sazonalidade e tendência, qualificar isso\n",
    "##### 4 - A partir dos dados qualificados, fazer previsão e testar sim ou não, parâmetro bool"
   ]
  },
  {
   "cell_type": "code",
   "execution_count": 17,
   "id": "226e272e",
   "metadata": {},
   "outputs": [],
   "source": [
    "def generete_ts_moving_avarege(ts : pd.Series, window : int):\n",
    "    \"\"\"Retorna uma serie temporal de média móvel com valores ausentes removidos\"\"\"\n",
    "    ts = ts.rolling(window=window).mean()\n",
    "    ts.dropna(inplace=True)\n",
    "    return ts"
   ]
  },
  {
   "cell_type": "code",
   "execution_count": 18,
   "id": "1bc66816",
   "metadata": {},
   "outputs": [],
   "source": [
    "def test_and_transform_stationary_ts(ts : pd.Series):\n",
    "    \"\"\"Recebe uma série temporal, testa e se preciso transforma e devolve uma serie estacionária. Retorna None em caso de falha\"\"\"\n",
    "    adfuller_ts = adfuller(ts, autolag='AIC')\n",
    "    if adfuller_ts[1] < 0.05:\n",
    "        return ts\n",
    "    else:\n",
    "        ts_log1 = np.log(ts)\n",
    "        adfuller_ts_log1 = adfuller(ts_log1, autolag='AIC')\n",
    "        if adfuller_ts_log1[1] < 0.05:\n",
    "            return ts_log1\n",
    "        else:\n",
    "            ts_log2 = np.log(ts_log1)\n",
    "            adfuller_ts_log2 = adfuller(ts_log2, autolag='AIC')\n",
    "            if adfuller_ts_log2[1] < 0.05:\n",
    "                return ts_log2\n",
    "            else:\n",
    "                ts_log3 = np.log(ts_log2)\n",
    "                adfuller_ts_log3 = adfuller(ts_log3, autolag='AIC')\n",
    "                if adfuller_ts_log3[1] < 0.05:\n",
    "                    return ts_log3\n",
    "                else:\n",
    "                    return"
   ]
  },
  {
   "cell_type": "code",
   "execution_count": 19,
   "id": "65d89825",
   "metadata": {},
   "outputs": [],
   "source": [
    "def components_seasonal_trend_resid_STL(ts : pd.Series):\n",
    "    \"\"\"\n",
    "    Retorna uma tupla com os componentes isolados, sazonalidade, tendencia e residuo.\n",
    "    Metodo STL.\n",
    "    \"\"\"\n",
    "    ts = ts.set_index(['Date'])\n",
    "    ts = ts.fillna(method='ffill')\n",
    "    ts = ts.asfreq('MS')\n",
    "    result = STL(ts, robust=True, period=12).fit()\n",
    "    return (result.seasonal, result.trend, result.resid)"
   ]
  },
  {
   "cell_type": "code",
   "execution_count": 20,
   "id": "2357f7c7",
   "metadata": {},
   "outputs": [],
   "source": [
    "def components_seasonal_trend_resid_classic(ts : pd.Series, freq : int):\n",
    "    \"\"\"\n",
    "    Retorna uma tupla com os componentes isolados, sazonalidade, tendencia e residuo.\n",
    "    Metodo classico.\n",
    "    \"\"\"\n",
    "    ts.sort_index(inplace=True)\n",
    "    result = seasonal_decompose(ts, freq=freq, model='aditive')\n",
    "    return (result.seasonal, result.trend, result.resid)"
   ]
  },
  {
   "cell_type": "code",
   "execution_count": 21,
   "id": "7e4100a1",
   "metadata": {},
   "outputs": [],
   "source": [
    "def seasonality_trend_rate(ts : tuple):\n",
    "    \"\"\"\n",
    "    Recebe uma tupla com listas com os valores isolados de sazonalidade, tendencia e residuo, \n",
    "    e retorna um dict com a media da avaliação da força destes.\n",
    "    \"\"\"\n",
    "    max_seazonal = (0.1 - (ts[2]/(ts[0] + ts[2])))\n",
    "    max_seazonal.mean()\n",
    "    max_trend = (0.1 - (ts[2]/(ts[1] + ts[2])))\n",
    "    max_trend.mean()\n",
    "    return {'max_seazonal': max_seazonal.mean(),\n",
    "            'max_trend': max_trend.mean()}\n"
   ]
  },
  {
   "cell_type": "code",
   "execution_count": 22,
   "id": "33e9546e",
   "metadata": {},
   "outputs": [],
   "source": [
    "def separate_analisys_test(ts: pd.Series, period_test: int):\n",
    "    \"\"\"\n",
    "    Separa a série temporal em 2 grupos, o primeiro com os dados a serem analisados para identificação dos padrões,\n",
    "    o segundo grupo deverá ter os últimos 12 meses para validação dos padrões identificados.\n",
    "    \"\"\"\n",
    "    ts_analisys = ts[:len(ts) - (period_test + 1)]\n",
    "    ts_test = ts[len(ts) - period_test:]\n",
    "    return ts_analisys, ts_test"
   ]
  },
  {
   "cell_type": "code",
   "execution_count": 27,
   "id": "e71a6e57",
   "metadata": {},
   "outputs": [],
   "source": [
    "import datetime"
   ]
  },
  {
   "cell_type": "code",
   "execution_count": 26,
   "id": "950f4344",
   "metadata": {},
   "outputs": [
    {
     "name": "stdout",
     "output_type": "stream",
     "text": [
      "1\n"
     ]
    }
   ],
   "source": [
    "a = '2021-01'\n",
    "d = datetime.datetime.strptime(a, \"%Y-%m\")\n",
    "print(d.month)"
   ]
  },
  {
   "cell_type": "code",
   "execution_count": 142,
   "id": "9aebcd43",
   "metadata": {},
   "outputs": [],
   "source": [
    "def find_paterns(ts: pd.Series, period: int):\n",
    "    \"\"\"\n",
    "    Identifica os padrões sazonais.\n",
    "    \"\"\"\n",
    "    remainder = len(ts) % period\n",
    "    ts = ts[remainder:]\n",
    "    #cicles = len(ts) / period\n",
    "    period_n = []\n",
    "    vlr_n = []\n",
    "    weight_n = []\n",
    "    \n",
    "    for i in range(0, period):#iniciando arrays de zeros\n",
    "        vlr_n.append([])\n",
    "        period_n.append(0)\n",
    "        weight_n.append(0)\n",
    "            \n",
    "    for i in range(0, len(ts)):\n",
    "        month = pd.to_datetime(ts.index[i], '%Y-%m-%d %H:%M:%S')\n",
    "        for count in range(0, period):\n",
    "            #month = pd.to_datetime(ts.index[count], '%Y-%m-%d %H:%M:%S')\n",
    "            #print('month.month -> ', month.month, 'count+1 -> ', count+1)\n",
    "            if month.month == count+1:\n",
    "                #print('ok if 1')\n",
    "                period_n[count] = count+1\n",
    "                vlr_n[count].append(ts.values[i])\n",
    "                #print('period_n[count] -> ', period_n[count], 'vlr_n[count] -> ', vlr_n[count]  )\n",
    "                if len(vlr_n[count]) > 1:\n",
    "                    #print('if 2 ok')\n",
    "                    if ((ts.values[i] != 0.0 and ts.values[i] >= 6.0) \n",
    "                        and (ts.values[i] - vlr_n[count][len(vlr_n[count])-1] <= 1.0\n",
    "                        or ts.values[i] - vlr_n[count][len(vlr_n[count])-1] >= -1.0)):\n",
    "                        print('ts.values[i] -> ', ts.values[i], 'i -> ', i, 'vlr_n[count][len(vlr_n[count])-1] -> ', \n",
    "                              vlr_n[count][len(vlr_n[count])-1])\n",
    "                        #print('if 2.1 ok')\n",
    "                        weight_n[count] = weight_n[count] + 3\n",
    "                    elif ((ts.values[i] != 0.0 and ts.values[i] <= -6.0) \n",
    "                          and (ts.values[i] - vlr_n[count][len(vlr_n[count])-1] <= 1.0\n",
    "                          or ts.values[i] - vlr_n[count][len(vlr_n[count])-1] >= -1.0)):\n",
    "                        print('ts.values[i] -> ', ts.values[i], 'i -> ', i, 'vlr_n[count][len(vlr_n[count])-1] -> ', \n",
    "                              vlr_n[count][len(vlr_n[count])-1])\n",
    "                        #print('if 2.1 ok')\n",
    "                        weight_n[count] = weight_n[count] + 3    \n",
    "                        \n",
    "                    elif ((ts.values[i] != 0.0 and ts.values[i] >= 4.0)  \n",
    "                          and (ts.values[i] - vlr_n[count][len(vlr_n[count])-1] <= 2.0\n",
    "                          or ts.values[i] - vlr_n[count][len(vlr_n[count])-1] >= -2.0)):\n",
    "                        print('if 2.2 ok')\n",
    "                        weight_n[count] = weight_n[count] + 2\n",
    "                    elif ((ts.values[i] != 0.0 and ts.values[i] <= -4.0)  \n",
    "                          and (ts.values[i] - vlr_n[count][len(vlr_n[count])-1] <= 2.0\n",
    "                          or ts.values[i] - vlr_n[count][len(vlr_n[count])-1] >= -2.0)):\n",
    "                        print('if 2.2 ok')\n",
    "                        weight_n[count] = weight_n[count] + 2\n",
    "                        \n",
    "                        \n",
    "                    elif ((ts.values[i] != 0.0 and ts.values[i] >= 2.0) \n",
    "                          and (ts.values[i] - vlr_n[count][len(vlr_n[count])-1] <= 3.0\n",
    "                          or ts.values[i] - vlr_n[count][len(vlr_n[count])-1] >= -3.0)):\n",
    "                        print('if 2.3 ok')\n",
    "                        weight_n[count] = weight_n[count] - 2\n",
    "                    elif ((ts.values[i] != 0.0 and ts.values[i] <= -2.0) \n",
    "                          and (ts.values[i] - vlr_n[count][len(vlr_n[count])-1] <= 3.0\n",
    "                          or ts.values[i] - vlr_n[count][len(vlr_n[count])-1] >= -3.0)):\n",
    "                        print('if 2.3 ok')\n",
    "                        weight_n[count] = weight_n[count] - 2\n",
    "                        \n",
    "                    else:\n",
    "                        print('if 2.4 ok')\n",
    "                        weight_n[count] = weight_n[count] - 4\n",
    "                else:\n",
    "                    print('if 3 ok')\n",
    "                    weight_n[count] = 0\n",
    "    return period_n, vlr_n, weight_n"
   ]
  },
  {
   "cell_type": "code",
   "execution_count": 29,
   "id": "eb6c3c80",
   "metadata": {},
   "outputs": [
    {
     "data": {
      "text/plain": [
       "2"
      ]
     },
     "execution_count": 29,
     "metadata": {},
     "output_type": "execute_result"
    }
   ],
   "source": [
    "timestamp = pd.to_datetime(list_df[0]['Var'].index)\n",
    "timestamp[0].month"
   ]
  },
  {
   "cell_type": "code",
   "execution_count": 30,
   "id": "48634037",
   "metadata": {
    "scrolled": true
   },
   "outputs": [
    {
     "data": {
      "text/plain": [
       "3"
      ]
     },
     "execution_count": 30,
     "metadata": {},
     "output_type": "execute_result"
    }
   ],
   "source": [
    "month = datetime.datetime.strptime(str(timestamp[1]), '%Y-%m-%d %H:%M:%S')\n",
    "month.month"
   ]
  },
  {
   "cell_type": "code",
   "execution_count": 151,
   "id": "5ccfb582",
   "metadata": {},
   "outputs": [
    {
     "name": "stdout",
     "output_type": "stream",
     "text": [
      "if 3 ok\n",
      "if 3 ok\n",
      "if 3 ok\n",
      "if 3 ok\n",
      "if 3 ok\n",
      "if 3 ok\n",
      "if 3 ok\n",
      "if 3 ok\n",
      "if 3 ok\n",
      "if 3 ok\n",
      "if 3 ok\n",
      "if 3 ok\n",
      "if 2.4 ok\n",
      "if 2.2 ok\n",
      "ts.values[i] ->  15.555557096847373 i ->  14 vlr_n[count][len(vlr_n[count])-1] ->  15.555557096847373\n",
      "if 2.4 ok\n",
      "ts.values[i] ->  -6.810897269349292 i ->  16 vlr_n[count][len(vlr_n[count])-1] ->  -6.810897269349292\n",
      "if 2.3 ok\n",
      "ts.values[i] ->  -10.169491525423723 i ->  18 vlr_n[count][len(vlr_n[count])-1] ->  -10.169491525423723\n",
      "ts.values[i] ->  -15.63981042654028 i ->  19 vlr_n[count][len(vlr_n[count])-1] ->  -15.63981042654028\n",
      "ts.values[i] ->  7.309489087346566 i ->  20 vlr_n[count][len(vlr_n[count])-1] ->  7.309489087346566\n",
      "ts.values[i] ->  -16.666666666666664 i ->  21 vlr_n[count][len(vlr_n[count])-1] ->  -16.666666666666664\n",
      "ts.values[i] ->  8.150825323387956 i ->  22 vlr_n[count][len(vlr_n[count])-1] ->  8.150825323387956\n",
      "if 2.4 ok\n",
      "ts.values[i] ->  7.9754551932226025 i ->  24 vlr_n[count][len(vlr_n[count])-1] ->  7.9754551932226025\n",
      "if 2.4 ok\n",
      "ts.values[i] ->  -9.106458630767323 i ->  26 vlr_n[count][len(vlr_n[count])-1] ->  -9.106458630767323\n",
      "ts.values[i] ->  10.413045468537696 i ->  27 vlr_n[count][len(vlr_n[count])-1] ->  10.413045468537696\n",
      "if 2.3 ok\n",
      "if 2.2 ok\n",
      "if 2.3 ok\n",
      "ts.values[i] ->  8.007117329022329 i ->  31 vlr_n[count][len(vlr_n[count])-1] ->  8.007117329022329\n",
      "ts.values[i] ->  14.2608642578125 i ->  32 vlr_n[count][len(vlr_n[count])-1] ->  14.2608642578125\n",
      "if 2.4 ok\n",
      "if 2.4 ok\n",
      "if 2.3 ok\n",
      "ts.values[i] ->  15.205477361809727 i ->  36 vlr_n[count][len(vlr_n[count])-1] ->  15.205477361809727\n",
      "if 2.3 ok\n",
      "if 2.2 ok\n",
      "if 2.3 ok\n",
      "ts.values[i] ->  -12.253377650897612 i ->  40 vlr_n[count][len(vlr_n[count])-1] ->  -12.253377650897612\n",
      "ts.values[i] ->  -6.947979348243316 i ->  41 vlr_n[count][len(vlr_n[count])-1] ->  -6.947979348243316\n",
      "if 2.3 ok\n",
      "if 2.4 ok\n",
      "if 2.2 ok\n",
      "ts.values[i] ->  13.956040602463936 i ->  45 vlr_n[count][len(vlr_n[count])-1] ->  13.956040602463936\n",
      "if 2.3 ok\n",
      "if 2.4 ok\n",
      "if 2.4 ok\n",
      "if 2.3 ok\n",
      "ts.values[i] ->  18.802617574570558 i ->  50 vlr_n[count][len(vlr_n[count])-1] ->  18.802617574570558\n",
      "if 2.3 ok\n",
      "ts.values[i] ->  -9.663865546218487 i ->  52 vlr_n[count][len(vlr_n[count])-1] ->  -9.663865546218487\n",
      "if 2.2 ok\n",
      "if 2.2 ok\n",
      "if 2.3 ok\n",
      "ts.values[i] ->  16.035898580188366 i ->  56 vlr_n[count][len(vlr_n[count])-1] ->  16.035898580188366\n",
      "ts.values[i] ->  8.344544675083299 i ->  57 vlr_n[count][len(vlr_n[count])-1] ->  8.344544675083299\n",
      "ts.values[i] ->  -11.428567637567932 i ->  58 vlr_n[count][len(vlr_n[count])-1] ->  -11.428567637567932\n",
      "if 2.2 ok\n",
      "ts.values[i] ->  9.840427960352315 i ->  60 vlr_n[count][len(vlr_n[count])-1] ->  9.840427960352315\n",
      "ts.values[i] ->  22.19858051775454 i ->  61 vlr_n[count][len(vlr_n[count])-1] ->  22.19858051775454\n",
      "if 2.2 ok\n",
      "if 2.4 ok\n",
      "ts.values[i] ->  9.182356568366368 i ->  64 vlr_n[count][len(vlr_n[count])-1] ->  9.182356568366368\n",
      "if 2.3 ok\n",
      "if 2.3 ok\n",
      "if 2.3 ok\n",
      "if 2.2 ok\n",
      "if 2.2 ok\n",
      "if 2.2 ok\n",
      "ts.values[i] ->  8.487559712673187 i ->  71 vlr_n[count][len(vlr_n[count])-1] ->  8.487559712673187\n",
      "ts.values[i] ->  6.634057349458677 i ->  72 vlr_n[count][len(vlr_n[count])-1] ->  6.634057349458677\n",
      "if 2.2 ok\n",
      "ts.values[i] ->  -9.357837385362167 i ->  74 vlr_n[count][len(vlr_n[count])-1] ->  -9.357837385362167\n",
      "ts.values[i] ->  9.410024691875885 i ->  75 vlr_n[count][len(vlr_n[count])-1] ->  9.410024691875885\n",
      "if 2.4 ok\n",
      "if 2.4 ok\n",
      "ts.values[i] ->  11.961902436755945 i ->  78 vlr_n[count][len(vlr_n[count])-1] ->  11.961902436755945\n",
      "if 2.3 ok\n",
      "if 2.4 ok\n",
      "ts.values[i] ->  13.606562379930832 i ->  81 vlr_n[count][len(vlr_n[count])-1] ->  13.606562379930832\n",
      "ts.values[i] ->  19.6242809681217 i ->  82 vlr_n[count][len(vlr_n[count])-1] ->  19.6242809681217\n",
      "if 2.2 ok\n",
      "ts.values[i] ->  20.68965517241379 i ->  84 vlr_n[count][len(vlr_n[count])-1] ->  20.68965517241379\n",
      "ts.values[i] ->  -8.19047473725818 i ->  85 vlr_n[count][len(vlr_n[count])-1] ->  -8.19047473725818\n",
      "if 2.4 ok\n",
      "ts.values[i] ->  -8.528002360964148 i ->  87 vlr_n[count][len(vlr_n[count])-1] ->  -8.528002360964148\n",
      "ts.values[i] ->  11.23323061575785 i ->  88 vlr_n[count][len(vlr_n[count])-1] ->  11.23323061575785\n",
      "ts.values[i] ->  13.438741614262328 i ->  89 vlr_n[count][len(vlr_n[count])-1] ->  13.438741614262328\n",
      "if 2.3 ok\n",
      "ts.values[i] ->  -21.535716738019673 i ->  91 vlr_n[count][len(vlr_n[count])-1] ->  -21.535716738019673\n",
      "if 2.3 ok\n",
      "if 2.4 ok\n",
      "ts.values[i] ->  -31.702074415829507 i ->  94 vlr_n[count][len(vlr_n[count])-1] ->  -31.702074415829507\n",
      "ts.values[i] ->  -18.384880794972414 i ->  95 vlr_n[count][len(vlr_n[count])-1] ->  -18.384880794972414\n",
      "ts.values[i] ->  18.1349343804871 i ->  96 vlr_n[count][len(vlr_n[count])-1] ->  18.1349343804871\n",
      "ts.values[i] ->  10.476540895213283 i ->  97 vlr_n[count][len(vlr_n[count])-1] ->  10.476540895213283\n",
      "ts.values[i] ->  10.435663927367965 i ->  98 vlr_n[count][len(vlr_n[count])-1] ->  10.435663927367965\n",
      "ts.values[i] ->  9.909917917049583 i ->  99 vlr_n[count][len(vlr_n[count])-1] ->  9.909917917049583\n",
      "if 2.2 ok\n",
      "ts.values[i] ->  17.15526511576373 i ->  101 vlr_n[count][len(vlr_n[count])-1] ->  17.15526511576373\n",
      "ts.values[i] ->  -8.886363289572973 i ->  102 vlr_n[count][len(vlr_n[count])-1] ->  -8.886363289572973\n",
      "if 2.2 ok\n",
      "if 2.3 ok\n",
      "ts.values[i] ->  7.954540986774683 i ->  105 vlr_n[count][len(vlr_n[count])-1] ->  7.954540986774683\n",
      "if 2.4 ok\n",
      "ts.values[i] ->  8.91358175395447 i ->  107 vlr_n[count][len(vlr_n[count])-1] ->  8.91358175395447\n",
      "ts.values[i] ->  -7.232138211933858 i ->  108 vlr_n[count][len(vlr_n[count])-1] ->  -7.232138211933858\n",
      "ts.values[i] ->  -8.03657373008264 i ->  109 vlr_n[count][len(vlr_n[count])-1] ->  -8.03657373008264\n",
      "if 2.4 ok\n",
      "if 2.3 ok\n",
      "ts.values[i] ->  -7.2772843719553055 i ->  112 vlr_n[count][len(vlr_n[count])-1] ->  -7.2772843719553055\n",
      "ts.values[i] ->  -7.16425311634068 i ->  113 vlr_n[count][len(vlr_n[count])-1] ->  -7.16425311634068\n",
      "ts.values[i] ->  -6.766917293233088 i ->  114 vlr_n[count][len(vlr_n[count])-1] ->  -6.766917293233088\n",
      "if 2.3 ok\n",
      "ts.values[i] ->  -8.077038164157601 i ->  116 vlr_n[count][len(vlr_n[count])-1] ->  -8.077038164157601\n",
      "if 2.4 ok\n",
      "ts.values[i] ->  -6.729831206192049 i ->  118 vlr_n[count][len(vlr_n[count])-1] ->  -6.729831206192049\n",
      "if 2.2 ok\n",
      "ts.values[i] ->  10.050428620947782 i ->  120 vlr_n[count][len(vlr_n[count])-1] ->  10.050428620947782\n",
      "if 2.3 ok\n",
      "ts.values[i] ->  7.947012087916394 i ->  122 vlr_n[count][len(vlr_n[count])-1] ->  7.947012087916394\n",
      "if 2.4 ok\n",
      "ts.values[i] ->  -11.434701607517228 i ->  124 vlr_n[count][len(vlr_n[count])-1] ->  -11.434701607517228\n",
      "ts.values[i] ->  -7.162628796358062 i ->  125 vlr_n[count][len(vlr_n[count])-1] ->  -7.162628796358062\n",
      "if 2.3 ok\n",
      "if 2.4 ok\n",
      "ts.values[i] ->  -12.770804907663958 i ->  128 vlr_n[count][len(vlr_n[count])-1] ->  -12.770804907663958\n",
      "ts.values[i] ->  -9.836068406506515 i ->  129 vlr_n[count][len(vlr_n[count])-1] ->  -9.836068406506515\n",
      "ts.values[i] ->  11.175335593670056 i ->  130 vlr_n[count][len(vlr_n[count])-1] ->  11.175335593670056\n",
      "ts.values[i] ->  9.189681632517722 i ->  131 vlr_n[count][len(vlr_n[count])-1] ->  9.189681632517722\n",
      "if 2.2 ok\n",
      "ts.values[i] ->  16.34241601295512 i ->  133 vlr_n[count][len(vlr_n[count])-1] ->  16.34241601295512\n",
      "if 2.2 ok\n",
      "ts.values[i] ->  -6.358387196024129 i ->  135 vlr_n[count][len(vlr_n[count])-1] ->  -6.358387196024129\n",
      "ts.values[i] ->  -8.237705984861432 i ->  136 vlr_n[count][len(vlr_n[count])-1] ->  -8.237705984861432\n",
      "ts.values[i] ->  -11.567665132609717 i ->  137 vlr_n[count][len(vlr_n[count])-1] ->  -11.567665132609717\n",
      "if 2.3 ok\n",
      "ts.values[i] ->  7.2192428825809785 i ->  139 vlr_n[count][len(vlr_n[count])-1] ->  7.2192428825809785\n",
      "if 2.2 ok\n",
      "ts.values[i] ->  8.77684012171056 i ->  141 vlr_n[count][len(vlr_n[count])-1] ->  8.77684012171056\n",
      "ts.values[i] ->  -7.685705646898267 i ->  142 vlr_n[count][len(vlr_n[count])-1] ->  -7.685705646898267\n",
      "ts.values[i] ->  -11.286577926971674 i ->  143 vlr_n[count][len(vlr_n[count])-1] ->  -11.286577926971674\n",
      "if 2.4 ok\n",
      "ts.values[i] ->  -6.7519168610601366 i ->  145 vlr_n[count][len(vlr_n[count])-1] ->  -6.7519168610601366\n",
      "ts.values[i] ->  -20.60274098017444 i ->  146 vlr_n[count][len(vlr_n[count])-1] ->  -20.60274098017444\n",
      "ts.values[i] ->  17.2796654926082 i ->  147 vlr_n[count][len(vlr_n[count])-1] ->  17.2796654926082\n",
      "ts.values[i] ->  15.04796272757254 i ->  148 vlr_n[count][len(vlr_n[count])-1] ->  15.04796272757254\n",
      "if 2.4 ok\n",
      "ts.values[i] ->  -22.30970717341334 i ->  150 vlr_n[count][len(vlr_n[count])-1] ->  -22.30970717341334\n",
      "if 2.3 ok\n",
      "if 2.4 ok\n",
      "if 2.3 ok\n",
      "ts.values[i] ->  13.93586793095154 i ->  154 vlr_n[count][len(vlr_n[count])-1] ->  13.93586793095154\n",
      "if 2.2 ok\n",
      "if 2.2 ok\n",
      "ts.values[i] ->  -13.883673202824875 i ->  157 vlr_n[count][len(vlr_n[count])-1] ->  -13.883673202824875\n",
      "if 2.2 ok\n",
      "ts.values[i] ->  15.165514255118673 i ->  159 vlr_n[count][len(vlr_n[count])-1] ->  15.165514255118673\n",
      "if 2.2 ok\n",
      "if 2.4 ok\n",
      "if 2.3 ok\n",
      "ts.values[i] ->  10.639603431022193 i ->  163 vlr_n[count][len(vlr_n[count])-1] ->  10.639603431022193\n",
      "ts.values[i] ->  23.008350892628492 i ->  164 vlr_n[count][len(vlr_n[count])-1] ->  23.008350892628492\n",
      "ts.values[i] ->  -23.70632669464674 i ->  165 vlr_n[count][len(vlr_n[count])-1] ->  -23.70632669464674\n",
      "ts.values[i] ->  -12.901308654373455 i ->  166 vlr_n[count][len(vlr_n[count])-1] ->  -12.901308654373455\n",
      "ts.values[i] ->  -15.650964964553893 i ->  167 vlr_n[count][len(vlr_n[count])-1] ->  -15.650964964553893\n",
      "ts.values[i] ->  -18.590828777811286 i ->  168 vlr_n[count][len(vlr_n[count])-1] ->  -18.590828777811286\n",
      "ts.values[i] ->  -16.162671179067612 i ->  169 vlr_n[count][len(vlr_n[count])-1] ->  -16.162671179067612\n",
      "ts.values[i] ->  14.492751787016411 i ->  170 vlr_n[count][len(vlr_n[count])-1] ->  14.492751787016411\n",
      "if 2.3 ok\n",
      "ts.values[i] ->  45.40816043526475 i ->  172 vlr_n[count][len(vlr_n[count])-1] ->  45.40816043526475\n",
      "ts.values[i] ->  -7.017543859649122 i ->  173 vlr_n[count][len(vlr_n[count])-1] ->  -7.017543859649122\n",
      "if 2.2 ok\n",
      "ts.values[i] ->  -18.39323279674646 i ->  175 vlr_n[count][len(vlr_n[count])-1] ->  -18.39323279674646\n",
      "ts.values[i] ->  -7.732409432012799 i ->  176 vlr_n[count][len(vlr_n[count])-1] ->  -7.732409432012799\n",
      "ts.values[i] ->  -16.110022535941717 i ->  177 vlr_n[count][len(vlr_n[count])-1] ->  -16.110022535941717\n",
      "ts.values[i] ->  7.816095633147135 i ->  178 vlr_n[count][len(vlr_n[count])-1] ->  7.816095633147135\n",
      "if 2.4 ok\n",
      "ts.values[i] ->  -8.342252992752275 i ->  180 vlr_n[count][len(vlr_n[count])-1] ->  -8.342252992752275\n",
      "ts.values[i] ->  -19.13652187731185 i ->  181 vlr_n[count][len(vlr_n[count])-1] ->  -19.13652187731185\n",
      "ts.values[i] ->  7.929514924968162 i ->  182 vlr_n[count][len(vlr_n[count])-1] ->  7.929514924968162\n",
      "ts.values[i] ->  40.05269961445925 i ->  183 vlr_n[count][len(vlr_n[count])-1] ->  40.05269961445925\n",
      "ts.values[i] ->  26.020900230539223 i ->  184 vlr_n[count][len(vlr_n[count])-1] ->  26.020900230539223\n",
      "ts.values[i] ->  -23.63090500044428 i ->  185 vlr_n[count][len(vlr_n[count])-1] ->  -23.63090500044428\n",
      "ts.values[i] ->  13.399021295219438 i ->  186 vlr_n[count][len(vlr_n[count])-1] ->  13.399021295219438\n",
      "ts.values[i] ->  21.29870127725475 i ->  187 vlr_n[count][len(vlr_n[count])-1] ->  21.29870127725475\n",
      "if 2.2 ok\n",
      "if 2.3 ok\n",
      "ts.values[i] ->  21.90974124364495 i ->  190 vlr_n[count][len(vlr_n[count])-1] ->  21.90974124364495\n",
      "if 2.4 ok\n",
      "ts.values[i] ->  -8.283697001497071 i ->  192 vlr_n[count][len(vlr_n[count])-1] ->  -8.283697001497071\n",
      "if 2.3 ok\n",
      "if 2.3 ok\n",
      "ts.values[i] ->  -7.45266437481904 i ->  195 vlr_n[count][len(vlr_n[count])-1] ->  -7.45266437481904\n",
      "if 2.2 ok\n",
      "if 2.2 ok\n",
      "if 2.2 ok\n",
      "if 2.2 ok\n",
      "if 2.4 ok\n",
      "ts.values[i] ->  11.416496738117864 i ->  201 vlr_n[count][len(vlr_n[count])-1] ->  11.416496738117864\n",
      "ts.values[i] ->  10.462901525903057 i ->  202 vlr_n[count][len(vlr_n[count])-1] ->  10.462901525903057\n",
      "ts.values[i] ->  -9.682899506919052 i ->  203 vlr_n[count][len(vlr_n[count])-1] ->  -9.682899506919052\n",
      "ts.values[i] ->  6.085321785218545 i ->  204 vlr_n[count][len(vlr_n[count])-1] ->  6.085321785218545\n",
      "ts.values[i] ->  25.960966465178757 i ->  205 vlr_n[count][len(vlr_n[count])-1] ->  25.960966465178757\n",
      "ts.values[i] ->  8.685448111429285 i ->  206 vlr_n[count][len(vlr_n[count])-1] ->  8.685448111429285\n",
      "if 2.4 ok\n",
      "ts.values[i] ->  6.30124764637543 i ->  208 vlr_n[count][len(vlr_n[count])-1] ->  6.30124764637543\n",
      "ts.values[i] ->  -9.906612707464824 i ->  209 vlr_n[count][len(vlr_n[count])-1] ->  -9.906612707464824\n",
      "ts.values[i] ->  -14.070797573008619 i ->  210 vlr_n[count][len(vlr_n[count])-1] ->  -14.070797573008619\n",
      "ts.values[i] ->  14.869110449564072 i ->  211 vlr_n[count][len(vlr_n[count])-1] ->  14.869110449564072\n",
      "if 2.4 ok\n",
      "ts.values[i] ->  10.236578921107098 i ->  213 vlr_n[count][len(vlr_n[count])-1] ->  10.236578921107098\n",
      "ts.values[i] ->  24.619810069468095 i ->  214 vlr_n[count][len(vlr_n[count])-1] ->  24.619810069468095\n",
      "ts.values[i] ->  -7.406188486356835 i ->  215 vlr_n[count][len(vlr_n[count])-1] ->  -7.406188486356835\n",
      "ts.values[i] ->  -12.413794418861123 i ->  216 vlr_n[count][len(vlr_n[count])-1] ->  -12.413794418861123\n",
      "ts.values[i] ->  16.338581420696908 i ->  217 vlr_n[count][len(vlr_n[count])-1] ->  16.338581420696908\n",
      "if 2.4 ok\n",
      "if 2.2 ok\n",
      "if 2.2 ok\n",
      "if 2.2 ok\n",
      "if 2.2 ok\n",
      "if 2.2 ok\n",
      "if 2.3 ok\n",
      "ts.values[i] ->  7.486632579637087 i ->  225 vlr_n[count][len(vlr_n[count])-1] ->  7.486632579637087\n",
      "ts.values[i] ->  8.421753741306093 i ->  226 vlr_n[count][len(vlr_n[count])-1] ->  8.421753741306093\n",
      "if 2.2 ok\n",
      "if 2.4 ok\n",
      "if 2.2 ok\n",
      "ts.values[i] ->  -10.573125583952736 i ->  230 vlr_n[count][len(vlr_n[count])-1] ->  -10.573125583952736\n",
      "ts.values[i] ->  -47.91896669614686 i ->  231 vlr_n[count][len(vlr_n[count])-1] ->  -47.91896669614686\n",
      "ts.values[i] ->  37.1323462897933 i ->  232 vlr_n[count][len(vlr_n[count])-1] ->  37.1323462897933\n",
      "ts.values[i] ->  11.742630449609637 i ->  233 vlr_n[count][len(vlr_n[count])-1] ->  11.742630449609637\n",
      "ts.values[i] ->  8.079342380889676 i ->  234 vlr_n[count][len(vlr_n[count])-1] ->  8.079342380889676\n",
      "if 2.4 ok\n",
      "if 2.3 ok\n",
      "ts.values[i] ->  -12.715228297003744 i ->  237 vlr_n[count][len(vlr_n[count])-1] ->  -12.715228297003744\n",
      "if 2.2 ok\n",
      "ts.values[i] ->  34.4736801950555 i ->  239 vlr_n[count][len(vlr_n[count])-1] ->  34.4736801950555\n",
      "ts.values[i] ->  11.046962624335578 i ->  240 vlr_n[count][len(vlr_n[count])-1] ->  11.046962624335578\n",
      "if 2.2 ok\n",
      "ts.values[i] ->  -20.352391068340904 i ->  242 vlr_n[count][len(vlr_n[count])-1] ->  -20.352391068340904\n",
      "if 2.2 ok\n",
      "if 2.2 ok\n",
      "ts.values[i] ->  15.019419640817521 i ->  245 vlr_n[count][len(vlr_n[count])-1] ->  15.019419640817521\n",
      "ts.values[i] ->  11.36029435998427 i ->  246 vlr_n[count][len(vlr_n[count])-1] ->  11.36029435998427\n",
      "ts.values[i] ->  -9.95416118007294 i ->  247 vlr_n[count][len(vlr_n[count])-1] ->  -9.95416118007294\n",
      "if 2.4 ok\n",
      "if 2.4 ok\n",
      "if 2.4 ok\n",
      "if 2.3 ok\n"
     ]
    }
   ],
   "source": [
    "period_n, vlr_n, weight_n = find_paterns(list_df[90]['Var'], 12)"
   ]
  },
  {
   "cell_type": "code",
   "execution_count": 152,
   "id": "4f6b4f0e",
   "metadata": {},
   "outputs": [
    {
     "data": {
      "text/plain": [
       "[29, 30, 10, 43, 25, 21, 11, 1, 21, 32, 17, 30]"
      ]
     },
     "execution_count": 152,
     "metadata": {},
     "output_type": "execute_result"
    }
   ],
   "source": [
    "weight_n"
   ]
  },
  {
   "cell_type": "code",
   "execution_count": 153,
   "id": "950e9cb9",
   "metadata": {},
   "outputs": [
    {
     "data": {
      "text/plain": [
       "[1, 2, 3, 4, 5, 6, 7, 8, 9, 10, 11, 12]"
      ]
     },
     "execution_count": 153,
     "metadata": {},
     "output_type": "execute_result"
    }
   ],
   "source": [
    "period_n"
   ]
  },
  {
   "cell_type": "code",
   "execution_count": 150,
   "id": "c4b8b915",
   "metadata": {},
   "outputs": [
    {
     "data": {
      "text/html": [
       "<div>\n",
       "<style scoped>\n",
       "    .dataframe tbody tr th:only-of-type {\n",
       "        vertical-align: middle;\n",
       "    }\n",
       "\n",
       "    .dataframe tbody tr th {\n",
       "        vertical-align: top;\n",
       "    }\n",
       "\n",
       "    .dataframe thead th {\n",
       "        text-align: right;\n",
       "    }\n",
       "</style>\n",
       "<table border=\"1\" class=\"dataframe\">\n",
       "  <thead>\n",
       "    <tr style=\"text-align: right;\">\n",
       "      <th></th>\n",
       "      <th>High</th>\n",
       "      <th>Low</th>\n",
       "      <th>Open</th>\n",
       "      <th>Close</th>\n",
       "      <th>Volume</th>\n",
       "      <th>Adj Close</th>\n",
       "      <th>Ticker</th>\n",
       "      <th>Var</th>\n",
       "      <th>Category</th>\n",
       "    </tr>\n",
       "    <tr>\n",
       "      <th>Date</th>\n",
       "      <th></th>\n",
       "      <th></th>\n",
       "      <th></th>\n",
       "      <th></th>\n",
       "      <th></th>\n",
       "      <th></th>\n",
       "      <th></th>\n",
       "      <th></th>\n",
       "      <th></th>\n",
       "    </tr>\n",
       "  </thead>\n",
       "  <tbody>\n",
       "    <tr>\n",
       "      <th>2000-02-01</th>\n",
       "      <td>5.050781</td>\n",
       "      <td>4.101562</td>\n",
       "      <td>4.101562</td>\n",
       "      <td>5.027343</td>\n",
       "      <td>7.889408e+10</td>\n",
       "      <td>3.695633</td>\n",
       "      <td>PETR3.SA</td>\n",
       "      <td>22.571420</td>\n",
       "      <td>10</td>\n",
       "    </tr>\n",
       "    <tr>\n",
       "      <th>2000-03-01</th>\n",
       "      <td>5.367187</td>\n",
       "      <td>4.933593</td>\n",
       "      <td>5.068477</td>\n",
       "      <td>5.156250</td>\n",
       "      <td>5.108480e+10</td>\n",
       "      <td>3.790393</td>\n",
       "      <td>PETR3.SA</td>\n",
       "      <td>1.731740</td>\n",
       "      <td>2</td>\n",
       "    </tr>\n",
       "    <tr>\n",
       "      <th>2000-04-01</th>\n",
       "      <td>5.214726</td>\n",
       "      <td>4.347656</td>\n",
       "      <td>5.085937</td>\n",
       "      <td>4.687500</td>\n",
       "      <td>5.249152e+10</td>\n",
       "      <td>3.445812</td>\n",
       "      <td>PETR3.SA</td>\n",
       "      <td>-7.834093</td>\n",
       "      <td>-8</td>\n",
       "    </tr>\n",
       "    <tr>\n",
       "      <th>2000-05-01</th>\n",
       "      <td>4.746093</td>\n",
       "      <td>4.148320</td>\n",
       "      <td>4.722656</td>\n",
       "      <td>4.746093</td>\n",
       "      <td>5.819136e+10</td>\n",
       "      <td>3.488884</td>\n",
       "      <td>PETR3.SA</td>\n",
       "      <td>0.496268</td>\n",
       "      <td>2</td>\n",
       "    </tr>\n",
       "    <tr>\n",
       "      <th>2000-06-01</th>\n",
       "      <td>6.625000</td>\n",
       "      <td>4.921993</td>\n",
       "      <td>4.921993</td>\n",
       "      <td>6.625000</td>\n",
       "      <td>5.667405e+10</td>\n",
       "      <td>4.870080</td>\n",
       "      <td>PETR3.SA</td>\n",
       "      <td>34.599954</td>\n",
       "      <td>10</td>\n",
       "    </tr>\n",
       "  </tbody>\n",
       "</table>\n",
       "</div>"
      ],
      "text/plain": [
       "                High       Low      Open     Close        Volume  Adj Close  \\\n",
       "Date                                                                          \n",
       "2000-02-01  5.050781  4.101562  4.101562  5.027343  7.889408e+10   3.695633   \n",
       "2000-03-01  5.367187  4.933593  5.068477  5.156250  5.108480e+10   3.790393   \n",
       "2000-04-01  5.214726  4.347656  5.085937  4.687500  5.249152e+10   3.445812   \n",
       "2000-05-01  4.746093  4.148320  4.722656  4.746093  5.819136e+10   3.488884   \n",
       "2000-06-01  6.625000  4.921993  4.921993  6.625000  5.667405e+10   4.870080   \n",
       "\n",
       "              Ticker        Var  Category  \n",
       "Date                                       \n",
       "2000-02-01  PETR3.SA  22.571420        10  \n",
       "2000-03-01  PETR3.SA   1.731740         2  \n",
       "2000-04-01  PETR3.SA  -7.834093        -8  \n",
       "2000-05-01  PETR3.SA   0.496268         2  \n",
       "2000-06-01  PETR3.SA  34.599954        10  "
      ]
     },
     "execution_count": 150,
     "metadata": {},
     "output_type": "execute_result"
    }
   ],
   "source": [
    "list_df[90].head()"
   ]
  },
  {
   "cell_type": "code",
   "execution_count": 51,
   "id": "cae52fa5",
   "metadata": {},
   "outputs": [],
   "source": [
    "df_test = pd.DataFrame(teste1)"
   ]
  },
  {
   "cell_type": "code",
   "execution_count": 52,
   "id": "413c1043",
   "metadata": {},
   "outputs": [
    {
     "data": {
      "text/html": [
       "<div>\n",
       "<style scoped>\n",
       "    .dataframe tbody tr th:only-of-type {\n",
       "        vertical-align: middle;\n",
       "    }\n",
       "\n",
       "    .dataframe tbody tr th {\n",
       "        vertical-align: top;\n",
       "    }\n",
       "\n",
       "    .dataframe thead th {\n",
       "        text-align: right;\n",
       "    }\n",
       "</style>\n",
       "<table border=\"1\" class=\"dataframe\">\n",
       "  <thead>\n",
       "    <tr style=\"text-align: right;\">\n",
       "      <th></th>\n",
       "      <th>0</th>\n",
       "      <th>1</th>\n",
       "      <th>2</th>\n",
       "      <th>3</th>\n",
       "      <th>4</th>\n",
       "      <th>5</th>\n",
       "      <th>6</th>\n",
       "      <th>7</th>\n",
       "      <th>8</th>\n",
       "      <th>9</th>\n",
       "      <th>10</th>\n",
       "      <th>11</th>\n",
       "    </tr>\n",
       "  </thead>\n",
       "  <tbody>\n",
       "    <tr>\n",
       "      <th>0</th>\n",
       "      <td>0</td>\n",
       "      <td>0</td>\n",
       "      <td>0</td>\n",
       "      <td>0</td>\n",
       "      <td>0</td>\n",
       "      <td>0</td>\n",
       "      <td>0</td>\n",
       "      <td>0</td>\n",
       "      <td>0</td>\n",
       "      <td>0</td>\n",
       "      <td>0</td>\n",
       "      <td>0</td>\n",
       "    </tr>\n",
       "    <tr>\n",
       "      <th>1</th>\n",
       "      <td>[]</td>\n",
       "      <td>[]</td>\n",
       "      <td>[]</td>\n",
       "      <td>[]</td>\n",
       "      <td>[]</td>\n",
       "      <td>[]</td>\n",
       "      <td>[]</td>\n",
       "      <td>[]</td>\n",
       "      <td>[]</td>\n",
       "      <td>[]</td>\n",
       "      <td>[]</td>\n",
       "      <td>[]</td>\n",
       "    </tr>\n",
       "    <tr>\n",
       "      <th>2</th>\n",
       "      <td>0</td>\n",
       "      <td>0</td>\n",
       "      <td>0</td>\n",
       "      <td>0</td>\n",
       "      <td>0</td>\n",
       "      <td>0</td>\n",
       "      <td>0</td>\n",
       "      <td>0</td>\n",
       "      <td>0</td>\n",
       "      <td>0</td>\n",
       "      <td>0</td>\n",
       "      <td>0</td>\n",
       "    </tr>\n",
       "  </tbody>\n",
       "</table>\n",
       "</div>"
      ],
      "text/plain": [
       "   0   1   2   3   4   5   6   7   8   9   10  11\n",
       "0   0   0   0   0   0   0   0   0   0   0   0   0\n",
       "1  []  []  []  []  []  []  []  []  []  []  []  []\n",
       "2   0   0   0   0   0   0   0   0   0   0   0   0"
      ]
     },
     "execution_count": 52,
     "metadata": {},
     "output_type": "execute_result"
    }
   ],
   "source": [
    "df_test.head()"
   ]
  },
  {
   "cell_type": "code",
   "execution_count": 122,
   "id": "fa5b9495",
   "metadata": {},
   "outputs": [],
   "source": [
    "#def generete_avg_high_low_colunm(df : pd.DataFrame):\n",
    "#    for i in range(0, len(df)):\n",
    "#        df['Avg'] = ((df[i].loc[:, 'High']+df[i].loc[:, 'Low']) / 2.0)\n",
    "#    return df"
   ]
  },
  {
   "cell_type": "code",
   "execution_count": 22,
   "id": "159e0b9b",
   "metadata": {},
   "outputs": [],
   "source": [
    "def select_tickers_seazonals(df : pd.DataFrame):\n",
    "    \"\"\"\n",
    "    Função responsável por selecionar os melhores ativos, a partir de critérios de\n",
    "    força na sazonalidade e na tendência.\n",
    "    \"\"\"\n",
    "    df_unique = df['Ticker'].unique()\n",
    "    df_return = pd.DataFrame()\n",
    "    list_rate = []\n",
    "    list_tickers = []\n",
    "    for i in df_unique:\n",
    "        print(i)\n",
    "        df_i = df[(df['Ticker'] == i)]\n",
    "        #df_i = generete_avg_high_low_colunm(df_i)\n",
    "        ts = generete_ts_moving_avarege(df_i['Avg'], 12)\n",
    "        ts = transform_stationary_ts(ts)\n",
    "        print(ts)\n",
    "        if ts is not None:\n",
    "            print(i)\n",
    "            #components = components_seasonal_trend_resid_STL(ts)\n",
    "            components = components_seasonal_trend_resid_classic(ts, 12)\n",
    "            rate = seasonality_trend_rate(components)\n",
    "            list_tickers.append(i)\n",
    "            list_rate.append(rate)\n",
    "        df_return['Ticker'] = list_tickers\n",
    "        df_return['Rate'] = list_rate\n",
    "    return df_return"
   ]
  },
  {
   "cell_type": "code",
   "execution_count": 23,
   "id": "099b5d61",
   "metadata": {},
   "outputs": [],
   "source": [
    "def binary_variation(df : pd.DataFrame):\n",
    "    \"\"\"\n",
    "    Recebe um data frame e devolve um data frame com uma coluna a mais 'bin_var', onde '0' indica não \n",
    "    variação do preço da ação, '1' variação positiva ou alta e '-1', variação negativa ou baixa.\n",
    "    \"\"\"\n",
    "    df['bin_var'] = (((df.loc[:, 'Close']/df.loc[:, 'Open']) - 1.0) * 100.0)"
   ]
  },
  {
   "cell_type": "code",
   "execution_count": 15,
   "id": "39580025",
   "metadata": {},
   "outputs": [
    {
     "name": "stderr",
     "output_type": "stream",
     "text": [
      "C:\\Users\\DAGOBE~1\\AppData\\Local\\Temp/ipykernel_2240/3024066247.py:7: FutureWarning: the 'freq'' keyword is deprecated, use 'period' instead\n",
      "  result = seasonal_decompose(ts, freq=freq, model='aditive')\n"
     ]
    }
   ],
   "source": [
    "components = components_seasonal_trend_resid_classic(teste['Avg'], 12)"
   ]
  },
  {
   "cell_type": "code",
   "execution_count": 24,
   "id": "b1b61af7",
   "metadata": {},
   "outputs": [
    {
     "data": {
      "text/plain": [
       "count    153.00\n",
       "mean      11.54\n",
       "std        9.43\n",
       "min        1.80\n",
       "25%        6.62\n",
       "50%        8.77\n",
       "75%       11.95\n",
       "max       44.66\n",
       "Name: trend, dtype: float64"
      ]
     },
     "execution_count": 24,
     "metadata": {},
     "output_type": "execute_result"
    }
   ],
   "source": [
    "components[1].describe().round(2)"
   ]
  },
  {
   "cell_type": "code",
   "execution_count": 155,
   "id": "ff3e59e3",
   "metadata": {},
   "outputs": [
    {
     "name": "stdout",
     "output_type": "stream",
     "text": [
      "ABEV3.SA\n"
     ]
    },
    {
     "name": "stderr",
     "output_type": "stream",
     "text": [
      "C:\\Users\\Dagoberto Medeiros\\anaconda3\\envs\\TCC\\lib\\site-packages\\pandas\\core\\arraylike.py:364: RuntimeWarning: invalid value encountered in log\n",
      "  result = getattr(ufunc, method)(*inputs, **kwargs)\n"
     ]
    },
    {
     "ename": "MissingDataError",
     "evalue": "exog contains inf or nans",
     "output_type": "error",
     "traceback": [
      "\u001b[1;31m---------------------------------------------------------------------------\u001b[0m",
      "\u001b[1;31mMissingDataError\u001b[0m                          Traceback (most recent call last)",
      "\u001b[1;32mC:\\Users\\DAGOBE~1\\AppData\\Local\\Temp/ipykernel_9240/275716887.py\u001b[0m in \u001b[0;36m<module>\u001b[1;34m\u001b[0m\n\u001b[1;32m----> 1\u001b[1;33m \u001b[0mdf_new\u001b[0m \u001b[1;33m=\u001b[0m \u001b[0mselect_tickers_seazonals\u001b[0m\u001b[1;33m(\u001b[0m\u001b[0mdfExcel\u001b[0m\u001b[1;33m)\u001b[0m\u001b[1;33m\u001b[0m\u001b[1;33m\u001b[0m\u001b[0m\n\u001b[0m",
      "\u001b[1;32mC:\\Users\\DAGOBE~1\\AppData\\Local\\Temp/ipykernel_9240/3798088198.py\u001b[0m in \u001b[0;36mselect_tickers_seazonals\u001b[1;34m(df)\u001b[0m\n\u001b[0;32m     13\u001b[0m         \u001b[1;31m#df_i = generete_avg_high_low_colunm(df_i)\u001b[0m\u001b[1;33m\u001b[0m\u001b[1;33m\u001b[0m\u001b[1;33m\u001b[0m\u001b[0m\n\u001b[0;32m     14\u001b[0m         \u001b[0mts\u001b[0m \u001b[1;33m=\u001b[0m \u001b[0mgenerete_ts_moving_avarege\u001b[0m\u001b[1;33m(\u001b[0m\u001b[0mdf_i\u001b[0m\u001b[1;33m[\u001b[0m\u001b[1;34m'Avg'\u001b[0m\u001b[1;33m]\u001b[0m\u001b[1;33m,\u001b[0m \u001b[1;36m12\u001b[0m\u001b[1;33m)\u001b[0m\u001b[1;33m\u001b[0m\u001b[1;33m\u001b[0m\u001b[0m\n\u001b[1;32m---> 15\u001b[1;33m         \u001b[0mts\u001b[0m \u001b[1;33m=\u001b[0m \u001b[0mtransform_stationary_ts\u001b[0m\u001b[1;33m(\u001b[0m\u001b[0mts\u001b[0m\u001b[1;33m)\u001b[0m\u001b[1;33m\u001b[0m\u001b[1;33m\u001b[0m\u001b[0m\n\u001b[0m\u001b[0;32m     16\u001b[0m         \u001b[0mprint\u001b[0m\u001b[1;33m(\u001b[0m\u001b[0mts\u001b[0m\u001b[1;33m)\u001b[0m\u001b[1;33m\u001b[0m\u001b[1;33m\u001b[0m\u001b[0m\n\u001b[0;32m     17\u001b[0m         \u001b[1;32mif\u001b[0m \u001b[0mts\u001b[0m \u001b[1;32mis\u001b[0m \u001b[1;32mnot\u001b[0m \u001b[1;32mNone\u001b[0m\u001b[1;33m:\u001b[0m\u001b[1;33m\u001b[0m\u001b[1;33m\u001b[0m\u001b[0m\n",
      "\u001b[1;32mC:\\Users\\DAGOBE~1\\AppData\\Local\\Temp/ipykernel_9240/2230981047.py\u001b[0m in \u001b[0;36mtransform_stationary_ts\u001b[1;34m(ts)\u001b[0m\n\u001b[0;32m     11\u001b[0m         \u001b[1;32melse\u001b[0m\u001b[1;33m:\u001b[0m\u001b[1;33m\u001b[0m\u001b[1;33m\u001b[0m\u001b[0m\n\u001b[0;32m     12\u001b[0m             \u001b[0mts_log2\u001b[0m \u001b[1;33m=\u001b[0m \u001b[0mnp\u001b[0m\u001b[1;33m.\u001b[0m\u001b[0mlog\u001b[0m\u001b[1;33m(\u001b[0m\u001b[0mts_log1\u001b[0m\u001b[1;33m)\u001b[0m\u001b[1;33m\u001b[0m\u001b[1;33m\u001b[0m\u001b[0m\n\u001b[1;32m---> 13\u001b[1;33m             \u001b[0madfuller_ts_log2\u001b[0m \u001b[1;33m=\u001b[0m \u001b[0madfuller\u001b[0m\u001b[1;33m(\u001b[0m\u001b[0mts_log2\u001b[0m\u001b[1;33m,\u001b[0m \u001b[0mautolag\u001b[0m\u001b[1;33m=\u001b[0m\u001b[1;34m'AIC'\u001b[0m\u001b[1;33m)\u001b[0m\u001b[1;33m\u001b[0m\u001b[1;33m\u001b[0m\u001b[0m\n\u001b[0m\u001b[0;32m     14\u001b[0m             \u001b[1;32mif\u001b[0m \u001b[0madfuller_ts_log2\u001b[0m\u001b[1;33m[\u001b[0m\u001b[1;36m1\u001b[0m\u001b[1;33m]\u001b[0m \u001b[1;33m<\u001b[0m \u001b[1;36m0.05\u001b[0m\u001b[1;33m:\u001b[0m\u001b[1;33m\u001b[0m\u001b[1;33m\u001b[0m\u001b[0m\n\u001b[0;32m     15\u001b[0m                 \u001b[1;32mreturn\u001b[0m \u001b[0mts_log2\u001b[0m\u001b[1;33m\u001b[0m\u001b[1;33m\u001b[0m\u001b[0m\n",
      "\u001b[1;32m~\\anaconda3\\envs\\TCC\\lib\\site-packages\\statsmodels\\tsa\\stattools.py\u001b[0m in \u001b[0;36madfuller\u001b[1;34m(x, maxlag, regression, autolag, store, regresults)\u001b[0m\n\u001b[0;32m    312\u001b[0m \u001b[1;33m\u001b[0m\u001b[0m\n\u001b[0;32m    313\u001b[0m         \u001b[1;32mif\u001b[0m \u001b[1;32mnot\u001b[0m \u001b[0mregresults\u001b[0m\u001b[1;33m:\u001b[0m\u001b[1;33m\u001b[0m\u001b[1;33m\u001b[0m\u001b[0m\n\u001b[1;32m--> 314\u001b[1;33m             icbest, bestlag = _autolag(\n\u001b[0m\u001b[0;32m    315\u001b[0m                 \u001b[0mOLS\u001b[0m\u001b[1;33m,\u001b[0m \u001b[0mxdshort\u001b[0m\u001b[1;33m,\u001b[0m \u001b[0mfullRHS\u001b[0m\u001b[1;33m,\u001b[0m \u001b[0mstartlag\u001b[0m\u001b[1;33m,\u001b[0m \u001b[0mmaxlag\u001b[0m\u001b[1;33m,\u001b[0m \u001b[0mautolag\u001b[0m\u001b[1;33m\u001b[0m\u001b[1;33m\u001b[0m\u001b[0m\n\u001b[0;32m    316\u001b[0m             )\n",
      "\u001b[1;32m~\\anaconda3\\envs\\TCC\\lib\\site-packages\\statsmodels\\tsa\\stattools.py\u001b[0m in \u001b[0;36m_autolag\u001b[1;34m(mod, endog, exog, startlag, maxlag, method, modargs, fitargs, regresults)\u001b[0m\n\u001b[0;32m    122\u001b[0m     \u001b[0mmethod\u001b[0m \u001b[1;33m=\u001b[0m \u001b[0mmethod\u001b[0m\u001b[1;33m.\u001b[0m\u001b[0mlower\u001b[0m\u001b[1;33m(\u001b[0m\u001b[1;33m)\u001b[0m\u001b[1;33m\u001b[0m\u001b[1;33m\u001b[0m\u001b[0m\n\u001b[0;32m    123\u001b[0m     \u001b[1;32mfor\u001b[0m \u001b[0mlag\u001b[0m \u001b[1;32min\u001b[0m \u001b[0mrange\u001b[0m\u001b[1;33m(\u001b[0m\u001b[0mstartlag\u001b[0m\u001b[1;33m,\u001b[0m \u001b[0mstartlag\u001b[0m \u001b[1;33m+\u001b[0m \u001b[0mmaxlag\u001b[0m \u001b[1;33m+\u001b[0m \u001b[1;36m1\u001b[0m\u001b[1;33m)\u001b[0m\u001b[1;33m:\u001b[0m\u001b[1;33m\u001b[0m\u001b[1;33m\u001b[0m\u001b[0m\n\u001b[1;32m--> 124\u001b[1;33m         \u001b[0mmod_instance\u001b[0m \u001b[1;33m=\u001b[0m \u001b[0mmod\u001b[0m\u001b[1;33m(\u001b[0m\u001b[0mendog\u001b[0m\u001b[1;33m,\u001b[0m \u001b[0mexog\u001b[0m\u001b[1;33m[\u001b[0m\u001b[1;33m:\u001b[0m\u001b[1;33m,\u001b[0m \u001b[1;33m:\u001b[0m\u001b[0mlag\u001b[0m\u001b[1;33m]\u001b[0m\u001b[1;33m,\u001b[0m \u001b[1;33m*\u001b[0m\u001b[0mmodargs\u001b[0m\u001b[1;33m)\u001b[0m\u001b[1;33m\u001b[0m\u001b[1;33m\u001b[0m\u001b[0m\n\u001b[0m\u001b[0;32m    125\u001b[0m         \u001b[0mresults\u001b[0m\u001b[1;33m[\u001b[0m\u001b[0mlag\u001b[0m\u001b[1;33m]\u001b[0m \u001b[1;33m=\u001b[0m \u001b[0mmod_instance\u001b[0m\u001b[1;33m.\u001b[0m\u001b[0mfit\u001b[0m\u001b[1;33m(\u001b[0m\u001b[1;33m)\u001b[0m\u001b[1;33m\u001b[0m\u001b[1;33m\u001b[0m\u001b[0m\n\u001b[0;32m    126\u001b[0m \u001b[1;33m\u001b[0m\u001b[0m\n",
      "\u001b[1;32m~\\anaconda3\\envs\\TCC\\lib\\site-packages\\statsmodels\\regression\\linear_model.py\u001b[0m in \u001b[0;36m__init__\u001b[1;34m(self, endog, exog, missing, hasconst, **kwargs)\u001b[0m\n\u001b[0;32m    870\u001b[0m     def __init__(self, endog, exog=None, missing='none', hasconst=None,\n\u001b[0;32m    871\u001b[0m                  **kwargs):\n\u001b[1;32m--> 872\u001b[1;33m         super(OLS, self).__init__(endog, exog, missing=missing,\n\u001b[0m\u001b[0;32m    873\u001b[0m                                   hasconst=hasconst, **kwargs)\n\u001b[0;32m    874\u001b[0m         \u001b[1;32mif\u001b[0m \u001b[1;34m\"weights\"\u001b[0m \u001b[1;32min\u001b[0m \u001b[0mself\u001b[0m\u001b[1;33m.\u001b[0m\u001b[0m_init_keys\u001b[0m\u001b[1;33m:\u001b[0m\u001b[1;33m\u001b[0m\u001b[1;33m\u001b[0m\u001b[0m\n",
      "\u001b[1;32m~\\anaconda3\\envs\\TCC\\lib\\site-packages\\statsmodels\\regression\\linear_model.py\u001b[0m in \u001b[0;36m__init__\u001b[1;34m(self, endog, exog, weights, missing, hasconst, **kwargs)\u001b[0m\n\u001b[0;32m    701\u001b[0m         \u001b[1;32melse\u001b[0m\u001b[1;33m:\u001b[0m\u001b[1;33m\u001b[0m\u001b[1;33m\u001b[0m\u001b[0m\n\u001b[0;32m    702\u001b[0m             \u001b[0mweights\u001b[0m \u001b[1;33m=\u001b[0m \u001b[0mweights\u001b[0m\u001b[1;33m.\u001b[0m\u001b[0msqueeze\u001b[0m\u001b[1;33m(\u001b[0m\u001b[1;33m)\u001b[0m\u001b[1;33m\u001b[0m\u001b[1;33m\u001b[0m\u001b[0m\n\u001b[1;32m--> 703\u001b[1;33m         super(WLS, self).__init__(endog, exog, missing=missing,\n\u001b[0m\u001b[0;32m    704\u001b[0m                                   weights=weights, hasconst=hasconst, **kwargs)\n\u001b[0;32m    705\u001b[0m         \u001b[0mnobs\u001b[0m \u001b[1;33m=\u001b[0m \u001b[0mself\u001b[0m\u001b[1;33m.\u001b[0m\u001b[0mexog\u001b[0m\u001b[1;33m.\u001b[0m\u001b[0mshape\u001b[0m\u001b[1;33m[\u001b[0m\u001b[1;36m0\u001b[0m\u001b[1;33m]\u001b[0m\u001b[1;33m\u001b[0m\u001b[1;33m\u001b[0m\u001b[0m\n",
      "\u001b[1;32m~\\anaconda3\\envs\\TCC\\lib\\site-packages\\statsmodels\\regression\\linear_model.py\u001b[0m in \u001b[0;36m__init__\u001b[1;34m(self, endog, exog, **kwargs)\u001b[0m\n\u001b[0;32m    188\u001b[0m     \"\"\"\n\u001b[0;32m    189\u001b[0m     \u001b[1;32mdef\u001b[0m \u001b[0m__init__\u001b[0m\u001b[1;33m(\u001b[0m\u001b[0mself\u001b[0m\u001b[1;33m,\u001b[0m \u001b[0mendog\u001b[0m\u001b[1;33m,\u001b[0m \u001b[0mexog\u001b[0m\u001b[1;33m,\u001b[0m \u001b[1;33m**\u001b[0m\u001b[0mkwargs\u001b[0m\u001b[1;33m)\u001b[0m\u001b[1;33m:\u001b[0m\u001b[1;33m\u001b[0m\u001b[1;33m\u001b[0m\u001b[0m\n\u001b[1;32m--> 190\u001b[1;33m         \u001b[0msuper\u001b[0m\u001b[1;33m(\u001b[0m\u001b[0mRegressionModel\u001b[0m\u001b[1;33m,\u001b[0m \u001b[0mself\u001b[0m\u001b[1;33m)\u001b[0m\u001b[1;33m.\u001b[0m\u001b[0m__init__\u001b[0m\u001b[1;33m(\u001b[0m\u001b[0mendog\u001b[0m\u001b[1;33m,\u001b[0m \u001b[0mexog\u001b[0m\u001b[1;33m,\u001b[0m \u001b[1;33m**\u001b[0m\u001b[0mkwargs\u001b[0m\u001b[1;33m)\u001b[0m\u001b[1;33m\u001b[0m\u001b[1;33m\u001b[0m\u001b[0m\n\u001b[0m\u001b[0;32m    191\u001b[0m         \u001b[0mself\u001b[0m\u001b[1;33m.\u001b[0m\u001b[0m_data_attr\u001b[0m\u001b[1;33m.\u001b[0m\u001b[0mextend\u001b[0m\u001b[1;33m(\u001b[0m\u001b[1;33m[\u001b[0m\u001b[1;34m'pinv_wexog'\u001b[0m\u001b[1;33m,\u001b[0m \u001b[1;34m'weights'\u001b[0m\u001b[1;33m]\u001b[0m\u001b[1;33m)\u001b[0m\u001b[1;33m\u001b[0m\u001b[1;33m\u001b[0m\u001b[0m\n\u001b[0;32m    192\u001b[0m \u001b[1;33m\u001b[0m\u001b[0m\n",
      "\u001b[1;32m~\\anaconda3\\envs\\TCC\\lib\\site-packages\\statsmodels\\base\\model.py\u001b[0m in \u001b[0;36m__init__\u001b[1;34m(self, endog, exog, **kwargs)\u001b[0m\n\u001b[0;32m    235\u001b[0m \u001b[1;33m\u001b[0m\u001b[0m\n\u001b[0;32m    236\u001b[0m     \u001b[1;32mdef\u001b[0m \u001b[0m__init__\u001b[0m\u001b[1;33m(\u001b[0m\u001b[0mself\u001b[0m\u001b[1;33m,\u001b[0m \u001b[0mendog\u001b[0m\u001b[1;33m,\u001b[0m \u001b[0mexog\u001b[0m\u001b[1;33m=\u001b[0m\u001b[1;32mNone\u001b[0m\u001b[1;33m,\u001b[0m \u001b[1;33m**\u001b[0m\u001b[0mkwargs\u001b[0m\u001b[1;33m)\u001b[0m\u001b[1;33m:\u001b[0m\u001b[1;33m\u001b[0m\u001b[1;33m\u001b[0m\u001b[0m\n\u001b[1;32m--> 237\u001b[1;33m         \u001b[0msuper\u001b[0m\u001b[1;33m(\u001b[0m\u001b[0mLikelihoodModel\u001b[0m\u001b[1;33m,\u001b[0m \u001b[0mself\u001b[0m\u001b[1;33m)\u001b[0m\u001b[1;33m.\u001b[0m\u001b[0m__init__\u001b[0m\u001b[1;33m(\u001b[0m\u001b[0mendog\u001b[0m\u001b[1;33m,\u001b[0m \u001b[0mexog\u001b[0m\u001b[1;33m,\u001b[0m \u001b[1;33m**\u001b[0m\u001b[0mkwargs\u001b[0m\u001b[1;33m)\u001b[0m\u001b[1;33m\u001b[0m\u001b[1;33m\u001b[0m\u001b[0m\n\u001b[0m\u001b[0;32m    238\u001b[0m         \u001b[0mself\u001b[0m\u001b[1;33m.\u001b[0m\u001b[0minitialize\u001b[0m\u001b[1;33m(\u001b[0m\u001b[1;33m)\u001b[0m\u001b[1;33m\u001b[0m\u001b[1;33m\u001b[0m\u001b[0m\n\u001b[0;32m    239\u001b[0m \u001b[1;33m\u001b[0m\u001b[0m\n",
      "\u001b[1;32m~\\anaconda3\\envs\\TCC\\lib\\site-packages\\statsmodels\\base\\model.py\u001b[0m in \u001b[0;36m__init__\u001b[1;34m(self, endog, exog, **kwargs)\u001b[0m\n\u001b[0;32m     75\u001b[0m         \u001b[0mmissing\u001b[0m \u001b[1;33m=\u001b[0m \u001b[0mkwargs\u001b[0m\u001b[1;33m.\u001b[0m\u001b[0mpop\u001b[0m\u001b[1;33m(\u001b[0m\u001b[1;34m'missing'\u001b[0m\u001b[1;33m,\u001b[0m \u001b[1;34m'none'\u001b[0m\u001b[1;33m)\u001b[0m\u001b[1;33m\u001b[0m\u001b[1;33m\u001b[0m\u001b[0m\n\u001b[0;32m     76\u001b[0m         \u001b[0mhasconst\u001b[0m \u001b[1;33m=\u001b[0m \u001b[0mkwargs\u001b[0m\u001b[1;33m.\u001b[0m\u001b[0mpop\u001b[0m\u001b[1;33m(\u001b[0m\u001b[1;34m'hasconst'\u001b[0m\u001b[1;33m,\u001b[0m \u001b[1;32mNone\u001b[0m\u001b[1;33m)\u001b[0m\u001b[1;33m\u001b[0m\u001b[1;33m\u001b[0m\u001b[0m\n\u001b[1;32m---> 77\u001b[1;33m         self.data = self._handle_data(endog, exog, missing, hasconst,\n\u001b[0m\u001b[0;32m     78\u001b[0m                                       **kwargs)\n\u001b[0;32m     79\u001b[0m         \u001b[0mself\u001b[0m\u001b[1;33m.\u001b[0m\u001b[0mk_constant\u001b[0m \u001b[1;33m=\u001b[0m \u001b[0mself\u001b[0m\u001b[1;33m.\u001b[0m\u001b[0mdata\u001b[0m\u001b[1;33m.\u001b[0m\u001b[0mk_constant\u001b[0m\u001b[1;33m\u001b[0m\u001b[1;33m\u001b[0m\u001b[0m\n",
      "\u001b[1;32m~\\anaconda3\\envs\\TCC\\lib\\site-packages\\statsmodels\\base\\model.py\u001b[0m in \u001b[0;36m_handle_data\u001b[1;34m(self, endog, exog, missing, hasconst, **kwargs)\u001b[0m\n\u001b[0;32m     99\u001b[0m \u001b[1;33m\u001b[0m\u001b[0m\n\u001b[0;32m    100\u001b[0m     \u001b[1;32mdef\u001b[0m \u001b[0m_handle_data\u001b[0m\u001b[1;33m(\u001b[0m\u001b[0mself\u001b[0m\u001b[1;33m,\u001b[0m \u001b[0mendog\u001b[0m\u001b[1;33m,\u001b[0m \u001b[0mexog\u001b[0m\u001b[1;33m,\u001b[0m \u001b[0mmissing\u001b[0m\u001b[1;33m,\u001b[0m \u001b[0mhasconst\u001b[0m\u001b[1;33m,\u001b[0m \u001b[1;33m**\u001b[0m\u001b[0mkwargs\u001b[0m\u001b[1;33m)\u001b[0m\u001b[1;33m:\u001b[0m\u001b[1;33m\u001b[0m\u001b[1;33m\u001b[0m\u001b[0m\n\u001b[1;32m--> 101\u001b[1;33m         \u001b[0mdata\u001b[0m \u001b[1;33m=\u001b[0m \u001b[0mhandle_data\u001b[0m\u001b[1;33m(\u001b[0m\u001b[0mendog\u001b[0m\u001b[1;33m,\u001b[0m \u001b[0mexog\u001b[0m\u001b[1;33m,\u001b[0m \u001b[0mmissing\u001b[0m\u001b[1;33m,\u001b[0m \u001b[0mhasconst\u001b[0m\u001b[1;33m,\u001b[0m \u001b[1;33m**\u001b[0m\u001b[0mkwargs\u001b[0m\u001b[1;33m)\u001b[0m\u001b[1;33m\u001b[0m\u001b[1;33m\u001b[0m\u001b[0m\n\u001b[0m\u001b[0;32m    102\u001b[0m         \u001b[1;31m# kwargs arrays could have changed, easier to just attach here\u001b[0m\u001b[1;33m\u001b[0m\u001b[1;33m\u001b[0m\u001b[1;33m\u001b[0m\u001b[0m\n\u001b[0;32m    103\u001b[0m         \u001b[1;32mfor\u001b[0m \u001b[0mkey\u001b[0m \u001b[1;32min\u001b[0m \u001b[0mkwargs\u001b[0m\u001b[1;33m:\u001b[0m\u001b[1;33m\u001b[0m\u001b[1;33m\u001b[0m\u001b[0m\n",
      "\u001b[1;32m~\\anaconda3\\envs\\TCC\\lib\\site-packages\\statsmodels\\base\\data.py\u001b[0m in \u001b[0;36mhandle_data\u001b[1;34m(endog, exog, missing, hasconst, **kwargs)\u001b[0m\n\u001b[0;32m    670\u001b[0m \u001b[1;33m\u001b[0m\u001b[0m\n\u001b[0;32m    671\u001b[0m     \u001b[0mklass\u001b[0m \u001b[1;33m=\u001b[0m \u001b[0mhandle_data_class_factory\u001b[0m\u001b[1;33m(\u001b[0m\u001b[0mendog\u001b[0m\u001b[1;33m,\u001b[0m \u001b[0mexog\u001b[0m\u001b[1;33m)\u001b[0m\u001b[1;33m\u001b[0m\u001b[1;33m\u001b[0m\u001b[0m\n\u001b[1;32m--> 672\u001b[1;33m     return klass(endog, exog=exog, missing=missing, hasconst=hasconst,\n\u001b[0m\u001b[0;32m    673\u001b[0m                  **kwargs)\n",
      "\u001b[1;32m~\\anaconda3\\envs\\TCC\\lib\\site-packages\\statsmodels\\base\\data.py\u001b[0m in \u001b[0;36m__init__\u001b[1;34m(self, endog, exog, missing, hasconst, **kwargs)\u001b[0m\n\u001b[0;32m     85\u001b[0m         \u001b[0mself\u001b[0m\u001b[1;33m.\u001b[0m\u001b[0mconst_idx\u001b[0m \u001b[1;33m=\u001b[0m \u001b[1;32mNone\u001b[0m\u001b[1;33m\u001b[0m\u001b[1;33m\u001b[0m\u001b[0m\n\u001b[0;32m     86\u001b[0m         \u001b[0mself\u001b[0m\u001b[1;33m.\u001b[0m\u001b[0mk_constant\u001b[0m \u001b[1;33m=\u001b[0m \u001b[1;36m0\u001b[0m\u001b[1;33m\u001b[0m\u001b[1;33m\u001b[0m\u001b[0m\n\u001b[1;32m---> 87\u001b[1;33m         \u001b[0mself\u001b[0m\u001b[1;33m.\u001b[0m\u001b[0m_handle_constant\u001b[0m\u001b[1;33m(\u001b[0m\u001b[0mhasconst\u001b[0m\u001b[1;33m)\u001b[0m\u001b[1;33m\u001b[0m\u001b[1;33m\u001b[0m\u001b[0m\n\u001b[0m\u001b[0;32m     88\u001b[0m         \u001b[0mself\u001b[0m\u001b[1;33m.\u001b[0m\u001b[0m_check_integrity\u001b[0m\u001b[1;33m(\u001b[0m\u001b[1;33m)\u001b[0m\u001b[1;33m\u001b[0m\u001b[1;33m\u001b[0m\u001b[0m\n\u001b[0;32m     89\u001b[0m         \u001b[0mself\u001b[0m\u001b[1;33m.\u001b[0m\u001b[0m_cache\u001b[0m \u001b[1;33m=\u001b[0m \u001b[1;33m{\u001b[0m\u001b[1;33m}\u001b[0m\u001b[1;33m\u001b[0m\u001b[1;33m\u001b[0m\u001b[0m\n",
      "\u001b[1;32m~\\anaconda3\\envs\\TCC\\lib\\site-packages\\statsmodels\\base\\data.py\u001b[0m in \u001b[0;36m_handle_constant\u001b[1;34m(self, hasconst)\u001b[0m\n\u001b[0;32m    131\u001b[0m             \u001b[0mexog_max\u001b[0m \u001b[1;33m=\u001b[0m \u001b[0mnp\u001b[0m\u001b[1;33m.\u001b[0m\u001b[0mmax\u001b[0m\u001b[1;33m(\u001b[0m\u001b[0mself\u001b[0m\u001b[1;33m.\u001b[0m\u001b[0mexog\u001b[0m\u001b[1;33m,\u001b[0m \u001b[0maxis\u001b[0m\u001b[1;33m=\u001b[0m\u001b[1;36m0\u001b[0m\u001b[1;33m)\u001b[0m\u001b[1;33m\u001b[0m\u001b[1;33m\u001b[0m\u001b[0m\n\u001b[0;32m    132\u001b[0m             \u001b[1;32mif\u001b[0m \u001b[1;32mnot\u001b[0m \u001b[0mnp\u001b[0m\u001b[1;33m.\u001b[0m\u001b[0misfinite\u001b[0m\u001b[1;33m(\u001b[0m\u001b[0mexog_max\u001b[0m\u001b[1;33m)\u001b[0m\u001b[1;33m.\u001b[0m\u001b[0mall\u001b[0m\u001b[1;33m(\u001b[0m\u001b[1;33m)\u001b[0m\u001b[1;33m:\u001b[0m\u001b[1;33m\u001b[0m\u001b[1;33m\u001b[0m\u001b[0m\n\u001b[1;32m--> 133\u001b[1;33m                 \u001b[1;32mraise\u001b[0m \u001b[0mMissingDataError\u001b[0m\u001b[1;33m(\u001b[0m\u001b[1;34m'exog contains inf or nans'\u001b[0m\u001b[1;33m)\u001b[0m\u001b[1;33m\u001b[0m\u001b[1;33m\u001b[0m\u001b[0m\n\u001b[0m\u001b[0;32m    134\u001b[0m             \u001b[0mexog_min\u001b[0m \u001b[1;33m=\u001b[0m \u001b[0mnp\u001b[0m\u001b[1;33m.\u001b[0m\u001b[0mmin\u001b[0m\u001b[1;33m(\u001b[0m\u001b[0mself\u001b[0m\u001b[1;33m.\u001b[0m\u001b[0mexog\u001b[0m\u001b[1;33m,\u001b[0m \u001b[0maxis\u001b[0m\u001b[1;33m=\u001b[0m\u001b[1;36m0\u001b[0m\u001b[1;33m)\u001b[0m\u001b[1;33m\u001b[0m\u001b[1;33m\u001b[0m\u001b[0m\n\u001b[0;32m    135\u001b[0m             \u001b[0mconst_idx\u001b[0m \u001b[1;33m=\u001b[0m \u001b[0mnp\u001b[0m\u001b[1;33m.\u001b[0m\u001b[0mwhere\u001b[0m\u001b[1;33m(\u001b[0m\u001b[0mexog_max\u001b[0m \u001b[1;33m==\u001b[0m \u001b[0mexog_min\u001b[0m\u001b[1;33m)\u001b[0m\u001b[1;33m[\u001b[0m\u001b[1;36m0\u001b[0m\u001b[1;33m]\u001b[0m\u001b[1;33m.\u001b[0m\u001b[0msqueeze\u001b[0m\u001b[1;33m(\u001b[0m\u001b[1;33m)\u001b[0m\u001b[1;33m\u001b[0m\u001b[1;33m\u001b[0m\u001b[0m\n",
      "\u001b[1;31mMissingDataError\u001b[0m: exog contains inf or nans"
     ]
    }
   ],
   "source": [
    "df_new = select_tickers_seazonals(dfExcel)"
   ]
  },
  {
   "cell_type": "code",
   "execution_count": 24,
   "id": "f71b0312",
   "metadata": {},
   "outputs": [],
   "source": [
    "def adf_test(y):\n",
    "  print('Resultado do teste de Dick-Fuller:')\n",
    "  dftest = adfuller(y, autolag='AIC')\n",
    "  dfoutput = pd.Series(dftest[0:4], index=['Teste', 'Valor P', '# de lags', '# de observações'])\n",
    "  for key, value in dftest[4].items():\n",
    "    dfoutput['Valor crítico({})'.format(key)] = value\n",
    "  print(dfoutput)"
   ]
  },
  {
   "cell_type": "code",
   "execution_count": 163,
   "id": "65925148",
   "metadata": {},
   "outputs": [
    {
     "data": {
      "text/html": [
       "<div>\n",
       "<style scoped>\n",
       "    .dataframe tbody tr th:only-of-type {\n",
       "        vertical-align: middle;\n",
       "    }\n",
       "\n",
       "    .dataframe tbody tr th {\n",
       "        vertical-align: top;\n",
       "    }\n",
       "\n",
       "    .dataframe thead th {\n",
       "        text-align: right;\n",
       "    }\n",
       "</style>\n",
       "<table border=\"1\" class=\"dataframe\">\n",
       "  <thead>\n",
       "    <tr style=\"text-align: right;\">\n",
       "      <th></th>\n",
       "      <th>High</th>\n",
       "      <th>Low</th>\n",
       "      <th>Open</th>\n",
       "      <th>Close</th>\n",
       "      <th>Volume</th>\n",
       "      <th>Adj Close</th>\n",
       "      <th>Ticker</th>\n",
       "      <th>Var</th>\n",
       "      <th>Category</th>\n",
       "    </tr>\n",
       "    <tr>\n",
       "      <th>Date</th>\n",
       "      <th></th>\n",
       "      <th></th>\n",
       "      <th></th>\n",
       "      <th></th>\n",
       "      <th></th>\n",
       "      <th></th>\n",
       "      <th></th>\n",
       "      <th></th>\n",
       "      <th></th>\n",
       "    </tr>\n",
       "  </thead>\n",
       "  <tbody>\n",
       "    <tr>\n",
       "      <th>2017-11-01</th>\n",
       "      <td>21.320000</td>\n",
       "      <td>17.100000</td>\n",
       "      <td>20.010000</td>\n",
       "      <td>17.510000</td>\n",
       "      <td>46209900.0</td>\n",
       "      <td>16.879461</td>\n",
       "      <td>SUZB3.SA</td>\n",
       "      <td>-12.493753</td>\n",
       "      <td>-10</td>\n",
       "    </tr>\n",
       "    <tr>\n",
       "      <th>2017-12-01</th>\n",
       "      <td>19.280001</td>\n",
       "      <td>17.030001</td>\n",
       "      <td>17.299999</td>\n",
       "      <td>18.690001</td>\n",
       "      <td>52593100.0</td>\n",
       "      <td>18.200478</td>\n",
       "      <td>SUZB3.SA</td>\n",
       "      <td>8.034690</td>\n",
       "      <td>10</td>\n",
       "    </tr>\n",
       "    <tr>\n",
       "      <th>2018-01-01</th>\n",
       "      <td>21.799999</td>\n",
       "      <td>18.410000</td>\n",
       "      <td>18.690001</td>\n",
       "      <td>20.660000</td>\n",
       "      <td>71058300.0</td>\n",
       "      <td>20.118879</td>\n",
       "      <td>SUZB3.SA</td>\n",
       "      <td>10.540392</td>\n",
       "      <td>10</td>\n",
       "    </tr>\n",
       "    <tr>\n",
       "      <th>2018-02-01</th>\n",
       "      <td>23.469999</td>\n",
       "      <td>19.299999</td>\n",
       "      <td>20.680000</td>\n",
       "      <td>21.750000</td>\n",
       "      <td>75160600.0</td>\n",
       "      <td>21.180330</td>\n",
       "      <td>SUZB3.SA</td>\n",
       "      <td>5.174080</td>\n",
       "      <td>6</td>\n",
       "    </tr>\n",
       "    <tr>\n",
       "      <th>2018-03-01</th>\n",
       "      <td>34.759998</td>\n",
       "      <td>21.250000</td>\n",
       "      <td>21.959999</td>\n",
       "      <td>33.360001</td>\n",
       "      <td>182777100.0</td>\n",
       "      <td>32.486248</td>\n",
       "      <td>SUZB3.SA</td>\n",
       "      <td>51.912577</td>\n",
       "      <td>10</td>\n",
       "    </tr>\n",
       "  </tbody>\n",
       "</table>\n",
       "</div>"
      ],
      "text/plain": [
       "                 High        Low       Open      Close       Volume  \\\n",
       "Date                                                                  \n",
       "2017-11-01  21.320000  17.100000  20.010000  17.510000   46209900.0   \n",
       "2017-12-01  19.280001  17.030001  17.299999  18.690001   52593100.0   \n",
       "2018-01-01  21.799999  18.410000  18.690001  20.660000   71058300.0   \n",
       "2018-02-01  23.469999  19.299999  20.680000  21.750000   75160600.0   \n",
       "2018-03-01  34.759998  21.250000  21.959999  33.360001  182777100.0   \n",
       "\n",
       "            Adj Close    Ticker        Var  Category  \n",
       "Date                                                  \n",
       "2017-11-01  16.879461  SUZB3.SA -12.493753       -10  \n",
       "2017-12-01  18.200478  SUZB3.SA   8.034690        10  \n",
       "2018-01-01  20.118879  SUZB3.SA  10.540392        10  \n",
       "2018-02-01  21.180330  SUZB3.SA   5.174080         6  \n",
       "2018-03-01  32.486248  SUZB3.SA  51.912577        10  "
      ]
     },
     "execution_count": 163,
     "metadata": {},
     "output_type": "execute_result"
    }
   ],
   "source": [
    "list_df[111].head()"
   ]
  },
  {
   "cell_type": "code",
   "execution_count": 194,
   "id": "bd215000",
   "metadata": {},
   "outputs": [
    {
     "name": "stdout",
     "output_type": "stream",
     "text": [
      "Resultado do teste de Dick-Fuller:\n",
      "Teste                 -2.161626\n",
      "Valor P                0.220467\n",
      "# de lags              0.000000\n",
      "# de observações      49.000000\n",
      "Valor crítico(1%)     -3.571472\n",
      "Valor crítico(5%)     -2.922629\n",
      "Valor crítico(10%)    -2.599336\n",
      "dtype: float64\n"
     ]
    }
   ],
   "source": [
    "adf_test(list_df[111]['Close'])"
   ]
  },
  {
   "cell_type": "code",
   "execution_count": 195,
   "id": "fee7eea0",
   "metadata": {},
   "outputs": [],
   "source": [
    "y = test_and_transform_stationary_ts(list_df[111]['Close'])"
   ]
  },
  {
   "cell_type": "code",
   "execution_count": 196,
   "id": "92bcfc0e",
   "metadata": {},
   "outputs": [
    {
     "name": "stdout",
     "output_type": "stream",
     "text": [
      "Resultado do teste de Dick-Fuller:\n",
      "Teste                 -2.892851\n",
      "Valor P                0.046186\n",
      "# de lags              0.000000\n",
      "# de observações      49.000000\n",
      "Valor crítico(1%)     -3.571472\n",
      "Valor crítico(5%)     -2.922629\n",
      "Valor crítico(10%)    -2.599336\n",
      "dtype: float64\n"
     ]
    }
   ],
   "source": [
    "adf_test(y)"
   ]
  },
  {
   "cell_type": "code",
   "execution_count": 108,
   "id": "bbb068cf",
   "metadata": {},
   "outputs": [
    {
     "name": "stdout",
     "output_type": "stream",
     "text": [
      "Resultado do teste de Dick-Fuller:\n",
      "Teste                -1.636407e+01\n",
      "Valor P               2.852005e-29\n",
      "# de lags             0.000000e+00\n",
      "# de observações      2.580000e+02\n",
      "Valor crítico(1%)    -3.455953e+00\n",
      "Valor crítico(5%)    -2.872809e+00\n",
      "Valor crítico(10%)   -2.572775e+00\n",
      "dtype: float64\n"
     ]
    }
   ],
   "source": [
    "adf_test(list_df[73]['Var'])"
   ]
  },
  {
   "cell_type": "code",
   "execution_count": 236,
   "id": "ea121070",
   "metadata": {},
   "outputs": [],
   "source": [
    "y = list_df[111]['Category']"
   ]
  },
  {
   "cell_type": "code",
   "execution_count": 239,
   "id": "9228d230",
   "metadata": {},
   "outputs": [
    {
     "data": {
      "text/plain": [
       "array([-10,  10,  10,   6,  10,  10,   6,   4,  -2,   6,  -2, -10,  10,\n",
       "       -10,  10,   4,  -4, -10, -10,   2,  -8,  -6,  10,  -4,  10,   4,\n",
       "        -2,  -4,  -8,  10,  -4,  -4,  10,  10, -10,  10,  10,   6,   6,\n",
       "        10,  -8,  -2, -10,  -2, -10,  10, -10, -10,   4,   4], dtype=int64)"
      ]
     },
     "execution_count": 239,
     "metadata": {},
     "output_type": "execute_result"
    }
   ],
   "source": [
    "y.values"
   ]
  },
  {
   "cell_type": "code",
   "execution_count": 31,
   "id": "54faca99",
   "metadata": {},
   "outputs": [],
   "source": [
    "rolmean = y.rolling(window=12).mean()\n",
    "rolstd = y.rolling(window=12).std()"
   ]
  },
  {
   "cell_type": "code",
   "execution_count": 32,
   "id": "54e186af",
   "metadata": {},
   "outputs": [
    {
     "name": "stderr",
     "output_type": "stream",
     "text": [
      "C:\\Anaconda3\\lib\\site-packages\\pandas\\core\\arraylike.py:358: RuntimeWarning: invalid value encountered in log\n",
      "  result = getattr(ufunc, method)(*inputs, **kwargs)\n"
     ]
    },
    {
     "data": {
      "text/plain": [
       "[<matplotlib.lines.Line2D at 0x20ea3e59fd0>]"
      ]
     },
     "execution_count": 32,
     "metadata": {},
     "output_type": "execute_result"
    },
    {
     "data": {
      "image/png": "[encoded data removed]",
      "text/plain": [
       "<Figure size 1080x432 with 1 Axes>"
      ]
     },
     "metadata": {
      "needs_background": "light"
     },
     "output_type": "display_data"
    }
   ],
   "source": [
    "indexedDataSet_logScale = np.log(y)\n",
    "plt.plot(indexedDataSet_logScale)"
   ]
  },
  {
   "cell_type": "code",
   "execution_count": 33,
   "id": "e358c657",
   "metadata": {},
   "outputs": [
    {
     "data": {
      "text/plain": [
       "[<matplotlib.lines.Line2D at 0x20ea41cf340>]"
      ]
     },
     "execution_count": 33,
     "metadata": {},
     "output_type": "execute_result"
    },
    {
     "data": {
      "image/png": "[encoded data removed]",
      "text/plain": [
       "<Figure size 1080x432 with 1 Axes>"
      ]
     },
     "metadata": {
      "needs_background": "light"
     },
     "output_type": "display_data"
    }
   ],
   "source": [
    "movingAverage = indexedDataSet_logScale.rolling(window=12).mean()\n",
    "movingStd = indexedDataSet_logScale.rolling(window=12).std()\n",
    "plt.plot(indexedDataSet_logScale)\n",
    "plt.plot(movingAverage, color='red')"
   ]
  },
  {
   "cell_type": "code",
   "execution_count": 35,
   "id": "53ca8180",
   "metadata": {},
   "outputs": [
    {
     "data": {
      "text/plain": [
       "Date\n",
       "2000-02-01   NaN\n",
       "2000-03-01   NaN\n",
       "2000-04-01   NaN\n",
       "2000-05-01   NaN\n",
       "2000-06-01   NaN\n",
       "Name: Var, dtype: float64"
      ]
     },
     "execution_count": 35,
     "metadata": {},
     "output_type": "execute_result"
    }
   ],
   "source": [
    "datasetLogScaleMinusMovingAverage = indexedDataSet_logScale - movingAverage\n",
    "datasetLogScaleMinusMovingAverage.head()"
   ]
  },
  {
   "cell_type": "code",
   "execution_count": 36,
   "id": "338e60ef",
   "metadata": {},
   "outputs": [
    {
     "data": {
      "text/plain": [
       "Series([], Name: Var, dtype: float64)"
      ]
     },
     "execution_count": 36,
     "metadata": {},
     "output_type": "execute_result"
    }
   ],
   "source": [
    "datasetLogScaleMinusMovingAverage.dropna(inplace=True) #remover os valores ausentes\n",
    "datasetLogScaleMinusMovingAverage.head()"
   ]
  },
  {
   "cell_type": "code",
   "execution_count": 37,
   "id": "51ff2cb6",
   "metadata": {},
   "outputs": [
    {
     "name": "stdout",
     "output_type": "stream",
     "text": [
      "Resultado do teste de Dick-Fuller:\n"
     ]
    },
    {
     "ename": "ValueError",
     "evalue": "sample size is too short to use selected regression component",
     "output_type": "error",
     "traceback": [
      "\u001b[1;31m---------------------------------------------------------------------------\u001b[0m",
      "\u001b[1;31mValueError\u001b[0m                                Traceback (most recent call last)",
      "\u001b[1;32m<ipython-input-37-c490a0d35841>\u001b[0m in \u001b[0;36m<module>\u001b[1;34m\u001b[0m\n\u001b[1;32m----> 1\u001b[1;33m \u001b[0madf_test\u001b[0m\u001b[1;33m(\u001b[0m\u001b[0mdatasetLogScaleMinusMovingAverage\u001b[0m\u001b[1;33m)\u001b[0m\u001b[1;33m\u001b[0m\u001b[1;33m\u001b[0m\u001b[0m\n\u001b[0m",
      "\u001b[1;32m<ipython-input-24-4be8deb22aae>\u001b[0m in \u001b[0;36madf_test\u001b[1;34m(y)\u001b[0m\n\u001b[0;32m      1\u001b[0m \u001b[1;32mdef\u001b[0m \u001b[0madf_test\u001b[0m\u001b[1;33m(\u001b[0m\u001b[0my\u001b[0m\u001b[1;33m)\u001b[0m\u001b[1;33m:\u001b[0m\u001b[1;33m\u001b[0m\u001b[1;33m\u001b[0m\u001b[0m\n\u001b[0;32m      2\u001b[0m   \u001b[0mprint\u001b[0m\u001b[1;33m(\u001b[0m\u001b[1;34m'Resultado do teste de Dick-Fuller:'\u001b[0m\u001b[1;33m)\u001b[0m\u001b[1;33m\u001b[0m\u001b[1;33m\u001b[0m\u001b[0m\n\u001b[1;32m----> 3\u001b[1;33m   \u001b[0mdftest\u001b[0m \u001b[1;33m=\u001b[0m \u001b[0madfuller\u001b[0m\u001b[1;33m(\u001b[0m\u001b[0my\u001b[0m\u001b[1;33m,\u001b[0m \u001b[0mautolag\u001b[0m\u001b[1;33m=\u001b[0m\u001b[1;34m'AIC'\u001b[0m\u001b[1;33m)\u001b[0m\u001b[1;33m\u001b[0m\u001b[1;33m\u001b[0m\u001b[0m\n\u001b[0m\u001b[0;32m      4\u001b[0m   \u001b[0mdfoutput\u001b[0m \u001b[1;33m=\u001b[0m \u001b[0mpd\u001b[0m\u001b[1;33m.\u001b[0m\u001b[0mSeries\u001b[0m\u001b[1;33m(\u001b[0m\u001b[0mdftest\u001b[0m\u001b[1;33m[\u001b[0m\u001b[1;36m0\u001b[0m\u001b[1;33m:\u001b[0m\u001b[1;36m4\u001b[0m\u001b[1;33m]\u001b[0m\u001b[1;33m,\u001b[0m \u001b[0mindex\u001b[0m\u001b[1;33m=\u001b[0m\u001b[1;33m[\u001b[0m\u001b[1;34m'Teste'\u001b[0m\u001b[1;33m,\u001b[0m \u001b[1;34m'Valor P'\u001b[0m\u001b[1;33m,\u001b[0m \u001b[1;34m'# de lags'\u001b[0m\u001b[1;33m,\u001b[0m \u001b[1;34m'# de observações'\u001b[0m\u001b[1;33m]\u001b[0m\u001b[1;33m)\u001b[0m\u001b[1;33m\u001b[0m\u001b[1;33m\u001b[0m\u001b[0m\n\u001b[0;32m      5\u001b[0m   \u001b[1;32mfor\u001b[0m \u001b[0mkey\u001b[0m\u001b[1;33m,\u001b[0m \u001b[0mvalue\u001b[0m \u001b[1;32min\u001b[0m \u001b[0mdftest\u001b[0m\u001b[1;33m[\u001b[0m\u001b[1;36m4\u001b[0m\u001b[1;33m]\u001b[0m\u001b[1;33m.\u001b[0m\u001b[0mitems\u001b[0m\u001b[1;33m(\u001b[0m\u001b[1;33m)\u001b[0m\u001b[1;33m:\u001b[0m\u001b[1;33m\u001b[0m\u001b[1;33m\u001b[0m\u001b[0m\n",
      "\u001b[1;32mC:\\Anaconda3\\lib\\site-packages\\statsmodels\\tsa\\stattools.py\u001b[0m in \u001b[0;36madfuller\u001b[1;34m(x, maxlag, regression, autolag, store, regresults)\u001b[0m\n\u001b[0;32m    279\u001b[0m         \u001b[0mmaxlag\u001b[0m \u001b[1;33m=\u001b[0m \u001b[0mmin\u001b[0m\u001b[1;33m(\u001b[0m\u001b[0mnobs\u001b[0m \u001b[1;33m//\u001b[0m \u001b[1;36m2\u001b[0m \u001b[1;33m-\u001b[0m \u001b[0mntrend\u001b[0m \u001b[1;33m-\u001b[0m \u001b[1;36m1\u001b[0m\u001b[1;33m,\u001b[0m \u001b[0mmaxlag\u001b[0m\u001b[1;33m)\u001b[0m\u001b[1;33m\u001b[0m\u001b[1;33m\u001b[0m\u001b[0m\n\u001b[0;32m    280\u001b[0m         \u001b[1;32mif\u001b[0m \u001b[0mmaxlag\u001b[0m \u001b[1;33m<\u001b[0m \u001b[1;36m0\u001b[0m\u001b[1;33m:\u001b[0m\u001b[1;33m\u001b[0m\u001b[1;33m\u001b[0m\u001b[0m\n\u001b[1;32m--> 281\u001b[1;33m             raise ValueError(\n\u001b[0m\u001b[0;32m    282\u001b[0m                 \u001b[1;34m\"sample size is too short to use selected \"\u001b[0m\u001b[1;33m\u001b[0m\u001b[1;33m\u001b[0m\u001b[0m\n\u001b[0;32m    283\u001b[0m                 \u001b[1;34m\"regression component\"\u001b[0m\u001b[1;33m\u001b[0m\u001b[1;33m\u001b[0m\u001b[0m\n",
      "\u001b[1;31mValueError\u001b[0m: sample size is too short to use selected regression component"
     ]
    }
   ],
   "source": [
    "adf_test(datasetLogScaleMinusMovingAverage)"
   ]
  },
  {
   "cell_type": "code",
   "execution_count": 85,
   "id": "a2996eaf",
   "metadata": {
    "scrolled": true
   },
   "outputs": [],
   "source": [
    "#list_df[0].head(2).round(2).sort_values(ascending=True, by='High' )"
   ]
  },
  {
   "cell_type": "code",
   "execution_count": 110,
   "id": "cbdb4e95",
   "metadata": {},
   "outputs": [
    {
     "name": "stderr",
     "output_type": "stream",
     "text": [
      "<ipython-input-110-ef8adff48f83>:1: FutureWarning: the 'freq'' keyword is deprecated, use 'period' instead\n",
      "  result = seasonal_decompose(y, freq=12, model='aditive')\n"
     ]
    },
    {
     "data": {
      "image/png": "[encoded data removed]",
      "text/plain": [
       "<Figure size 1080x432 with 4 Axes>"
      ]
     },
     "metadata": {
      "needs_background": "light"
     },
     "output_type": "display_data"
    }
   ],
   "source": [
    "result = seasonal_decompose(y, freq=12, model='aditive')\n",
    "result.plot()\n",
    "plt.show()"
   ]
  },
  {
   "cell_type": "code",
   "execution_count": 111,
   "id": "3bc22e5f",
   "metadata": {},
   "outputs": [
    {
     "data": {
      "text/plain": [
       "-0.5434628781285554"
      ]
     },
     "execution_count": 111,
     "metadata": {},
     "output_type": "execute_result"
    }
   ],
   "source": [
    "max_seazonal_cls = (0.1 - (result.resid/(result.seasonal + result.resid)))\n",
    "max_seazonal_cls.mean()"
   ]
  },
  {
   "cell_type": "code",
   "execution_count": 112,
   "id": "375004ab",
   "metadata": {},
   "outputs": [
    {
     "data": {
      "text/plain": [
       "0.23704341028251555"
      ]
     },
     "execution_count": 112,
     "metadata": {},
     "output_type": "execute_result"
    }
   ],
   "source": [
    "max_trend_cls = (0.1 - (result.resid/(result.trend + result.resid)))\n",
    "max_trend_cls.mean()"
   ]
  },
  {
   "cell_type": "code",
   "execution_count": 209,
   "id": "cac11b23",
   "metadata": {},
   "outputs": [],
   "source": [
    "dfSTL = y"
   ]
  },
  {
   "cell_type": "code",
   "execution_count": 210,
   "id": "6c1f475e",
   "metadata": {},
   "outputs": [
    {
     "data": {
      "text/html": [
       "<div>\n",
       "<style scoped>\n",
       "    .dataframe tbody tr th:only-of-type {\n",
       "        vertical-align: middle;\n",
       "    }\n",
       "\n",
       "    .dataframe tbody tr th {\n",
       "        vertical-align: top;\n",
       "    }\n",
       "\n",
       "    .dataframe thead th {\n",
       "        text-align: right;\n",
       "    }\n",
       "</style>\n",
       "<table border=\"1\" class=\"dataframe\">\n",
       "  <thead>\n",
       "    <tr style=\"text-align: right;\">\n",
       "      <th></th>\n",
       "      <th>Category</th>\n",
       "    </tr>\n",
       "    <tr>\n",
       "      <th>Date</th>\n",
       "      <th></th>\n",
       "    </tr>\n",
       "  </thead>\n",
       "  <tbody>\n",
       "    <tr>\n",
       "      <th>2017-11-01</th>\n",
       "      <td>-10</td>\n",
       "    </tr>\n",
       "    <tr>\n",
       "      <th>2017-12-01</th>\n",
       "      <td>10</td>\n",
       "    </tr>\n",
       "    <tr>\n",
       "      <th>2018-01-01</th>\n",
       "      <td>10</td>\n",
       "    </tr>\n",
       "    <tr>\n",
       "      <th>2018-02-01</th>\n",
       "      <td>6</td>\n",
       "    </tr>\n",
       "    <tr>\n",
       "      <th>2018-03-01</th>\n",
       "      <td>10</td>\n",
       "    </tr>\n",
       "  </tbody>\n",
       "</table>\n",
       "</div>"
      ],
      "text/plain": [
       "            Category\n",
       "Date                \n",
       "2017-11-01       -10\n",
       "2017-12-01        10\n",
       "2018-01-01        10\n",
       "2018-02-01         6\n",
       "2018-03-01        10"
      ]
     },
     "execution_count": 210,
     "metadata": {},
     "output_type": "execute_result"
    }
   ],
   "source": [
    "dfSTL = pd.DataFrame(dfSTL)\n",
    "dfSTL.head()"
   ]
  },
  {
   "cell_type": "code",
   "execution_count": 211,
   "id": "dcdc0e5f",
   "metadata": {},
   "outputs": [
    {
     "data": {
      "text/html": [
       "<div>\n",
       "<style scoped>\n",
       "    .dataframe tbody tr th:only-of-type {\n",
       "        vertical-align: middle;\n",
       "    }\n",
       "\n",
       "    .dataframe tbody tr th {\n",
       "        vertical-align: top;\n",
       "    }\n",
       "\n",
       "    .dataframe thead th {\n",
       "        text-align: right;\n",
       "    }\n",
       "</style>\n",
       "<table border=\"1\" class=\"dataframe\">\n",
       "  <thead>\n",
       "    <tr style=\"text-align: right;\">\n",
       "      <th></th>\n",
       "      <th>Category</th>\n",
       "    </tr>\n",
       "    <tr>\n",
       "      <th>Date</th>\n",
       "      <th></th>\n",
       "    </tr>\n",
       "  </thead>\n",
       "  <tbody>\n",
       "    <tr>\n",
       "      <th>2017-11-01</th>\n",
       "      <td>-10</td>\n",
       "    </tr>\n",
       "    <tr>\n",
       "      <th>2017-12-01</th>\n",
       "      <td>10</td>\n",
       "    </tr>\n",
       "    <tr>\n",
       "      <th>2018-01-01</th>\n",
       "      <td>10</td>\n",
       "    </tr>\n",
       "    <tr>\n",
       "      <th>2018-02-01</th>\n",
       "      <td>6</td>\n",
       "    </tr>\n",
       "    <tr>\n",
       "      <th>2018-03-01</th>\n",
       "      <td>10</td>\n",
       "    </tr>\n",
       "    <tr>\n",
       "      <th>2018-04-01</th>\n",
       "      <td>10</td>\n",
       "    </tr>\n",
       "    <tr>\n",
       "      <th>2018-05-01</th>\n",
       "      <td>6</td>\n",
       "    </tr>\n",
       "    <tr>\n",
       "      <th>2018-06-01</th>\n",
       "      <td>4</td>\n",
       "    </tr>\n",
       "    <tr>\n",
       "      <th>2018-07-01</th>\n",
       "      <td>-2</td>\n",
       "    </tr>\n",
       "    <tr>\n",
       "      <th>2018-08-01</th>\n",
       "      <td>6</td>\n",
       "    </tr>\n",
       "    <tr>\n",
       "      <th>2018-09-01</th>\n",
       "      <td>-2</td>\n",
       "    </tr>\n",
       "    <tr>\n",
       "      <th>2018-10-01</th>\n",
       "      <td>-10</td>\n",
       "    </tr>\n",
       "    <tr>\n",
       "      <th>2018-11-01</th>\n",
       "      <td>10</td>\n",
       "    </tr>\n",
       "    <tr>\n",
       "      <th>2018-12-01</th>\n",
       "      <td>-10</td>\n",
       "    </tr>\n",
       "    <tr>\n",
       "      <th>2019-01-01</th>\n",
       "      <td>10</td>\n",
       "    </tr>\n",
       "    <tr>\n",
       "      <th>2019-02-01</th>\n",
       "      <td>4</td>\n",
       "    </tr>\n",
       "    <tr>\n",
       "      <th>2019-03-01</th>\n",
       "      <td>-4</td>\n",
       "    </tr>\n",
       "    <tr>\n",
       "      <th>2019-04-01</th>\n",
       "      <td>-10</td>\n",
       "    </tr>\n",
       "    <tr>\n",
       "      <th>2019-05-01</th>\n",
       "      <td>-10</td>\n",
       "    </tr>\n",
       "    <tr>\n",
       "      <th>2019-06-01</th>\n",
       "      <td>2</td>\n",
       "    </tr>\n",
       "    <tr>\n",
       "      <th>2019-07-01</th>\n",
       "      <td>-8</td>\n",
       "    </tr>\n",
       "    <tr>\n",
       "      <th>2019-08-01</th>\n",
       "      <td>-6</td>\n",
       "    </tr>\n",
       "    <tr>\n",
       "      <th>2019-09-01</th>\n",
       "      <td>10</td>\n",
       "    </tr>\n",
       "    <tr>\n",
       "      <th>2019-10-01</th>\n",
       "      <td>-4</td>\n",
       "    </tr>\n",
       "    <tr>\n",
       "      <th>2019-11-01</th>\n",
       "      <td>10</td>\n",
       "    </tr>\n",
       "    <tr>\n",
       "      <th>2019-12-01</th>\n",
       "      <td>4</td>\n",
       "    </tr>\n",
       "    <tr>\n",
       "      <th>2020-01-01</th>\n",
       "      <td>-2</td>\n",
       "    </tr>\n",
       "    <tr>\n",
       "      <th>2020-02-01</th>\n",
       "      <td>-4</td>\n",
       "    </tr>\n",
       "    <tr>\n",
       "      <th>2020-03-01</th>\n",
       "      <td>-8</td>\n",
       "    </tr>\n",
       "    <tr>\n",
       "      <th>2020-04-01</th>\n",
       "      <td>10</td>\n",
       "    </tr>\n",
       "    <tr>\n",
       "      <th>2020-05-01</th>\n",
       "      <td>-4</td>\n",
       "    </tr>\n",
       "    <tr>\n",
       "      <th>2020-06-01</th>\n",
       "      <td>-4</td>\n",
       "    </tr>\n",
       "    <tr>\n",
       "      <th>2020-07-01</th>\n",
       "      <td>10</td>\n",
       "    </tr>\n",
       "    <tr>\n",
       "      <th>2020-08-01</th>\n",
       "      <td>10</td>\n",
       "    </tr>\n",
       "    <tr>\n",
       "      <th>2020-09-01</th>\n",
       "      <td>-10</td>\n",
       "    </tr>\n",
       "    <tr>\n",
       "      <th>2020-10-01</th>\n",
       "      <td>10</td>\n",
       "    </tr>\n",
       "    <tr>\n",
       "      <th>2020-11-01</th>\n",
       "      <td>10</td>\n",
       "    </tr>\n",
       "    <tr>\n",
       "      <th>2020-12-01</th>\n",
       "      <td>6</td>\n",
       "    </tr>\n",
       "    <tr>\n",
       "      <th>2021-01-01</th>\n",
       "      <td>6</td>\n",
       "    </tr>\n",
       "    <tr>\n",
       "      <th>2021-02-01</th>\n",
       "      <td>10</td>\n",
       "    </tr>\n",
       "    <tr>\n",
       "      <th>2021-03-01</th>\n",
       "      <td>-8</td>\n",
       "    </tr>\n",
       "    <tr>\n",
       "      <th>2021-04-01</th>\n",
       "      <td>-2</td>\n",
       "    </tr>\n",
       "    <tr>\n",
       "      <th>2021-05-01</th>\n",
       "      <td>-10</td>\n",
       "    </tr>\n",
       "    <tr>\n",
       "      <th>2021-06-01</th>\n",
       "      <td>-2</td>\n",
       "    </tr>\n",
       "    <tr>\n",
       "      <th>2021-07-01</th>\n",
       "      <td>-10</td>\n",
       "    </tr>\n",
       "    <tr>\n",
       "      <th>2021-08-01</th>\n",
       "      <td>10</td>\n",
       "    </tr>\n",
       "    <tr>\n",
       "      <th>2021-09-01</th>\n",
       "      <td>-10</td>\n",
       "    </tr>\n",
       "    <tr>\n",
       "      <th>2021-10-01</th>\n",
       "      <td>-10</td>\n",
       "    </tr>\n",
       "    <tr>\n",
       "      <th>2021-11-01</th>\n",
       "      <td>4</td>\n",
       "    </tr>\n",
       "  </tbody>\n",
       "</table>\n",
       "</div>"
      ],
      "text/plain": [
       "            Category\n",
       "Date                \n",
       "2017-11-01       -10\n",
       "2017-12-01        10\n",
       "2018-01-01        10\n",
       "2018-02-01         6\n",
       "2018-03-01        10\n",
       "2018-04-01        10\n",
       "2018-05-01         6\n",
       "2018-06-01         4\n",
       "2018-07-01        -2\n",
       "2018-08-01         6\n",
       "2018-09-01        -2\n",
       "2018-10-01       -10\n",
       "2018-11-01        10\n",
       "2018-12-01       -10\n",
       "2019-01-01        10\n",
       "2019-02-01         4\n",
       "2019-03-01        -4\n",
       "2019-04-01       -10\n",
       "2019-05-01       -10\n",
       "2019-06-01         2\n",
       "2019-07-01        -8\n",
       "2019-08-01        -6\n",
       "2019-09-01        10\n",
       "2019-10-01        -4\n",
       "2019-11-01        10\n",
       "2019-12-01         4\n",
       "2020-01-01        -2\n",
       "2020-02-01        -4\n",
       "2020-03-01        -8\n",
       "2020-04-01        10\n",
       "2020-05-01        -4\n",
       "2020-06-01        -4\n",
       "2020-07-01        10\n",
       "2020-08-01        10\n",
       "2020-09-01       -10\n",
       "2020-10-01        10\n",
       "2020-11-01        10\n",
       "2020-12-01         6\n",
       "2021-01-01         6\n",
       "2021-02-01        10\n",
       "2021-03-01        -8\n",
       "2021-04-01        -2\n",
       "2021-05-01       -10\n",
       "2021-06-01        -2\n",
       "2021-07-01       -10\n",
       "2021-08-01        10\n",
       "2021-09-01       -10\n",
       "2021-10-01       -10\n",
       "2021-11-01         4"
      ]
     },
     "execution_count": 211,
     "metadata": {},
     "output_type": "execute_result"
    }
   ],
   "source": [
    "dfSTL.asfreq('MS')"
   ]
  },
  {
   "cell_type": "code",
   "execution_count": 212,
   "id": "0b0bb3a1",
   "metadata": {},
   "outputs": [
    {
     "data": {
      "image/png": "[encoded data removed]",
      "text/plain": [
       "<Figure size 1080x432 with 4 Axes>"
      ]
     },
     "metadata": {
      "needs_background": "light"
     },
     "output_type": "display_data"
    }
   ],
   "source": [
    "resultSTL = STL(dfSTL, robust=True, period=12).fit()\n",
    "resultSTL.plot()\n",
    "plt.show()"
   ]
  },
  {
   "cell_type": "code",
   "execution_count": 119,
   "id": "98857be8",
   "metadata": {
    "scrolled": true
   },
   "outputs": [
    {
     "data": {
      "text/plain": [
       "-1.0918541745515205"
      ]
     },
     "execution_count": 119,
     "metadata": {},
     "output_type": "execute_result"
    }
   ],
   "source": [
    "max_trend = (0.1 - (resultSTL.resid/(resultSTL.trend + resultSTL.resid)))\n",
    "max_trend.mean()"
   ]
  },
  {
   "cell_type": "code",
   "execution_count": 118,
   "id": "18e5073f",
   "metadata": {
    "scrolled": true
   },
   "outputs": [
    {
     "data": {
      "text/plain": [
       "-0.1761060922530939"
      ]
     },
     "execution_count": 118,
     "metadata": {},
     "output_type": "execute_result"
    }
   ],
   "source": [
    "max_seazonal = (0.1 - (resultSTL.resid/(resultSTL.seasonal + resultSTL.resid)))\n",
    "max_seazonal.mean()"
   ]
  },
  {
   "cell_type": "code",
   "execution_count": 93,
   "id": "6f24abe0",
   "metadata": {},
   "outputs": [],
   "source": [
    "resultSTL.trend.to_excel('resultSTL.xlsx', sheet_name='trend')"
   ]
  },
  {
   "cell_type": "code",
   "execution_count": 94,
   "id": "105d8067",
   "metadata": {},
   "outputs": [],
   "source": [
    "resultSTL.resid.to_excel('resultSTL.xlsx', sheet_name='resid')"
   ]
  },
  {
   "cell_type": "code",
   "execution_count": 95,
   "id": "45bffcec",
   "metadata": {},
   "outputs": [],
   "source": [
    "resultSTL.observed.to_excel('resultSTL.xlsx', sheet_name='observed')"
   ]
  },
  {
   "cell_type": "code",
   "execution_count": 96,
   "id": "76296124",
   "metadata": {},
   "outputs": [],
   "source": [
    "resultSTL.seasonal.to_excel('resultSTL.xlsx', sheet_name='seasonal')"
   ]
  },
  {
   "cell_type": "code",
   "execution_count": 97,
   "id": "66094ed2",
   "metadata": {},
   "outputs": [],
   "source": [
    "result.seasonal.to_excel('resultClassic.xlsx')"
   ]
  },
  {
   "cell_type": "code",
   "execution_count": 128,
   "id": "c30fba0e",
   "metadata": {},
   "outputs": [],
   "source": [
    "from pmdarima.arima import auto_arima"
   ]
  },
  {
   "cell_type": "code",
   "execution_count": 213,
   "id": "ec53319c",
   "metadata": {},
   "outputs": [],
   "source": [
    "y = dfSTL"
   ]
  },
  {
   "cell_type": "code",
   "execution_count": 214,
   "id": "babe3b19",
   "metadata": {},
   "outputs": [
    {
     "name": "stdout",
     "output_type": "stream",
     "text": [
      " ARIMA(0,1,0)(0,1,0)[12]             : AIC=314.753, Time=0.02 sec\n",
      " ARIMA(0,1,0)(0,1,1)[12]             : AIC=inf, Time=0.13 sec\n",
      " ARIMA(0,1,0)(0,1,2)[12]             : AIC=inf, Time=0.32 sec\n",
      " ARIMA(0,1,0)(1,1,0)[12]             : AIC=305.024, Time=0.04 sec\n",
      " ARIMA(0,1,0)(1,1,1)[12]             : AIC=inf, Time=0.24 sec\n",
      " ARIMA(0,1,0)(1,1,2)[12]             : AIC=inf, Time=0.51 sec\n",
      " ARIMA(0,1,0)(2,1,0)[12]             : AIC=305.141, Time=0.12 sec\n",
      " ARIMA(0,1,0)(2,1,1)[12]             : AIC=inf, Time=0.50 sec\n",
      " ARIMA(0,1,0)(2,1,2)[12]             : AIC=inf, Time=0.79 sec\n",
      " ARIMA(0,1,1)(0,1,0)[12]             : AIC=296.216, Time=0.03 sec\n",
      " ARIMA(0,1,1)(0,1,1)[12]             : AIC=inf, Time=0.14 sec\n",
      " ARIMA(0,1,1)(0,1,2)[12]             : AIC=inf, Time=0.35 sec\n",
      " ARIMA(0,1,1)(1,1,0)[12]             : AIC=287.596, Time=0.08 sec\n",
      " ARIMA(0,1,1)(1,1,1)[12]             : AIC=inf, Time=0.39 sec\n",
      " ARIMA(0,1,1)(1,1,2)[12]             : AIC=inf, Time=0.63 sec\n",
      " ARIMA(0,1,1)(2,1,0)[12]             : AIC=288.280, Time=0.23 sec\n",
      " ARIMA(0,1,1)(2,1,1)[12]             : AIC=inf, Time=0.63 sec\n",
      " ARIMA(0,1,1)(2,1,2)[12]             : AIC=inf, Time=0.73 sec\n",
      " ARIMA(0,1,2)(0,1,0)[12]             : AIC=297.794, Time=0.04 sec\n",
      " ARIMA(0,1,2)(0,1,1)[12]             : AIC=inf, Time=0.23 sec\n",
      " ARIMA(0,1,2)(0,1,2)[12]             : AIC=inf, Time=0.60 sec\n",
      " ARIMA(0,1,2)(1,1,0)[12]             : AIC=289.219, Time=0.08 sec\n",
      " ARIMA(0,1,2)(1,1,1)[12]             : AIC=inf, Time=0.35 sec\n",
      " ARIMA(0,1,2)(1,1,2)[12]             : AIC=inf, Time=0.73 sec\n",
      " ARIMA(0,1,2)(2,1,0)[12]             : AIC=290.076, Time=0.19 sec\n",
      " ARIMA(0,1,2)(2,1,1)[12]             : AIC=inf, Time=0.71 sec\n",
      " ARIMA(0,1,3)(0,1,0)[12]             : AIC=299.477, Time=0.05 sec\n",
      " ARIMA(0,1,3)(0,1,1)[12]             : AIC=inf, Time=0.31 sec\n",
      " ARIMA(0,1,3)(0,1,2)[12]             : AIC=inf, Time=0.71 sec\n",
      " ARIMA(0,1,3)(1,1,0)[12]             : AIC=inf, Time=0.28 sec\n",
      " ARIMA(0,1,3)(1,1,1)[12]             : AIC=inf, Time=0.45 sec\n",
      " ARIMA(0,1,3)(2,1,0)[12]             : AIC=inf, Time=0.64 sec\n",
      " ARIMA(0,1,4)(0,1,0)[12]             : AIC=inf, Time=0.23 sec\n",
      " ARIMA(0,1,4)(0,1,1)[12]             : AIC=inf, Time=0.40 sec\n",
      " ARIMA(0,1,4)(1,1,0)[12]             : AIC=inf, Time=0.36 sec\n",
      " ARIMA(0,1,5)(0,1,0)[12]             : AIC=inf, Time=0.26 sec\n",
      " ARIMA(1,1,0)(0,1,0)[12]             : AIC=308.035, Time=0.02 sec\n",
      " ARIMA(1,1,0)(0,1,1)[12]             : AIC=inf, Time=0.13 sec\n",
      " ARIMA(1,1,0)(0,1,2)[12]             : AIC=inf, Time=0.42 sec\n",
      " ARIMA(1,1,0)(1,1,0)[12]             : AIC=294.755, Time=0.06 sec\n",
      " ARIMA(1,1,0)(1,1,1)[12]             : AIC=inf, Time=0.25 sec\n",
      " ARIMA(1,1,0)(1,1,2)[12]             : AIC=inf, Time=0.65 sec\n",
      " ARIMA(1,1,0)(2,1,0)[12]             : AIC=295.163, Time=0.16 sec\n",
      " ARIMA(1,1,0)(2,1,1)[12]             : AIC=inf, Time=0.62 sec\n",
      " ARIMA(1,1,0)(2,1,2)[12]             : AIC=inf, Time=0.85 sec\n",
      " ARIMA(1,1,1)(0,1,0)[12]             : AIC=297.971, Time=0.05 sec\n",
      " ARIMA(1,1,1)(0,1,1)[12]             : AIC=inf, Time=0.27 sec\n",
      " ARIMA(1,1,1)(0,1,2)[12]             : AIC=289.698, Time=0.36 sec\n",
      " ARIMA(1,1,1)(1,1,0)[12]             : AIC=289.184, Time=0.09 sec\n",
      " ARIMA(1,1,1)(1,1,1)[12]             : AIC=inf, Time=0.29 sec\n",
      " ARIMA(1,1,1)(1,1,2)[12]             : AIC=inf, Time=0.62 sec\n",
      " ARIMA(1,1,1)(2,1,0)[12]             : AIC=290.015, Time=0.53 sec\n",
      " ARIMA(1,1,1)(2,1,1)[12]             : AIC=inf, Time=1.10 sec\n",
      " ARIMA(1,1,2)(0,1,0)[12]             : AIC=inf, Time=0.15 sec\n",
      " ARIMA(1,1,2)(0,1,1)[12]             : AIC=inf, Time=0.27 sec\n",
      " ARIMA(1,1,2)(0,1,2)[12]             : AIC=inf, Time=0.66 sec\n",
      " ARIMA(1,1,2)(1,1,0)[12]             : AIC=291.170, Time=0.12 sec\n",
      " ARIMA(1,1,2)(1,1,1)[12]             : AIC=inf, Time=0.58 sec\n",
      " ARIMA(1,1,2)(2,1,0)[12]             : AIC=292.013, Time=0.97 sec\n",
      " ARIMA(1,1,3)(0,1,0)[12]             : AIC=300.750, Time=0.17 sec\n",
      " ARIMA(1,1,3)(0,1,1)[12]             : AIC=inf, Time=0.97 sec\n",
      " ARIMA(1,1,3)(1,1,0)[12]             : AIC=inf, Time=0.80 sec\n",
      " ARIMA(1,1,4)(0,1,0)[12]             : AIC=inf, Time=0.58 sec\n",
      " ARIMA(2,1,0)(0,1,0)[12]             : AIC=295.786, Time=0.12 sec\n",
      " ARIMA(2,1,0)(0,1,1)[12]             : AIC=inf, Time=1.01 sec\n",
      " ARIMA(2,1,0)(0,1,2)[12]             : AIC=inf, Time=0.89 sec\n",
      " ARIMA(2,1,0)(1,1,0)[12]             : AIC=289.663, Time=0.09 sec\n",
      " ARIMA(2,1,0)(1,1,1)[12]             : AIC=inf, Time=1.08 sec\n",
      " ARIMA(2,1,0)(1,1,2)[12]             : AIC=292.533, Time=1.86 sec\n",
      " ARIMA(2,1,0)(2,1,0)[12]             : AIC=290.975, Time=0.20 sec\n",
      " ARIMA(2,1,0)(2,1,1)[12]             : AIC=inf, Time=0.83 sec\n",
      " ARIMA(2,1,1)(0,1,0)[12]             : AIC=297.091, Time=0.06 sec\n",
      " ARIMA(2,1,1)(0,1,1)[12]             : AIC=inf, Time=0.30 sec\n",
      " ARIMA(2,1,1)(0,1,2)[12]             : AIC=inf, Time=0.80 sec\n",
      " ARIMA(2,1,1)(1,1,0)[12]             : AIC=290.720, Time=0.14 sec\n",
      " ARIMA(2,1,1)(1,1,1)[12]             : AIC=inf, Time=0.48 sec\n",
      " ARIMA(2,1,1)(2,1,0)[12]             : AIC=292.007, Time=0.41 sec\n",
      " ARIMA(2,1,2)(0,1,0)[12]             : AIC=298.967, Time=0.08 sec\n",
      " ARIMA(2,1,2)(0,1,1)[12]             : AIC=inf, Time=0.56 sec\n",
      " ARIMA(2,1,2)(1,1,0)[12]             : AIC=292.696, Time=0.24 sec\n",
      " ARIMA(2,1,3)(0,1,0)[12]             : AIC=inf, Time=0.28 sec\n",
      " ARIMA(3,1,0)(0,1,0)[12]             : AIC=296.980, Time=0.05 sec\n",
      " ARIMA(3,1,0)(0,1,1)[12]             : AIC=inf, Time=0.35 sec\n",
      " ARIMA(3,1,0)(0,1,2)[12]             : AIC=inf, Time=0.71 sec\n",
      " ARIMA(3,1,0)(1,1,0)[12]             : AIC=290.447, Time=0.10 sec\n",
      " ARIMA(3,1,0)(1,1,1)[12]             : AIC=inf, Time=0.50 sec\n",
      " ARIMA(3,1,0)(2,1,0)[12]             : AIC=291.727, Time=0.29 sec\n",
      " ARIMA(3,1,1)(0,1,0)[12]             : AIC=inf, Time=0.18 sec\n",
      " ARIMA(3,1,1)(0,1,1)[12]             : AIC=inf, Time=0.48 sec\n",
      " ARIMA(3,1,1)(1,1,0)[12]             : AIC=inf, Time=0.44 sec\n",
      " ARIMA(3,1,2)(0,1,0)[12]             : AIC=300.592, Time=0.14 sec\n",
      " ARIMA(4,1,0)(0,1,0)[12]             : AIC=298.855, Time=0.07 sec\n",
      " ARIMA(4,1,0)(0,1,1)[12]             : AIC=inf, Time=0.51 sec\n",
      " ARIMA(4,1,0)(1,1,0)[12]             : AIC=292.143, Time=0.13 sec\n",
      " ARIMA(4,1,1)(0,1,0)[12]             : AIC=inf, Time=0.25 sec\n",
      " ARIMA(5,1,0)(0,1,0)[12]             : AIC=300.743, Time=0.07 sec\n",
      "\n",
      "Best model:  ARIMA(0,1,1)(1,1,0)[12]          \n",
      "Total fit time: 38.072 seconds\n"
     ]
    }
   ],
   "source": [
    "stepwise_model = auto_arima(y, start_p=1, start_q=1, max_p=6, max_q=6, m=12, start_P=0, d=1, D=1, trace=True, \n",
    "                            error_action='ignore', suppress_warnings=True, stepwise=False)"
   ]
  },
  {
   "cell_type": "code",
   "execution_count": 215,
   "id": "7df9faab",
   "metadata": {},
   "outputs": [
    {
     "data": {
      "text/html": [
       "<table class=\"simpletable\">\n",
       "<caption>SARIMAX Results</caption>\n",
       "<tr>\n",
       "  <th>Dep. Variable:</th>                  <td>y</td>                <th>  No. Observations:  </th>    <td>50</td>   \n",
       "</tr>\n",
       "<tr>\n",
       "  <th>Model:</th>           <td>SARIMAX(0, 1, 1)x(1, 1, [], 12)</td> <th>  Log Likelihood     </th> <td>-140.798</td>\n",
       "</tr>\n",
       "<tr>\n",
       "  <th>Date:</th>                   <td>Tue, 16 Nov 2021</td>         <th>  AIC                </th>  <td>287.596</td>\n",
       "</tr>\n",
       "<tr>\n",
       "  <th>Time:</th>                       <td>23:41:35</td>             <th>  BIC                </th>  <td>292.429</td>\n",
       "</tr>\n",
       "<tr>\n",
       "  <th>Sample:</th>                         <td>0</td>                <th>  HQIC               </th>  <td>289.300</td>\n",
       "</tr>\n",
       "<tr>\n",
       "  <th></th>                              <td> - 50</td>              <th>                     </th>     <td> </td>   \n",
       "</tr>\n",
       "<tr>\n",
       "  <th>Covariance Type:</th>               <td>opg</td>               <th>                     </th>     <td> </td>   \n",
       "</tr>\n",
       "</table>\n",
       "<table class=\"simpletable\">\n",
       "<tr>\n",
       "      <td></td>        <th>coef</th>     <th>std err</th>      <th>z</th>      <th>P>|z|</th>  <th>[0.025</th>    <th>0.975]</th>  \n",
       "</tr>\n",
       "<tr>\n",
       "  <th>ma.L1</th>    <td>   -0.8892</td> <td>    0.163</td> <td>   -5.460</td> <td> 0.000</td> <td>   -1.208</td> <td>   -0.570</td>\n",
       "</tr>\n",
       "<tr>\n",
       "  <th>ar.S.L12</th> <td>   -0.5759</td> <td>    0.141</td> <td>   -4.099</td> <td> 0.000</td> <td>   -0.851</td> <td>   -0.301</td>\n",
       "</tr>\n",
       "<tr>\n",
       "  <th>sigma2</th>   <td>   98.7797</td> <td>   27.323</td> <td>    3.615</td> <td> 0.000</td> <td>   45.228</td> <td>  152.331</td>\n",
       "</tr>\n",
       "</table>\n",
       "<table class=\"simpletable\">\n",
       "<tr>\n",
       "  <th>Ljung-Box (L1) (Q):</th>     <td>0.07</td> <th>  Jarque-Bera (JB):  </th> <td>0.35</td>\n",
       "</tr>\n",
       "<tr>\n",
       "  <th>Prob(Q):</th>                <td>0.79</td> <th>  Prob(JB):          </th> <td>0.84</td>\n",
       "</tr>\n",
       "<tr>\n",
       "  <th>Heteroskedasticity (H):</th> <td>0.39</td> <th>  Skew:              </th> <td>0.14</td>\n",
       "</tr>\n",
       "<tr>\n",
       "  <th>Prob(H) (two-sided):</th>    <td>0.12</td> <th>  Kurtosis:          </th> <td>2.62</td>\n",
       "</tr>\n",
       "</table><br/><br/>Warnings:<br/>[1] Covariance matrix calculated using the outer product of gradients (complex-step)."
      ],
      "text/plain": [
       "<class 'statsmodels.iolib.summary.Summary'>\n",
       "\"\"\"\n",
       "                                      SARIMAX Results                                      \n",
       "===========================================================================================\n",
       "Dep. Variable:                                   y   No. Observations:                   50\n",
       "Model:             SARIMAX(0, 1, 1)x(1, 1, [], 12)   Log Likelihood                -140.798\n",
       "Date:                             Tue, 16 Nov 2021   AIC                            287.596\n",
       "Time:                                     23:41:35   BIC                            292.429\n",
       "Sample:                                          0   HQIC                           289.300\n",
       "                                              - 50                                         \n",
       "Covariance Type:                               opg                                         \n",
       "==============================================================================\n",
       "                 coef    std err          z      P>|z|      [0.025      0.975]\n",
       "------------------------------------------------------------------------------\n",
       "ma.L1         -0.8892      0.163     -5.460      0.000      -1.208      -0.570\n",
       "ar.S.L12      -0.5759      0.141     -4.099      0.000      -0.851      -0.301\n",
       "sigma2        98.7797     27.323      3.615      0.000      45.228     152.331\n",
       "===================================================================================\n",
       "Ljung-Box (L1) (Q):                   0.07   Jarque-Bera (JB):                 0.35\n",
       "Prob(Q):                              0.79   Prob(JB):                         0.84\n",
       "Heteroskedasticity (H):               0.39   Skew:                             0.14\n",
       "Prob(H) (two-sided):                  0.12   Kurtosis:                         2.62\n",
       "===================================================================================\n",
       "\n",
       "Warnings:\n",
       "[1] Covariance matrix calculated using the outer product of gradients (complex-step).\n",
       "\"\"\""
      ]
     },
     "execution_count": 215,
     "metadata": {},
     "output_type": "execute_result"
    }
   ],
   "source": [
    "stepwise_model.summary()"
   ]
  },
  {
   "cell_type": "code",
   "execution_count": 172,
   "id": "d2b5ca5c",
   "metadata": {},
   "outputs": [
    {
     "data": {
      "text/plain": [
       "Date\n",
       "2021-01-01   -10\n",
       "2021-02-01     4\n",
       "2021-03-01   -10\n",
       "2021-04-01    -8\n",
       "2021-05-01    -6\n",
       "Name: Category, dtype: int64"
      ]
     },
     "execution_count": 172,
     "metadata": {},
     "output_type": "execute_result"
    }
   ],
   "source": [
    "testAA.head()"
   ]
  },
  {
   "cell_type": "code",
   "execution_count": 216,
   "id": "6dbd3ace",
   "metadata": {},
   "outputs": [],
   "source": [
    "train = separate_analisys_test(y, 12)[0]\n",
    "testAA = separate_analisys_test(y, 12)[1]"
   ]
  },
  {
   "cell_type": "code",
   "execution_count": 217,
   "id": "fba65351",
   "metadata": {},
   "outputs": [
    {
     "data": {
      "text/plain": [
       "ARIMA(order=(0, 1, 1), scoring_args={}, seasonal_order=(1, 1, 0, 12),\n",
       "      suppress_warnings=True, with_intercept=False)"
      ]
     },
     "execution_count": 217,
     "metadata": {},
     "output_type": "execute_result"
    }
   ],
   "source": [
    "stepwise_model.fit(train)"
   ]
  },
  {
   "cell_type": "code",
   "execution_count": 218,
   "id": "957a5c1c",
   "metadata": {},
   "outputs": [],
   "source": [
    "feature_forecast = stepwise_model.predict(n_periods=12)"
   ]
  },
  {
   "cell_type": "code",
   "execution_count": 219,
   "id": "c18d3bba",
   "metadata": {},
   "outputs": [],
   "source": [
    "feature_forecast = pd.DataFrame(feature_forecast, index=testAA.index, columns=['Category'])"
   ]
  },
  {
   "cell_type": "code",
   "execution_count": 220,
   "id": "ed881bff",
   "metadata": {},
   "outputs": [
    {
     "data": {
      "text/plain": [
       "<AxesSubplot:xlabel='Date'>"
      ]
     },
     "execution_count": 220,
     "metadata": {},
     "output_type": "execute_result"
    },
    {
     "data": {
      "image/png": "[encoded data removed]",
      "text/plain": [
       "<Figure size 1080x432 with 1 Axes>"
      ]
     },
     "metadata": {
      "needs_background": "light"
     },
     "output_type": "display_data"
    }
   ],
   "source": [
    "pd.concat({'test': testAA, 'pred': feature_forecast}, axis=1).plot()"
   ]
  },
  {
   "cell_type": "code",
   "execution_count": 221,
   "id": "c907a0d2",
   "metadata": {},
   "outputs": [
    {
     "data": {
      "image/png": "[encoded data removed]",
      "text/plain": [
       "<Figure size 1080x432 with 1 Axes>"
      ]
     },
     "metadata": {
      "needs_background": "light"
     },
     "output_type": "display_data"
    }
   ],
   "source": [
    "pd.concat({'data': y, 'pred': feature_forecast}, axis=1).plot()\n",
    "plt.show()"
   ]
  },
  {
   "cell_type": "code",
   "execution_count": null,
   "id": "92a6e3a6",
   "metadata": {},
   "outputs": [],
   "source": []
  }
 ],
 "metadata": {
  "kernelspec": {
   "display_name": "Python 3",
   "language": "python",
   "name": "python3"
  },
  "language_info": {
   "codemirror_mode": {
    "name": "ipython",
    "version": 3
   },
   "file_extension": ".py",
   "mimetype": "text/x-python",
   "name": "python",
   "nbconvert_exporter": "python",
   "pygments_lexer": "ipython3",
   "version": "3.8.8"
  }
 },
 "nbformat": 4,
 "nbformat_minor": 5
}

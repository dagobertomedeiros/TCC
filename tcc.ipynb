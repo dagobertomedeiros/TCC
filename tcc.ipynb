{
  "nbformat": 4,
  "nbformat_minor": 0,
  "metadata": {
    "colab": {
      "name": "tcc.ipynb",
      "provenance": [],
      "authorship_tag": "ABX9TyNDfKuFg+GdLn9czUVIbQ3D",
      "include_colab_link": true
    },
    "kernelspec": {
      "name": "python3",
      "display_name": "Python 3"
    },
    "language_info": {
      "name": "python"
    }
  },
  "cells": [
    {
      "cell_type": "markdown",
      "metadata": {
        "id": "view-in-github",
        "colab_type": "text"
      },
      "source": [
        "<a href=\"https://colab.research.google.com/github/dagobertomedeiros/TCC/blob/main/tcc.ipynb\" target=\"_parent\"><img src=\"https://colab.research.google.com/assets/colab-badge.svg\" alt=\"Open In Colab\"/></a>"
      ]
    },
    {
      "cell_type": "code",
      "metadata": {
        "colab": {
          "base_uri": "https://localhost:8080/"
        },
        "id": "oU4zKk7Zm9TZ",
        "outputId": "da587763-f95c-488a-80a8-a0bd13331aed"
      },
      "source": [
        "import pandas as pd\n",
        "from statsmodels.tsa.seasonal import seasonal_decompose\n",
        "import matplotlib.pyplot as plt\n",
        "from matplotlib.pylab import rcParams\n",
        "import seaborn as sns\n",
        "from datetime import datetime\n",
        "import numpy as np"
      ],
      "execution_count": 1,
      "outputs": [
        {
          "output_type": "stream",
          "name": "stderr",
          "text": [
            "/usr/local/lib/python3.7/dist-packages/statsmodels/tools/_testing.py:19: FutureWarning: pandas.util.testing is deprecated. Use the functions in the public API at pandas.testing instead.\n",
            "  import pandas.util.testing as tm\n"
          ]
        }
      ]
    },
    {
      "cell_type": "markdown",
      "metadata": {
        "id": "GIYtCOpznMS7"
      },
      "source": [
        "#Tarefas:\n",
        "###- Importar dados novamente, tentar filtrar por mês (parâmetro interval=\"1m\")\n",
        "###- Testar isolar a sazonalidade de uma ou duas empresas\n",
        "###- Aplicar aguns conceitos para TS\n",
        "###- Avaliar resultados e avançar"
      ]
    },
    {
      "cell_type": "code",
      "metadata": {
        "id": "V26dlTosnvKh"
      },
      "source": [
        ""
      ],
      "execution_count": null,
      "outputs": []
    }
  ]
}